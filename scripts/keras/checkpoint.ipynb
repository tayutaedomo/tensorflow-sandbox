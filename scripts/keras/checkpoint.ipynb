{
 "cells": [
  {
   "cell_type": "markdown",
   "metadata": {},
   "source": [
    "## tfkeras でモデルの保存と復元を試す\n",
    "- Reference\n",
    "  - https://www.tensorflow.org/tutorials/keras/save_and_load?hl=ja"
   ]
  },
  {
   "cell_type": "code",
   "execution_count": 2,
   "metadata": {},
   "outputs": [],
   "source": [
    "#!pip install -q h5py pyyaml "
   ]
  },
  {
   "cell_type": "code",
   "execution_count": 3,
   "metadata": {},
   "outputs": [
    {
     "data": {
      "text/plain": [
       "'2.0.0'"
      ]
     },
     "execution_count": 3,
     "metadata": {},
     "output_type": "execute_result"
    }
   ],
   "source": [
    "from __future__ import absolute_import, division, print_function, unicode_literals\n",
    "\n",
    "import os\n",
    "\n",
    "import tensorflow as tf\n",
    "from tensorflow import keras\n",
    "\n",
    "tf.__version__"
   ]
  },
  {
   "cell_type": "code",
   "execution_count": 6,
   "metadata": {},
   "outputs": [
    {
     "name": "stdout",
     "output_type": "stream",
     "text": [
      "(60000, 28, 28)\n",
      "(1000, 784)\n"
     ]
    }
   ],
   "source": [
    "(train_images, train_labels), (test_images, test_labels) = tf.keras.datasets.mnist.load_data()\n",
    "\n",
    "train_labels = train_labels[:1000]\n",
    "test_labels = test_labels[:1000]\n",
    "\n",
    "print(train_images.shape)\n",
    "\n",
    "train_images = train_images[:1000].reshape(-1, 28 * 28) / 255.0\n",
    "test_images = test_images[:1000].reshape(-1, 28 * 28) / 255.0\n",
    "\n",
    "print(train_images.shape)"
   ]
  },
  {
   "cell_type": "code",
   "execution_count": 7,
   "metadata": {},
   "outputs": [
    {
     "name": "stdout",
     "output_type": "stream",
     "text": [
      "Model: \"sequential\"\n",
      "_________________________________________________________________\n",
      "Layer (type)                 Output Shape              Param #   \n",
      "=================================================================\n",
      "dense (Dense)                (None, 512)               401920    \n",
      "_________________________________________________________________\n",
      "dropout (Dropout)            (None, 512)               0         \n",
      "_________________________________________________________________\n",
      "dense_1 (Dense)              (None, 10)                5130      \n",
      "=================================================================\n",
      "Total params: 407,050\n",
      "Trainable params: 407,050\n",
      "Non-trainable params: 0\n",
      "_________________________________________________________________\n"
     ]
    }
   ],
   "source": [
    "def create_model():\n",
    "  model = tf.keras.models.Sequential([\n",
    "    keras.layers.Dense(512, activation='relu', input_shape=(784,)),\n",
    "    keras.layers.Dropout(0.2),\n",
    "    keras.layers.Dense(10, activation='softmax')\n",
    "  ])\n",
    "\n",
    "  model.compile(optimizer='adam', \n",
    "                loss='sparse_categorical_crossentropy',\n",
    "                metrics=['accuracy'])\n",
    "\n",
    "  return model\n",
    "\n",
    "\n",
    "model = create_model()\n",
    "model.summary()"
   ]
  },
  {
   "cell_type": "code",
   "execution_count": 8,
   "metadata": {},
   "outputs": [
    {
     "name": "stdout",
     "output_type": "stream",
     "text": [
      "Train on 1000 samples, validate on 1000 samples\n",
      "Epoch 1/10\n",
      " 672/1000 [===================>..........] - ETA: 0s - loss: 1.4153 - accuracy: 0.6057 \n",
      "Epoch 00001: saving model to data/training_1/cp.ckpt\n",
      "1000/1000 [==============================] - 1s 807us/sample - loss: 1.1869 - accuracy: 0.6660 - val_loss: 0.7677 - val_accuracy: 0.7490\n",
      "Epoch 2/10\n",
      " 608/1000 [=================>............] - ETA: 0s - loss: 0.4849 - accuracy: 0.8618\n",
      "Epoch 00002: saving model to data/training_1/cp.ckpt\n",
      "1000/1000 [==============================] - 0s 164us/sample - loss: 0.4405 - accuracy: 0.8770 - val_loss: 0.5247 - val_accuracy: 0.8330\n",
      "Epoch 3/10\n",
      " 672/1000 [===================>..........] - ETA: 0s - loss: 0.2819 - accuracy: 0.9315\n",
      "Epoch 00003: saving model to data/training_1/cp.ckpt\n",
      "1000/1000 [==============================] - 0s 155us/sample - loss: 0.2933 - accuracy: 0.9250 - val_loss: 0.4760 - val_accuracy: 0.8530\n",
      "Epoch 4/10\n",
      " 640/1000 [==================>...........] - ETA: 0s - loss: 0.2223 - accuracy: 0.9453\n",
      "Epoch 00004: saving model to data/training_1/cp.ckpt\n",
      "1000/1000 [==============================] - 0s 163us/sample - loss: 0.2196 - accuracy: 0.9510 - val_loss: 0.4545 - val_accuracy: 0.8530\n",
      "Epoch 5/10\n",
      " 640/1000 [==================>...........] - ETA: 0s - loss: 0.1859 - accuracy: 0.9547\n",
      "Epoch 00005: saving model to data/training_1/cp.ckpt\n",
      "1000/1000 [==============================] - 0s 164us/sample - loss: 0.1684 - accuracy: 0.9630 - val_loss: 0.4096 - val_accuracy: 0.8760\n",
      "Epoch 6/10\n",
      " 608/1000 [=================>............] - ETA: 0s - loss: 0.1156 - accuracy: 0.9786\n",
      "Epoch 00006: saving model to data/training_1/cp.ckpt\n",
      "1000/1000 [==============================] - 0s 161us/sample - loss: 0.1123 - accuracy: 0.9770 - val_loss: 0.4185 - val_accuracy: 0.8760\n",
      "Epoch 7/10\n",
      " 640/1000 [==================>...........] - ETA: 0s - loss: 0.0900 - accuracy: 0.9875\n",
      "Epoch 00007: saving model to data/training_1/cp.ckpt\n",
      "1000/1000 [==============================] - 0s 161us/sample - loss: 0.0920 - accuracy: 0.9890 - val_loss: 0.4159 - val_accuracy: 0.8610\n",
      "Epoch 8/10\n",
      " 608/1000 [=================>............] - ETA: 0s - loss: 0.0713 - accuracy: 0.9852\n",
      "Epoch 00008: saving model to data/training_1/cp.ckpt\n",
      "1000/1000 [==============================] - 0s 161us/sample - loss: 0.0678 - accuracy: 0.9890 - val_loss: 0.4059 - val_accuracy: 0.8700\n",
      "Epoch 9/10\n",
      " 608/1000 [=================>............] - ETA: 0s - loss: 0.0489 - accuracy: 0.9984\n",
      "Epoch 00009: saving model to data/training_1/cp.ckpt\n",
      "1000/1000 [==============================] - 0s 161us/sample - loss: 0.0505 - accuracy: 0.9950 - val_loss: 0.3879 - val_accuracy: 0.8720\n",
      "Epoch 10/10\n",
      " 640/1000 [==================>...........] - ETA: 0s - loss: 0.0365 - accuracy: 0.9984\n",
      "Epoch 00010: saving model to data/training_1/cp.ckpt\n",
      "1000/1000 [==============================] - 0s 167us/sample - loss: 0.0389 - accuracy: 0.9980 - val_loss: 0.3940 - val_accuracy: 0.8740\n"
     ]
    },
    {
     "data": {
      "text/plain": [
       "<tensorflow.python.keras.callbacks.History at 0x13f750850>"
      ]
     },
     "execution_count": 8,
     "metadata": {},
     "output_type": "execute_result"
    }
   ],
   "source": [
    "checkpoint_path = \"data/training_1/cp.ckpt\"\n",
    "checkpoint_dir = os.path.dirname(checkpoint_path)\n",
    "\n",
    "cp_callback = tf.keras.callbacks.ModelCheckpoint(checkpoint_path, \n",
    "                                                 save_weights_only=True,\n",
    "                                                 verbose=1)\n",
    "\n",
    "model = create_model()\n",
    "\n",
    "model.fit(train_images,\n",
    "          train_labels,\n",
    "          epochs = 10, \n",
    "          validation_data = (test_images, test_labels),\n",
    "          callbacks = [cp_callback])"
   ]
  },
  {
   "cell_type": "code",
   "execution_count": 9,
   "metadata": {},
   "outputs": [
    {
     "name": "stdout",
     "output_type": "stream",
     "text": [
      "1000/1 - 0s - loss: 2.3838 - accuracy: 0.1680\n",
      "Untrained model, accuracy: 16.80%\n"
     ]
    }
   ],
   "source": [
    "model = create_model()\n",
    "\n",
    "loss, acc = model.evaluate(test_images,  test_labels, verbose=2)\n",
    "print(\"Untrained model, accuracy: {:5.2f}%\".format(100*acc))"
   ]
  },
  {
   "cell_type": "code",
   "execution_count": 10,
   "metadata": {},
   "outputs": [
    {
     "name": "stdout",
     "output_type": "stream",
     "text": [
      "1000/1 - 0s - loss: 0.4808 - accuracy: 0.8740\n",
      "Restored model, accuracy: 87.40%\n"
     ]
    }
   ],
   "source": [
    "model.load_weights(checkpoint_path)\n",
    "\n",
    "loss,acc = model.evaluate(test_images,  test_labels, verbose=2)\n",
    "print(\"Restored model, accuracy: {:5.2f}%\".format(100*acc))"
   ]
  },
  {
   "cell_type": "markdown",
   "metadata": {},
   "source": [
    "### オプション"
   ]
  },
  {
   "cell_type": "code",
   "execution_count": null,
   "metadata": {},
   "outputs": [],
   "source": []
  }
 ],
 "metadata": {
  "kernelspec": {
   "display_name": "Python 3",
   "language": "python",
   "name": "python3"
  },
  "language_info": {
   "codemirror_mode": {
    "name": "ipython",
    "version": 3
   },
   "file_extension": ".py",
   "mimetype": "text/x-python",
   "name": "python",
   "nbconvert_exporter": "python",
   "pygments_lexer": "ipython3",
   "version": "3.7.4"
  }
 },
 "nbformat": 4,
 "nbformat_minor": 4
}
