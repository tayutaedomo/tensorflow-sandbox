{
 "cells": [
  {
   "cell_type": "markdown",
   "metadata": {},
   "source": [
    "Reference: https://qiita.com/sasayabaku/items/b7872a3b8acc7d6261bf"
   ]
  },
  {
   "cell_type": "code",
   "execution_count": 1,
   "metadata": {},
   "outputs": [],
   "source": [
    "from tensorflow.keras.models import Sequential\n",
    "from tensorflow.keras.layers import Dense, Activation\n",
    "from tensorflow.keras.layers import LSTM\n",
    "from tensorflow.keras.optimizers import Adam\n",
    "from tensorflow.keras.callbacks import EarlyStopping\n",
    "import numpy as np\n",
    "import matplotlib.pyplot as plt"
   ]
  },
  {
   "cell_type": "code",
   "execution_count": 2,
   "metadata": {},
   "outputs": [],
   "source": [
    "def sin(x, T=100):\n",
    "    return np.sin(2.0 * np.pi * x / T)"
   ]
  },
  {
   "cell_type": "code",
   "execution_count": 3,
   "metadata": {},
   "outputs": [],
   "source": [
    "# sin波にノイズを付与する\n",
    "def toy_problem(T=100, ampl=0.05):\n",
    "    x = np.arange(0, 2 * T + 1)\n",
    "    noise = ampl * np.random.uniform(low=-1.0, high=1.0, size=len(x))\n",
    "    return sin(x) + noise"
   ]
  },
  {
   "cell_type": "code",
   "execution_count": 4,
   "metadata": {},
   "outputs": [],
   "source": [
    "f = toy_problem()"
   ]
  },
  {
   "cell_type": "code",
   "execution_count": 5,
   "metadata": {},
   "outputs": [
    {
     "data": {
      "text/plain": [
       "array([-0.01193682,  0.11267561,  0.14199647,  0.16555451,  0.19886137,\n",
       "        0.31630199,  0.35251922,  0.40271302,  0.48671221,  0.56576344,\n",
       "        0.62410516,  0.63947192,  0.68877586,  0.74403342,  0.79650712,\n",
       "        0.77839007,  0.88825983,  0.85449988,  0.88583114,  0.92505868,\n",
       "        0.95187381,  0.95301373,  0.94525834,  1.01465892,  0.9914845 ,\n",
       "        1.04695749,  0.96063397,  0.99140423,  0.95274369,  1.00643078,\n",
       "        0.95760153,  0.91212627,  0.93495445,  0.91320943,  0.810966  ,\n",
       "        0.83381369,  0.72309191,  0.75688181,  0.68566248,  0.6611494 ,\n",
       "        0.61712537,  0.4992037 ,  0.47601527,  0.40427508,  0.37098485,\n",
       "        0.33093935,  0.2572944 ,  0.21371934,  0.16438919,  0.06939626,\n",
       "       -0.01224426, -0.08903773, -0.14330899, -0.13933668, -0.27513388,\n",
       "       -0.29284816, -0.39648634, -0.44318794, -0.51893781, -0.54322375,\n",
       "       -0.62828833, -0.65922667, -0.68004001, -0.76395488, -0.75919752,\n",
       "       -0.84235994, -0.88947456, -0.86876275, -0.93142037, -0.94479728,\n",
       "       -0.90166229, -0.95310329, -1.01551866, -1.04082269, -1.03069809,\n",
       "       -0.98541434, -0.9802411 , -0.97902046, -1.00405857, -1.01291922,\n",
       "       -0.95086866, -0.9401523 , -0.8762277 , -0.88956688, -0.84843762,\n",
       "       -0.82424176, -0.81911532, -0.70607119, -0.72218137, -0.58825046,\n",
       "       -0.60612307, -0.56834876, -0.46958017, -0.46396786, -0.34060862,\n",
       "       -0.34557929, -0.22716442, -0.15584951, -0.09992983, -0.05734995,\n",
       "        0.00640365,  0.02524   ,  0.16001736,  0.19168925,  0.26921122,\n",
       "        0.27272106,  0.34429114,  0.4087955 ,  0.45075067,  0.58334763,\n",
       "        0.54372067,  0.68445362,  0.64849494,  0.74327926,  0.72969104,\n",
       "        0.80143296,  0.8687537 ,  0.8310228 ,  0.91888246,  0.95901041,\n",
       "        0.92300202,  0.92062707,  0.95455703,  0.99007312,  0.98128172,\n",
       "        1.0068757 ,  1.03869713,  1.01038509,  1.00735875,  0.93683669,\n",
       "        0.9220534 ,  0.96470266,  0.91715992,  0.90028878,  0.86170065,\n",
       "        0.78898368,  0.77549964,  0.71959852,  0.71750786,  0.65096868,\n",
       "        0.60270919,  0.54314972,  0.5022747 ,  0.42387739,  0.41177871,\n",
       "        0.30724211,  0.29180173,  0.15164868,  0.142684  ,  0.08767141,\n",
       "        0.00388433, -0.02871816, -0.09589309, -0.22575853, -0.20251462,\n",
       "       -0.28448837, -0.35450782, -0.46600136, -0.46127466, -0.536248  ,\n",
       "       -0.5859304 , -0.60849272, -0.6412488 , -0.72366839, -0.81550598,\n",
       "       -0.83701793, -0.83616008, -0.88303742, -0.91725566, -0.88738798,\n",
       "       -0.94039136, -0.92540681, -1.01208854, -1.00888853, -1.02185926,\n",
       "       -0.99950483, -1.03071334, -0.9433921 , -0.98206787, -0.93776876,\n",
       "       -0.99437495, -0.88329908, -0.87072419, -0.90459044, -0.79963241,\n",
       "       -0.85706216, -0.81678317, -0.70691307, -0.70435629, -0.65851773,\n",
       "       -0.55305635, -0.55362997, -0.51231453, -0.41102409, -0.39599511,\n",
       "       -0.33267815, -0.23083245, -0.18753457, -0.14597901, -0.01783332,\n",
       "       -0.04773016])"
      ]
     },
     "execution_count": 5,
     "metadata": {},
     "output_type": "execute_result"
    }
   ],
   "source": [
    "f"
   ]
  },
  {
   "cell_type": "code",
   "execution_count": 38,
   "metadata": {},
   "outputs": [],
   "source": [
    "def make_dataset(low_data, n_prev=100, maxlen=25):\n",
    "    data, target = [], []\n",
    "    maxlen = 25\n",
    "\n",
    "    for i in range(len(low_data)-maxlen):\n",
    "        data.append(low_data[i:i + maxlen])\n",
    "        target.append(low_data[i + maxlen])\n",
    "\n",
    "    re_data = np.array(data).reshape(len(data), maxlen, 1)\n",
    "    re_target = np.array(target).reshape(len(data), 1)\n",
    "\n",
    "    return re_data, re_target"
   ]
  },
  {
   "cell_type": "code",
   "execution_count": 7,
   "metadata": {},
   "outputs": [],
   "source": [
    "#g -> 学習データ， h -> 学習ラベル\n",
    "g, h = make_dataset(f)"
   ]
  },
  {
   "cell_type": "code",
   "execution_count": 10,
   "metadata": {},
   "outputs": [
    {
     "name": "stdout",
     "output_type": "stream",
     "text": [
      "(176, 25, 1)\n"
     ]
    },
    {
     "data": {
      "text/plain": [
       "array([[[-0.01193682],\n",
       "        [ 0.11267561],\n",
       "        [ 0.14199647],\n",
       "        ...,\n",
       "        [ 0.94525834],\n",
       "        [ 1.01465892],\n",
       "        [ 0.9914845 ]],\n",
       "\n",
       "       [[ 0.11267561],\n",
       "        [ 0.14199647],\n",
       "        [ 0.16555451],\n",
       "        ...,\n",
       "        [ 1.01465892],\n",
       "        [ 0.9914845 ],\n",
       "        [ 1.04695749]],\n",
       "\n",
       "       [[ 0.14199647],\n",
       "        [ 0.16555451],\n",
       "        [ 0.19886137],\n",
       "        ...,\n",
       "        [ 0.9914845 ],\n",
       "        [ 1.04695749],\n",
       "        [ 0.96063397]],\n",
       "\n",
       "       ...,\n",
       "\n",
       "       [[-1.00888853],\n",
       "        [-1.02185926],\n",
       "        [-0.99950483],\n",
       "        ...,\n",
       "        [-0.33267815],\n",
       "        [-0.23083245],\n",
       "        [-0.18753457]],\n",
       "\n",
       "       [[-1.02185926],\n",
       "        [-0.99950483],\n",
       "        [-1.03071334],\n",
       "        ...,\n",
       "        [-0.23083245],\n",
       "        [-0.18753457],\n",
       "        [-0.14597901]],\n",
       "\n",
       "       [[-0.99950483],\n",
       "        [-1.03071334],\n",
       "        [-0.9433921 ],\n",
       "        ...,\n",
       "        [-0.18753457],\n",
       "        [-0.14597901],\n",
       "        [-0.01783332]]])"
      ]
     },
     "execution_count": 10,
     "metadata": {},
     "output_type": "execute_result"
    }
   ],
   "source": [
    "print(g.shape)\n",
    "g"
   ]
  },
  {
   "cell_type": "code",
   "execution_count": 11,
   "metadata": {},
   "outputs": [
    {
     "name": "stdout",
     "output_type": "stream",
     "text": [
      "(176, 1)\n"
     ]
    },
    {
     "data": {
      "text/plain": [
       "array([[ 1.04695749],\n",
       "       [ 0.96063397],\n",
       "       [ 0.99140423],\n",
       "       [ 0.95274369],\n",
       "       [ 1.00643078],\n",
       "       [ 0.95760153],\n",
       "       [ 0.91212627],\n",
       "       [ 0.93495445],\n",
       "       [ 0.91320943],\n",
       "       [ 0.810966  ],\n",
       "       [ 0.83381369],\n",
       "       [ 0.72309191],\n",
       "       [ 0.75688181],\n",
       "       [ 0.68566248],\n",
       "       [ 0.6611494 ],\n",
       "       [ 0.61712537],\n",
       "       [ 0.4992037 ],\n",
       "       [ 0.47601527],\n",
       "       [ 0.40427508],\n",
       "       [ 0.37098485],\n",
       "       [ 0.33093935],\n",
       "       [ 0.2572944 ],\n",
       "       [ 0.21371934],\n",
       "       [ 0.16438919],\n",
       "       [ 0.06939626],\n",
       "       [-0.01224426],\n",
       "       [-0.08903773],\n",
       "       [-0.14330899],\n",
       "       [-0.13933668],\n",
       "       [-0.27513388],\n",
       "       [-0.29284816],\n",
       "       [-0.39648634],\n",
       "       [-0.44318794],\n",
       "       [-0.51893781],\n",
       "       [-0.54322375],\n",
       "       [-0.62828833],\n",
       "       [-0.65922667],\n",
       "       [-0.68004001],\n",
       "       [-0.76395488],\n",
       "       [-0.75919752],\n",
       "       [-0.84235994],\n",
       "       [-0.88947456],\n",
       "       [-0.86876275],\n",
       "       [-0.93142037],\n",
       "       [-0.94479728],\n",
       "       [-0.90166229],\n",
       "       [-0.95310329],\n",
       "       [-1.01551866],\n",
       "       [-1.04082269],\n",
       "       [-1.03069809],\n",
       "       [-0.98541434],\n",
       "       [-0.9802411 ],\n",
       "       [-0.97902046],\n",
       "       [-1.00405857],\n",
       "       [-1.01291922],\n",
       "       [-0.95086866],\n",
       "       [-0.9401523 ],\n",
       "       [-0.8762277 ],\n",
       "       [-0.88956688],\n",
       "       [-0.84843762],\n",
       "       [-0.82424176],\n",
       "       [-0.81911532],\n",
       "       [-0.70607119],\n",
       "       [-0.72218137],\n",
       "       [-0.58825046],\n",
       "       [-0.60612307],\n",
       "       [-0.56834876],\n",
       "       [-0.46958017],\n",
       "       [-0.46396786],\n",
       "       [-0.34060862],\n",
       "       [-0.34557929],\n",
       "       [-0.22716442],\n",
       "       [-0.15584951],\n",
       "       [-0.09992983],\n",
       "       [-0.05734995],\n",
       "       [ 0.00640365],\n",
       "       [ 0.02524   ],\n",
       "       [ 0.16001736],\n",
       "       [ 0.19168925],\n",
       "       [ 0.26921122],\n",
       "       [ 0.27272106],\n",
       "       [ 0.34429114],\n",
       "       [ 0.4087955 ],\n",
       "       [ 0.45075067],\n",
       "       [ 0.58334763],\n",
       "       [ 0.54372067],\n",
       "       [ 0.68445362],\n",
       "       [ 0.64849494],\n",
       "       [ 0.74327926],\n",
       "       [ 0.72969104],\n",
       "       [ 0.80143296],\n",
       "       [ 0.8687537 ],\n",
       "       [ 0.8310228 ],\n",
       "       [ 0.91888246],\n",
       "       [ 0.95901041],\n",
       "       [ 0.92300202],\n",
       "       [ 0.92062707],\n",
       "       [ 0.95455703],\n",
       "       [ 0.99007312],\n",
       "       [ 0.98128172],\n",
       "       [ 1.0068757 ],\n",
       "       [ 1.03869713],\n",
       "       [ 1.01038509],\n",
       "       [ 1.00735875],\n",
       "       [ 0.93683669],\n",
       "       [ 0.9220534 ],\n",
       "       [ 0.96470266],\n",
       "       [ 0.91715992],\n",
       "       [ 0.90028878],\n",
       "       [ 0.86170065],\n",
       "       [ 0.78898368],\n",
       "       [ 0.77549964],\n",
       "       [ 0.71959852],\n",
       "       [ 0.71750786],\n",
       "       [ 0.65096868],\n",
       "       [ 0.60270919],\n",
       "       [ 0.54314972],\n",
       "       [ 0.5022747 ],\n",
       "       [ 0.42387739],\n",
       "       [ 0.41177871],\n",
       "       [ 0.30724211],\n",
       "       [ 0.29180173],\n",
       "       [ 0.15164868],\n",
       "       [ 0.142684  ],\n",
       "       [ 0.08767141],\n",
       "       [ 0.00388433],\n",
       "       [-0.02871816],\n",
       "       [-0.09589309],\n",
       "       [-0.22575853],\n",
       "       [-0.20251462],\n",
       "       [-0.28448837],\n",
       "       [-0.35450782],\n",
       "       [-0.46600136],\n",
       "       [-0.46127466],\n",
       "       [-0.536248  ],\n",
       "       [-0.5859304 ],\n",
       "       [-0.60849272],\n",
       "       [-0.6412488 ],\n",
       "       [-0.72366839],\n",
       "       [-0.81550598],\n",
       "       [-0.83701793],\n",
       "       [-0.83616008],\n",
       "       [-0.88303742],\n",
       "       [-0.91725566],\n",
       "       [-0.88738798],\n",
       "       [-0.94039136],\n",
       "       [-0.92540681],\n",
       "       [-1.01208854],\n",
       "       [-1.00888853],\n",
       "       [-1.02185926],\n",
       "       [-0.99950483],\n",
       "       [-1.03071334],\n",
       "       [-0.9433921 ],\n",
       "       [-0.98206787],\n",
       "       [-0.93776876],\n",
       "       [-0.99437495],\n",
       "       [-0.88329908],\n",
       "       [-0.87072419],\n",
       "       [-0.90459044],\n",
       "       [-0.79963241],\n",
       "       [-0.85706216],\n",
       "       [-0.81678317],\n",
       "       [-0.70691307],\n",
       "       [-0.70435629],\n",
       "       [-0.65851773],\n",
       "       [-0.55305635],\n",
       "       [-0.55362997],\n",
       "       [-0.51231453],\n",
       "       [-0.41102409],\n",
       "       [-0.39599511],\n",
       "       [-0.33267815],\n",
       "       [-0.23083245],\n",
       "       [-0.18753457],\n",
       "       [-0.14597901],\n",
       "       [-0.01783332],\n",
       "       [-0.04773016]])"
      ]
     },
     "execution_count": 11,
     "metadata": {},
     "output_type": "execute_result"
    }
   ],
   "source": [
    "print(h.shape)\n",
    "h"
   ]
  },
  {
   "cell_type": "code",
   "execution_count": 18,
   "metadata": {},
   "outputs": [
    {
     "data": {
      "text/plain": [
       "<matplotlib.collections.PathCollection at 0x1445b4f28>"
      ]
     },
     "execution_count": 18,
     "metadata": {},
     "output_type": "execute_result"
    },
    {
     "data": {
      "image/png": "[encoded data removed]",
      "text/plain": [
       "<Figure size 432x288 with 1 Axes>"
      ]
     },
     "metadata": {
      "needs_background": "light"
     },
     "output_type": "display_data"
    }
   ],
   "source": [
    "#h.reshape(h.shape[0])\n",
    "#[i for i in range(h.shape[0])]\n",
    "\n",
    "plt.scatter([i for i in range(h.shape[0])], h.reshape(h.shape[0]))"
   ]
  },
  {
   "cell_type": "code",
   "execution_count": 19,
   "metadata": {},
   "outputs": [
    {
     "data": {
      "text/plain": [
       "<matplotlib.collections.PathCollection at 0x144689470>"
      ]
     },
     "execution_count": 19,
     "metadata": {},
     "output_type": "execute_result"
    },
    {
     "data": {
      "image/png": "[encoded data removed]",
      "text/plain": [
       "<Figure size 432x288 with 1 Axes>"
      ]
     },
     "metadata": {
      "needs_background": "light"
     },
     "output_type": "display_data"
    }
   ],
   "source": [
    "plt.scatter([i for i in range(len(f))], f)"
   ]
  },
  {
   "cell_type": "markdown",
   "metadata": {},
   "source": [
    "### モデル構築"
   ]
  },
  {
   "cell_type": "code",
   "execution_count": 20,
   "metadata": {},
   "outputs": [],
   "source": [
    "# 1つの学習データのStep数(今回は25)\n",
    "length_of_sequence = g.shape[1] \n",
    "in_out_neurons = 1\n",
    "n_hidden = 300"
   ]
  },
  {
   "cell_type": "code",
   "execution_count": 21,
   "metadata": {},
   "outputs": [],
   "source": [
    "model = Sequential()\n",
    "\n",
    "model.add(LSTM(n_hidden, batch_input_shape=(None, length_of_sequence, in_out_neurons), return_sequences=False))\n",
    "model.add(Dense(in_out_neurons))\n",
    "model.add(Activation(\"linear\"))\n",
    "\n",
    "optimizer = Adam(lr=0.001)\n",
    "\n",
    "model.compile(loss=\"mean_squared_error\", optimizer=optimizer)"
   ]
  },
  {
   "cell_type": "code",
   "execution_count": 23,
   "metadata": {},
   "outputs": [
    {
     "name": "stdout",
     "output_type": "stream",
     "text": [
      "Epoch 1/100\n",
      "1/1 [==============================] - 0s 29ms/step - loss: 0.0014 - val_loss: 0.0022\n",
      "Epoch 2/100\n",
      "1/1 [==============================] - 0s 30ms/step - loss: 0.0015 - val_loss: 0.0020\n",
      "Epoch 3/100\n",
      "1/1 [==============================] - 0s 29ms/step - loss: 0.0016 - val_loss: 0.0019\n",
      "Epoch 4/100\n",
      "1/1 [==============================] - 0s 29ms/step - loss: 0.0016 - val_loss: 0.0017\n",
      "Epoch 5/100\n",
      "1/1 [==============================] - 0s 29ms/step - loss: 0.0015 - val_loss: 0.0016\n",
      "Epoch 6/100\n",
      "1/1 [==============================] - 0s 35ms/step - loss: 0.0013 - val_loss: 0.0016\n",
      "Epoch 7/100\n",
      "1/1 [==============================] - 0s 30ms/step - loss: 0.0013 - val_loss: 0.0017\n",
      "Epoch 8/100\n",
      "1/1 [==============================] - 0s 30ms/step - loss: 0.0013 - val_loss: 0.0018\n",
      "Epoch 9/100\n",
      "1/1 [==============================] - 0s 30ms/step - loss: 0.0013 - val_loss: 0.0017\n",
      "Epoch 10/100\n",
      "1/1 [==============================] - 0s 29ms/step - loss: 0.0012 - val_loss: 0.0015\n",
      "Epoch 11/100\n",
      "1/1 [==============================] - 0s 29ms/step - loss: 0.0011 - val_loss: 0.0014\n",
      "Epoch 12/100\n",
      "1/1 [==============================] - 0s 29ms/step - loss: 0.0010 - val_loss: 0.0013\n",
      "Epoch 13/100\n",
      "1/1 [==============================] - 0s 28ms/step - loss: 0.0011 - val_loss: 0.0013\n",
      "Epoch 14/100\n",
      "1/1 [==============================] - 0s 28ms/step - loss: 0.0011 - val_loss: 0.0012\n",
      "Epoch 15/100\n",
      "1/1 [==============================] - 0s 29ms/step - loss: 0.0011 - val_loss: 0.0012\n",
      "Epoch 16/100\n",
      "1/1 [==============================] - 0s 35ms/step - loss: 0.0010 - val_loss: 0.0012\n",
      "Epoch 17/100\n",
      "1/1 [==============================] - 0s 30ms/step - loss: 0.0010 - val_loss: 0.0013\n",
      "Epoch 18/100\n",
      "1/1 [==============================] - 0s 29ms/step - loss: 0.0011 - val_loss: 0.0012\n",
      "Epoch 19/100\n",
      "1/1 [==============================] - 0s 29ms/step - loss: 0.0011 - val_loss: 0.0012\n",
      "Epoch 20/100\n",
      "1/1 [==============================] - 0s 30ms/step - loss: 0.0011 - val_loss: 0.0012\n",
      "Epoch 21/100\n",
      "1/1 [==============================] - 0s 29ms/step - loss: 0.0010 - val_loss: 0.0012\n",
      "Epoch 22/100\n",
      "1/1 [==============================] - 0s 29ms/step - loss: 0.0010 - val_loss: 0.0014\n",
      "Epoch 23/100\n",
      "1/1 [==============================] - 0s 29ms/step - loss: 0.0011 - val_loss: 0.0014\n",
      "Epoch 24/100\n",
      "1/1 [==============================] - 0s 28ms/step - loss: 0.0011 - val_loss: 0.0013\n",
      "Epoch 25/100\n",
      "1/1 [==============================] - 0s 35ms/step - loss: 0.0010 - val_loss: 0.0012\n",
      "Epoch 26/100\n",
      "1/1 [==============================] - 0s 30ms/step - loss: 0.0010 - val_loss: 0.0012\n",
      "Epoch 27/100\n",
      "1/1 [==============================] - 0s 30ms/step - loss: 0.0010 - val_loss: 0.0012\n",
      "Epoch 28/100\n",
      "1/1 [==============================] - 0s 29ms/step - loss: 0.0010 - val_loss: 0.0012\n",
      "Epoch 29/100\n",
      "1/1 [==============================] - 0s 29ms/step - loss: 0.0010 - val_loss: 0.0012\n",
      "Epoch 30/100\n",
      "1/1 [==============================] - 0s 30ms/step - loss: 9.9529e-04 - val_loss: 0.0012\n",
      "Epoch 31/100\n",
      "1/1 [==============================] - 0s 28ms/step - loss: 9.8246e-04 - val_loss: 0.0012\n",
      "Epoch 32/100\n",
      "1/1 [==============================] - 0s 29ms/step - loss: 9.8339e-04 - val_loss: 0.0012\n",
      "Epoch 33/100\n",
      "1/1 [==============================] - 0s 29ms/step - loss: 9.8898e-04 - val_loss: 0.0013\n",
      "Epoch 34/100\n",
      "1/1 [==============================] - 0s 29ms/step - loss: 9.8659e-04 - val_loss: 0.0012\n",
      "Epoch 35/100\n",
      "1/1 [==============================] - 0s 36ms/step - loss: 9.7807e-04 - val_loss: 0.0012\n",
      "Epoch 36/100\n",
      "1/1 [==============================] - 0s 29ms/step - loss: 9.7485e-04 - val_loss: 0.0012\n",
      "Epoch 37/100\n",
      "1/1 [==============================] - 0s 30ms/step - loss: 9.8025e-04 - val_loss: 0.0012\n",
      "Epoch 38/100\n",
      "1/1 [==============================] - 0s 29ms/step - loss: 9.8563e-04 - val_loss: 0.0012\n",
      "Epoch 39/100\n",
      "1/1 [==============================] - 0s 29ms/step - loss: 9.8428e-04 - val_loss: 0.0013\n",
      "Epoch 40/100\n",
      "1/1 [==============================] - 0s 29ms/step - loss: 9.8050e-04 - val_loss: 0.0013\n",
      "Epoch 41/100\n",
      "1/1 [==============================] - 0s 28ms/step - loss: 9.8094e-04 - val_loss: 0.0013\n",
      "Epoch 42/100\n",
      "1/1 [==============================] - 0s 29ms/step - loss: 9.8419e-04 - val_loss: 0.0013\n",
      "Epoch 43/100\n",
      "1/1 [==============================] - 0s 28ms/step - loss: 9.8422e-04 - val_loss: 0.0013\n",
      "Epoch 44/100\n",
      "1/1 [==============================] - 0s 28ms/step - loss: 9.8028e-04 - val_loss: 0.0013\n",
      "Epoch 45/100\n",
      "1/1 [==============================] - 0s 35ms/step - loss: 9.7729e-04 - val_loss: 0.0013\n",
      "Epoch 46/100\n",
      "1/1 [==============================] - 0s 29ms/step - loss: 9.7782e-04 - val_loss: 0.0013\n",
      "Epoch 47/100\n",
      "1/1 [==============================] - 0s 29ms/step - loss: 9.7873e-04 - val_loss: 0.0013\n"
     ]
    }
   ],
   "source": [
    "early_stopping = EarlyStopping(monitor='val_loss', mode='auto', patience=20)\n",
    "\n",
    "hist = model.fit(g, h,\n",
    "                 batch_size=300,\n",
    "                 epochs=100,\n",
    "                 validation_split=0.1,\n",
    "                 callbacks=[early_stopping])"
   ]
  },
  {
   "cell_type": "code",
   "execution_count": 24,
   "metadata": {},
   "outputs": [
    {
     "data": {
      "text/plain": [
       "<AxesSubplot:>"
      ]
     },
     "execution_count": 24,
     "metadata": {},
     "output_type": "execute_result"
    },
    {
     "data": {
      "image/png": "[encoded data removed]",
      "text/plain": [
       "<Figure size 432x288 with 1 Axes>"
      ]
     },
     "metadata": {
      "needs_background": "light"
     },
     "output_type": "display_data"
    }
   ],
   "source": [
    "import pandas as pd\n",
    "\n",
    "results = pd.DataFrame(hist.history)\n",
    "results[['loss', 'val_loss']].plot()"
   ]
  },
  {
   "cell_type": "markdown",
   "metadata": {},
   "source": [
    "### 予測"
   ]
  },
  {
   "cell_type": "code",
   "execution_count": 25,
   "metadata": {},
   "outputs": [],
   "source": [
    "predicted = model.predict(g)"
   ]
  },
  {
   "cell_type": "code",
   "execution_count": 26,
   "metadata": {},
   "outputs": [
    {
     "data": {
      "image/png": "[encoded data removed]",
      "text/plain": [
       "<Figure size 432x288 with 1 Axes>"
      ]
     },
     "metadata": {
      "needs_background": "light"
     },
     "output_type": "display_data"
    }
   ],
   "source": [
    "plt.figure()\n",
    "plt.plot(range(25,len(predicted)+25), predicted, color=\"r\", label=\"predict_data\")\n",
    "plt.plot(range(0, len(f)), f, color=\"b\", label=\"row_data\")\n",
    "plt.legend()\n",
    "plt.show()"
   ]
  },
  {
   "cell_type": "markdown",
   "metadata": {},
   "source": [
    "### 未来の予測"
   ]
  },
  {
   "cell_type": "code",
   "execution_count": 29,
   "metadata": {},
   "outputs": [],
   "source": [
    "future_test = g[-1].T"
   ]
  },
  {
   "cell_type": "code",
   "execution_count": 31,
   "metadata": {},
   "outputs": [
    {
     "name": "stdout",
     "output_type": "stream",
     "text": [
      "(1, 25)\n"
     ]
    },
    {
     "data": {
      "text/plain": [
       "array([[-0.99950483, -1.03071334, -0.9433921 , -0.98206787, -0.93776876,\n",
       "        -0.99437495, -0.88329908, -0.87072419, -0.90459044, -0.79963241,\n",
       "        -0.85706216, -0.81678317, -0.70691307, -0.70435629, -0.65851773,\n",
       "        -0.55305635, -0.55362997, -0.51231453, -0.41102409, -0.39599511,\n",
       "        -0.33267815, -0.23083245, -0.18753457, -0.14597901, -0.01783332]])"
      ]
     },
     "execution_count": 31,
     "metadata": {},
     "output_type": "execute_result"
    }
   ],
   "source": [
    "print(future_test.shape)\n",
    "future_test"
   ]
  },
  {
   "cell_type": "code",
   "execution_count": 32,
   "metadata": {},
   "outputs": [],
   "source": [
    "# 1つの学習データの時間の長さ -> 25\n",
    "time_length = future_test.shape[1]\n",
    "\n",
    "# 未来の予測データを保存していく変数\n",
    "future_result = np.empty((1))\n",
    "\n",
    "# 未来予想\n",
    "for step2 in range(400):\n",
    "    test_data = np.reshape(future_test, (1, time_length, 1))\n",
    "    batch_predict = model.predict(test_data)\n",
    "\n",
    "    future_test = np.delete(future_test, 0)\n",
    "    future_test = np.append(future_test, batch_predict)\n",
    "\n",
    "    future_result = np.append(future_result, batch_predict)"
   ]
  },
  {
   "cell_type": "code",
   "execution_count": 33,
   "metadata": {},
   "outputs": [
    {
     "data": {
      "text/plain": [
       "array([-0.01783332, -0.00240422,  0.06752776,  0.13560309,  0.20123096,\n",
       "        0.26587611,  0.32876724,  0.39078879,  0.4502005 ,  0.50794935,\n",
       "        0.56419659,  0.61736506,  0.66896546,  0.71768826,  0.76280129,\n",
       "        0.80537033,  0.84471506,  0.88016516,  0.91279942,  0.94195694,\n",
       "        0.96698517,  0.98883432,  1.006863  ,  1.02071047,  1.03107405,\n",
       "        1.03789592,  1.04026747,  1.03952897,  1.03498721,  1.02673006,\n",
       "        1.01483965,  0.99937695,  0.98041105,  0.95800364,  0.93223768,\n",
       "        0.90318757,  0.87093014,  0.83556414,  0.79717517,  0.75586915,\n",
       "        0.71176416,  0.66497248,  0.61562186,  0.56385487,  0.50981128,\n",
       "        0.45364931,  0.39554465,  0.33567461,  0.27423668,  0.21144478,\n",
       "        0.14751913,  0.08269527,  0.01723166, -0.04861421, -0.11456393,\n",
       "       -0.18032911, -0.24561265, -0.31011048, -0.37351382, -0.43551245,\n",
       "       -0.4957976 , -0.55406517, -0.61001968, -0.66337729, -0.71386987,\n",
       "       -0.76124781, -0.80528271, -0.84577024, -0.882532  , -0.91541648,\n",
       "       -0.94430017, -0.96908712, -0.98970956, -1.00612593, -1.01831996,\n",
       "       -1.02629912, -1.03009212, -1.02974772, -1.02533126, -1.01692414,\n",
       "       -1.00462031, -0.98852473, -0.96875256, -0.94542629, -0.91867512,\n",
       "       -0.8886345 , -0.85544348, -0.81924665, -0.7801916 , -0.73843014,\n",
       "       -0.69411749, -0.64741349, -0.59848177, -0.54749089, -0.49461487,\n",
       "       -0.44003287, -0.38393092, -0.3265011 , -0.26794258, -0.20846158,\n",
       "       -0.14827113, -0.08759111, -0.02664764,  0.03432772,  0.09509894,\n",
       "        0.15542664,  0.21506983,  0.27378735,  0.33133984,  0.38749152,\n",
       "        0.44201246,  0.49468017,  0.54528177,  0.59361535,  0.6394918 ,\n",
       "        0.68273622,  0.72318822,  0.76070356,  0.79515404,  0.82642812,\n",
       "        0.85443026,  0.87908095,  0.9003166 ,  0.91808802,  0.93236017,\n",
       "        0.94311142,  0.95033228,  0.95402461,  0.95420086,  0.95088285,\n",
       "        0.94410121,  0.93389517,  0.9203108 ,  0.90340179,  0.88322806,\n",
       "        0.85985631,  0.8333596 ,  0.80381703,  0.77131414,  0.73594368,\n",
       "        0.69780493,  0.65700454,  0.61365759,  0.56788713,  0.51982534,\n",
       "        0.46961436,  0.41740629,  0.36336428,  0.30766276,  0.25048804,\n",
       "        0.19203848,  0.13252476,  0.07216958,  0.01120764, -0.05011519,\n",
       "       -0.11154258, -0.17280906, -0.2336414 , -0.29376063, -0.35288429,\n",
       "       -0.41072854, -0.46701118, -0.52145475, -0.57378876, -0.62375337,\n",
       "       -0.67110223, -0.71560484, -0.7570495 , -0.79524499, -0.83002251,\n",
       "       -0.86123711, -0.88876808, -0.91251951, -0.9324196 , -0.94842106,\n",
       "       -0.96049905, -0.96865028, -0.97289181, -0.97325903, -0.96980375,\n",
       "       -0.96259296, -0.95170635, -0.93723536, -0.91928118, -0.89795345,\n",
       "       -0.87336946, -0.84565288, -0.81493258, -0.78134304, -0.74502283,\n",
       "       -0.70611537, -0.6647681 , -0.62113297, -0.57536662, -0.52763033,\n",
       "       -0.47809047, -0.42691907, -0.37429374, -0.32039815, -0.26542193,\n",
       "       -0.20956115, -0.15301776, -0.09599961, -0.03871979,  0.01860402,\n",
       "        0.07575036,  0.13249527,  0.1886134 ,  0.2438796 ,  0.29807052,\n",
       "        0.35096616,  0.40235153,  0.45201865,  0.49976793,  0.5454095 ,\n",
       "        0.58876508,  0.62966859,  0.6679675 ,  0.70352358,  0.73621261,\n",
       "        0.765926  ,  0.79256928,  0.81606328,  0.83634275,  0.85335654,\n",
       "        0.86706674,  0.87744778,  0.88448602,  0.88817883,  0.88853401,\n",
       "        0.88556838,  0.87930828,  0.86978805,  0.85704952,  0.84114242,\n",
       "        0.82212269,  0.80005401,  0.77500576,  0.74705452,  0.71628326,\n",
       "        0.68278229,  0.64664847,  0.60798657,  0.56690884,  0.52353615,\n",
       "        0.47799826,  0.4304336 ,  0.38099092,  0.32982883,  0.27711657,\n",
       "        0.22303423,  0.16777289,  0.11153449,  0.054532  , -0.00301132,\n",
       "       -0.06086233, -0.118779  , -0.17651148, -0.23380363, -0.29039472,\n",
       "       -0.3460215 , -0.4004201 , -0.45332894, -0.50449073, -0.55365562,\n",
       "       -0.60058337, -0.64504641, -0.6868313 , -0.7257421 , -0.76160109,\n",
       "       -0.79425126, -0.8235566 , -0.84940296, -0.87169904, -0.89037532,\n",
       "       -0.905384  , -0.91669875, -0.92431235, -0.92823684, -0.92850095,\n",
       "       -0.9251495 , -0.91824144, -0.907848  , -0.89405215, -0.87694645,\n",
       "       -0.85663229, -0.83321863, -0.80682129, -0.77756166, -0.74556702,\n",
       "       -0.71096987, -0.67390686, -0.63451982, -0.59295487, -0.54936337,\n",
       "       -0.503901  , -0.45672894, -0.40801331, -0.35792589, -0.30664417,\n",
       "       -0.25435087, -0.20123458, -0.14748926, -0.09331385, -0.03891193,\n",
       "        0.01550917,  0.06973899,  0.12356517,  0.17677459,  0.22915463,\n",
       "        0.28049454,  0.33058733,  0.37923059,  0.42622855,  0.47139356,\n",
       "        0.51454693,  0.55552047,  0.5941577 ,  0.63031417,  0.66385877,\n",
       "        0.69467366,  0.7226547 ,  0.74771148,  0.76976764,  0.78875953,\n",
       "        0.80463719,  0.81736243,  0.82690954,  0.83326381,  0.83642095,\n",
       "        0.83638722,  0.83317751,  0.82681602,  0.81733483,  0.80477405,\n",
       "        0.78918099,  0.77061039,  0.74912351,  0.72478873,  0.69768107,\n",
       "        0.6678825 ,  0.63548183,  0.60057545,  0.56326681,  0.52366751,\n",
       "        0.48189715,  0.43808395,  0.3923651 ,  0.3448872 ,  0.29580638,\n",
       "        0.24528871,  0.19351041,  0.14065771,  0.08692694,  0.03252416,\n",
       "       -0.02233529, -0.07742742, -0.13252065, -0.18737674, -0.24175246,\n",
       "       -0.29540101, -0.34807411, -0.39952376, -0.44950479, -0.49777684,\n",
       "       -0.54410708, -0.58827204, -0.6300602 , -0.66927433, -0.705733  ,\n",
       "       -0.7392717 , -0.76974541, -0.79702854, -0.8210156 , -0.84162194,\n",
       "       -0.85878342, -0.87245548, -0.8826133 , -0.88925052, -0.89237756,\n",
       "       -0.89202148, -0.88822383, -0.88103944, -0.87053549, -0.85678971,\n",
       "       -0.83988982, -0.81993181, -0.7970193 , -0.77126294, -0.74277931,\n",
       "       -0.71169102, -0.67812538, -0.64221519, -0.60409772, -0.56391531,\n",
       "       -0.52181512, -0.47794911, -0.43247423, -0.38555276, -0.33735222,\n",
       "       -0.28804493])"
      ]
     },
     "execution_count": 33,
     "metadata": {},
     "output_type": "execute_result"
    }
   ],
   "source": [
    "future_result"
   ]
  },
  {
   "cell_type": "code",
   "execution_count": 34,
   "metadata": {},
   "outputs": [
    {
     "data": {
      "image/png": "[encoded data removed]",
      "text/plain": [
       "<Figure size 432x288 with 1 Axes>"
      ]
     },
     "metadata": {
      "needs_background": "light"
     },
     "output_type": "display_data"
    }
   ],
   "source": [
    "# sin波をプロット\n",
    "plt.figure()\n",
    "plt.plot(range(25,len(predicted)+25), predicted, color=\"r\", label=\"predict_data\")\n",
    "plt.plot(range(0, len(f)), f, color=\"b\", label=\"row_data\")\n",
    "plt.plot(range(0+len(f), len(future_result)+len(f)), future_result, color=\"g\", label=\"future_predict\")\n",
    "plt.legend()\n",
    "plt.show()"
   ]
  },
  {
   "cell_type": "code",
   "execution_count": null,
   "metadata": {},
   "outputs": [],
   "source": []
  }
 ],
 "metadata": {
  "kernelspec": {
   "display_name": "Python 3",
   "language": "python",
   "name": "python3"
  },
  "language_info": {
   "codemirror_mode": {
    "name": "ipython",
    "version": 3
   },
   "file_extension": ".py",
   "mimetype": "text/x-python",
   "name": "python",
   "nbconvert_exporter": "python",
   "pygments_lexer": "ipython3",
   "version": "3.7.3"
  }
 },
 "nbformat": 4,
 "nbformat_minor": 4
}
