{
 "cells": [
  {
   "cell_type": "markdown",
   "metadata": {},
   "source": [
    "Reference: https://qiita.com/everylittle/items/ba821e93d275a421ca2b  \n",
    "  \n",
    "RNN(LSTM) を試す、列の総和を出力するモデル  \n",
    "可変長の場合、Embedding を使用する"
   ]
  },
  {
   "cell_type": "code",
   "execution_count": 2,
   "metadata": {},
   "outputs": [],
   "source": [
    "import tensorflow as tf\n",
    "from tensorflow.keras.models import Sequential\n",
    "from tensorflow.keras.layers import Dense, LSTM, Embedding\n",
    "#from tensorflow.keras.layers.embeddings import Embedding\n",
    "from tensorflow.keras.optimizers import Adam\n",
    "import numpy as np\n",
    "import random"
   ]
  },
  {
   "cell_type": "code",
   "execution_count": 3,
   "metadata": {},
   "outputs": [],
   "source": [
    "input_dim = 1                # 入力データの次元数：実数値1個なので1を指定\n",
    "output_dim = 1               # 出力データの次元数：同上\n",
    "num_hidden_units = 128       # 隠れ層のユニット数\n",
    "batch_size = 300             # ミニバッチサイズ\n",
    "num_of_training_epochs = 100 # 学習エポック数\n",
    "learning_rate = 0.001        # 学習率\n",
    "num_training_samples = 1000  # 学習データのサンプル数"
   ]
  },
  {
   "cell_type": "code",
   "execution_count": 4,
   "metadata": {},
   "outputs": [],
   "source": [
    "def create_data(nb_of_samples):\n",
    "    # 長さを対数正規分布に従って決める\n",
    "    leng = np.around(np.random.lognormal(np.log(5.0), 0.5, (nb_of_samples, 1))).astype(\"int\")\n",
    "    max_sequence_len = leng.max()\n",
    "\n",
    "    # 乱数で {1, 2} の列を生成する\n",
    "    X = np.random.randint(1, 3, (nb_of_samples, max_sequence_len))\n",
    "\n",
    "    # 長さを超えた部分を0に置き換える\n",
    "    X[np.arange(max_sequence_len).reshape((1, -1)) >= leng] = 0\n",
    "\n",
    "    # 各行の2の個数を正解ラベルとする\n",
    "    t = np.sum(X == 2, axis=1).astype(\"float32\")\n",
    "\n",
    "    # LSTM (Embedding) に与える入力は (サンプル, 時刻) の2次元になる。\n",
    "    return X, t"
   ]
  },
  {
   "cell_type": "code",
   "execution_count": 5,
   "metadata": {},
   "outputs": [],
   "source": [
    "random.seed(0)\n",
    "np.random.seed(0)\n",
    "#tf.set_random_seed(0)\n",
    "tf.random.set_seed(0)"
   ]
  },
  {
   "cell_type": "code",
   "execution_count": 6,
   "metadata": {},
   "outputs": [],
   "source": [
    "X, t = create_data(num_training_samples)"
   ]
  },
  {
   "cell_type": "code",
   "execution_count": 14,
   "metadata": {},
   "outputs": [
    {
     "name": "stdout",
     "output_type": "stream",
     "text": [
      "(1000, 20)\n",
      "(1000,)\n"
     ]
    }
   ],
   "source": [
    "print(X.shape)\n",
    "print(t.shape)"
   ]
  },
  {
   "cell_type": "code",
   "execution_count": 11,
   "metadata": {},
   "outputs": [
    {
     "data": {
      "text/plain": [
       "array([1, 1, 2, 2, 1, 1, 2, 2, 2, 2, 2, 1, 0, 0, 0, 0, 0, 0, 0, 0])"
      ]
     },
     "execution_count": 11,
     "metadata": {},
     "output_type": "execute_result"
    }
   ],
   "source": [
    "X[0]"
   ]
  },
  {
   "cell_type": "code",
   "execution_count": 12,
   "metadata": {},
   "outputs": [
    {
     "data": {
      "text/plain": [
       "7.0"
      ]
     },
     "execution_count": 12,
     "metadata": {},
     "output_type": "execute_result"
    }
   ],
   "source": [
    "t[0]"
   ]
  },
  {
   "cell_type": "code",
   "execution_count": 15,
   "metadata": {},
   "outputs": [
    {
     "data": {
      "text/html": [
       "<div>\n",
       "<style scoped>\n",
       "    .dataframe tbody tr th:only-of-type {\n",
       "        vertical-align: middle;\n",
       "    }\n",
       "\n",
       "    .dataframe tbody tr th {\n",
       "        vertical-align: top;\n",
       "    }\n",
       "\n",
       "    .dataframe thead th {\n",
       "        text-align: right;\n",
       "    }\n",
       "</style>\n",
       "<table border=\"1\" class=\"dataframe\">\n",
       "  <thead>\n",
       "    <tr style=\"text-align: right;\">\n",
       "      <th></th>\n",
       "      <th>0</th>\n",
       "      <th>1</th>\n",
       "      <th>2</th>\n",
       "      <th>3</th>\n",
       "      <th>4</th>\n",
       "      <th>5</th>\n",
       "      <th>6</th>\n",
       "      <th>7</th>\n",
       "      <th>8</th>\n",
       "      <th>9</th>\n",
       "      <th>10</th>\n",
       "      <th>11</th>\n",
       "      <th>12</th>\n",
       "      <th>13</th>\n",
       "      <th>14</th>\n",
       "      <th>15</th>\n",
       "      <th>16</th>\n",
       "      <th>17</th>\n",
       "      <th>18</th>\n",
       "      <th>19</th>\n",
       "    </tr>\n",
       "  </thead>\n",
       "  <tbody>\n",
       "    <tr>\n",
       "      <th>0</th>\n",
       "      <td>1</td>\n",
       "      <td>1</td>\n",
       "      <td>2</td>\n",
       "      <td>2</td>\n",
       "      <td>1</td>\n",
       "      <td>1</td>\n",
       "      <td>2</td>\n",
       "      <td>2</td>\n",
       "      <td>2</td>\n",
       "      <td>2</td>\n",
       "      <td>2</td>\n",
       "      <td>1</td>\n",
       "      <td>0</td>\n",
       "      <td>0</td>\n",
       "      <td>0</td>\n",
       "      <td>0</td>\n",
       "      <td>0</td>\n",
       "      <td>0</td>\n",
       "      <td>0</td>\n",
       "      <td>0</td>\n",
       "    </tr>\n",
       "    <tr>\n",
       "      <th>1</th>\n",
       "      <td>1</td>\n",
       "      <td>1</td>\n",
       "      <td>2</td>\n",
       "      <td>1</td>\n",
       "      <td>1</td>\n",
       "      <td>2</td>\n",
       "      <td>0</td>\n",
       "      <td>0</td>\n",
       "      <td>0</td>\n",
       "      <td>0</td>\n",
       "      <td>0</td>\n",
       "      <td>0</td>\n",
       "      <td>0</td>\n",
       "      <td>0</td>\n",
       "      <td>0</td>\n",
       "      <td>0</td>\n",
       "      <td>0</td>\n",
       "      <td>0</td>\n",
       "      <td>0</td>\n",
       "      <td>0</td>\n",
       "    </tr>\n",
       "    <tr>\n",
       "      <th>2</th>\n",
       "      <td>2</td>\n",
       "      <td>2</td>\n",
       "      <td>2</td>\n",
       "      <td>1</td>\n",
       "      <td>2</td>\n",
       "      <td>1</td>\n",
       "      <td>2</td>\n",
       "      <td>1</td>\n",
       "      <td>0</td>\n",
       "      <td>0</td>\n",
       "      <td>0</td>\n",
       "      <td>0</td>\n",
       "      <td>0</td>\n",
       "      <td>0</td>\n",
       "      <td>0</td>\n",
       "      <td>0</td>\n",
       "      <td>0</td>\n",
       "      <td>0</td>\n",
       "      <td>0</td>\n",
       "      <td>0</td>\n",
       "    </tr>\n",
       "    <tr>\n",
       "      <th>3</th>\n",
       "      <td>1</td>\n",
       "      <td>1</td>\n",
       "      <td>1</td>\n",
       "      <td>1</td>\n",
       "      <td>2</td>\n",
       "      <td>2</td>\n",
       "      <td>2</td>\n",
       "      <td>1</td>\n",
       "      <td>2</td>\n",
       "      <td>2</td>\n",
       "      <td>1</td>\n",
       "      <td>2</td>\n",
       "      <td>1</td>\n",
       "      <td>2</td>\n",
       "      <td>2</td>\n",
       "      <td>0</td>\n",
       "      <td>0</td>\n",
       "      <td>0</td>\n",
       "      <td>0</td>\n",
       "      <td>0</td>\n",
       "    </tr>\n",
       "    <tr>\n",
       "      <th>4</th>\n",
       "      <td>2</td>\n",
       "      <td>1</td>\n",
       "      <td>2</td>\n",
       "      <td>1</td>\n",
       "      <td>2</td>\n",
       "      <td>1</td>\n",
       "      <td>1</td>\n",
       "      <td>2</td>\n",
       "      <td>1</td>\n",
       "      <td>1</td>\n",
       "      <td>1</td>\n",
       "      <td>2</td>\n",
       "      <td>2</td>\n",
       "      <td>0</td>\n",
       "      <td>0</td>\n",
       "      <td>0</td>\n",
       "      <td>0</td>\n",
       "      <td>0</td>\n",
       "      <td>0</td>\n",
       "      <td>0</td>\n",
       "    </tr>\n",
       "  </tbody>\n",
       "</table>\n",
       "</div>"
      ],
      "text/plain": [
       "   0  1  2  3  4  5  6  7  8  9  10  11  12  13  14  15  16  17  18  19\n",
       "0  1  1  2  2  1  1  2  2  2  2   2   1   0   0   0   0   0   0   0   0\n",
       "1  1  1  2  1  1  2  0  0  0  0   0   0   0   0   0   0   0   0   0   0\n",
       "2  2  2  2  1  2  1  2  1  0  0   0   0   0   0   0   0   0   0   0   0\n",
       "3  1  1  1  1  2  2  2  1  2  2   1   2   1   2   2   0   0   0   0   0\n",
       "4  2  1  2  1  2  1  1  2  1  1   1   2   2   0   0   0   0   0   0   0"
      ]
     },
     "execution_count": 15,
     "metadata": {},
     "output_type": "execute_result"
    }
   ],
   "source": [
    "#X.reshape(X.shape[:-1])\n",
    "\n",
    "import pandas as pd\n",
    "df = pd.DataFrame(X)\n",
    "df.head()"
   ]
  },
  {
   "cell_type": "code",
   "execution_count": 16,
   "metadata": {},
   "outputs": [
    {
     "data": {
      "text/html": [
       "<div>\n",
       "<style scoped>\n",
       "    .dataframe tbody tr th:only-of-type {\n",
       "        vertical-align: middle;\n",
       "    }\n",
       "\n",
       "    .dataframe tbody tr th {\n",
       "        vertical-align: top;\n",
       "    }\n",
       "\n",
       "    .dataframe thead th {\n",
       "        text-align: right;\n",
       "    }\n",
       "</style>\n",
       "<table border=\"1\" class=\"dataframe\">\n",
       "  <thead>\n",
       "    <tr style=\"text-align: right;\">\n",
       "      <th></th>\n",
       "      <th>0</th>\n",
       "      <th>1</th>\n",
       "      <th>2</th>\n",
       "      <th>3</th>\n",
       "      <th>4</th>\n",
       "      <th>5</th>\n",
       "      <th>6</th>\n",
       "      <th>7</th>\n",
       "      <th>8</th>\n",
       "      <th>9</th>\n",
       "      <th>...</th>\n",
       "      <th>11</th>\n",
       "      <th>12</th>\n",
       "      <th>13</th>\n",
       "      <th>14</th>\n",
       "      <th>15</th>\n",
       "      <th>16</th>\n",
       "      <th>17</th>\n",
       "      <th>18</th>\n",
       "      <th>19</th>\n",
       "      <th>t</th>\n",
       "    </tr>\n",
       "  </thead>\n",
       "  <tbody>\n",
       "    <tr>\n",
       "      <th>995</th>\n",
       "      <td>2</td>\n",
       "      <td>1</td>\n",
       "      <td>2</td>\n",
       "      <td>2</td>\n",
       "      <td>2</td>\n",
       "      <td>1</td>\n",
       "      <td>0</td>\n",
       "      <td>0</td>\n",
       "      <td>0</td>\n",
       "      <td>0</td>\n",
       "      <td>...</td>\n",
       "      <td>0</td>\n",
       "      <td>0</td>\n",
       "      <td>0</td>\n",
       "      <td>0</td>\n",
       "      <td>0</td>\n",
       "      <td>0</td>\n",
       "      <td>0</td>\n",
       "      <td>0</td>\n",
       "      <td>0</td>\n",
       "      <td>4.0</td>\n",
       "    </tr>\n",
       "    <tr>\n",
       "      <th>996</th>\n",
       "      <td>2</td>\n",
       "      <td>2</td>\n",
       "      <td>2</td>\n",
       "      <td>1</td>\n",
       "      <td>1</td>\n",
       "      <td>0</td>\n",
       "      <td>0</td>\n",
       "      <td>0</td>\n",
       "      <td>0</td>\n",
       "      <td>0</td>\n",
       "      <td>...</td>\n",
       "      <td>0</td>\n",
       "      <td>0</td>\n",
       "      <td>0</td>\n",
       "      <td>0</td>\n",
       "      <td>0</td>\n",
       "      <td>0</td>\n",
       "      <td>0</td>\n",
       "      <td>0</td>\n",
       "      <td>0</td>\n",
       "      <td>3.0</td>\n",
       "    </tr>\n",
       "    <tr>\n",
       "      <th>997</th>\n",
       "      <td>1</td>\n",
       "      <td>1</td>\n",
       "      <td>2</td>\n",
       "      <td>2</td>\n",
       "      <td>2</td>\n",
       "      <td>0</td>\n",
       "      <td>0</td>\n",
       "      <td>0</td>\n",
       "      <td>0</td>\n",
       "      <td>0</td>\n",
       "      <td>...</td>\n",
       "      <td>0</td>\n",
       "      <td>0</td>\n",
       "      <td>0</td>\n",
       "      <td>0</td>\n",
       "      <td>0</td>\n",
       "      <td>0</td>\n",
       "      <td>0</td>\n",
       "      <td>0</td>\n",
       "      <td>0</td>\n",
       "      <td>3.0</td>\n",
       "    </tr>\n",
       "    <tr>\n",
       "      <th>998</th>\n",
       "      <td>2</td>\n",
       "      <td>2</td>\n",
       "      <td>1</td>\n",
       "      <td>0</td>\n",
       "      <td>0</td>\n",
       "      <td>0</td>\n",
       "      <td>0</td>\n",
       "      <td>0</td>\n",
       "      <td>0</td>\n",
       "      <td>0</td>\n",
       "      <td>...</td>\n",
       "      <td>0</td>\n",
       "      <td>0</td>\n",
       "      <td>0</td>\n",
       "      <td>0</td>\n",
       "      <td>0</td>\n",
       "      <td>0</td>\n",
       "      <td>0</td>\n",
       "      <td>0</td>\n",
       "      <td>0</td>\n",
       "      <td>2.0</td>\n",
       "    </tr>\n",
       "    <tr>\n",
       "      <th>999</th>\n",
       "      <td>1</td>\n",
       "      <td>2</td>\n",
       "      <td>2</td>\n",
       "      <td>2</td>\n",
       "      <td>0</td>\n",
       "      <td>0</td>\n",
       "      <td>0</td>\n",
       "      <td>0</td>\n",
       "      <td>0</td>\n",
       "      <td>0</td>\n",
       "      <td>...</td>\n",
       "      <td>0</td>\n",
       "      <td>0</td>\n",
       "      <td>0</td>\n",
       "      <td>0</td>\n",
       "      <td>0</td>\n",
       "      <td>0</td>\n",
       "      <td>0</td>\n",
       "      <td>0</td>\n",
       "      <td>0</td>\n",
       "      <td>3.0</td>\n",
       "    </tr>\n",
       "  </tbody>\n",
       "</table>\n",
       "<p>5 rows × 21 columns</p>\n",
       "</div>"
      ],
      "text/plain": [
       "     0  1  2  3  4  5  6  7  8  9  ...  11  12  13  14  15  16  17  18  19  \\\n",
       "995  2  1  2  2  2  1  0  0  0  0  ...   0   0   0   0   0   0   0   0   0   \n",
       "996  2  2  2  1  1  0  0  0  0  0  ...   0   0   0   0   0   0   0   0   0   \n",
       "997  1  1  2  2  2  0  0  0  0  0  ...   0   0   0   0   0   0   0   0   0   \n",
       "998  2  2  1  0  0  0  0  0  0  0  ...   0   0   0   0   0   0   0   0   0   \n",
       "999  1  2  2  2  0  0  0  0  0  0  ...   0   0   0   0   0   0   0   0   0   \n",
       "\n",
       "       t  \n",
       "995  4.0  \n",
       "996  3.0  \n",
       "997  3.0  \n",
       "998  2.0  \n",
       "999  3.0  \n",
       "\n",
       "[5 rows x 21 columns]"
      ]
     },
     "execution_count": 16,
     "metadata": {},
     "output_type": "execute_result"
    }
   ],
   "source": [
    "df2 = pd.concat([df, pd.Series(t, name='t')], axis=1)\n",
    "df2.tail()"
   ]
  },
  {
   "cell_type": "code",
   "execution_count": 17,
   "metadata": {},
   "outputs": [],
   "source": [
    "# Embeddingの埋め込み行列を指定する\n",
    "# https://blog.keras.io/using-pre-trained-word-embeddings-in-a-keras-model.html\n",
    "embedding_matrix = np.array([[0.0], [0.0], [1.0]], dtype=\"float32\")"
   ]
  },
  {
   "cell_type": "code",
   "execution_count": 18,
   "metadata": {},
   "outputs": [
    {
     "name": "stdout",
     "output_type": "stream",
     "text": [
      "(3, 1)\n",
      "[[0.]\n",
      " [0.]\n",
      " [1.]]\n"
     ]
    }
   ],
   "source": [
    "print(embedding_matrix.shape)\n",
    "print(embedding_matrix)"
   ]
  },
  {
   "cell_type": "code",
   "execution_count": 19,
   "metadata": {},
   "outputs": [
    {
     "data": {
      "text/plain": [
       "<tf.Tensor: shape=(20, 1), dtype=float32, numpy=\n",
       "array([[0.],\n",
       "       [0.],\n",
       "       [1.],\n",
       "       [1.],\n",
       "       [0.],\n",
       "       [0.],\n",
       "       [1.],\n",
       "       [1.],\n",
       "       [1.],\n",
       "       [1.],\n",
       "       [1.],\n",
       "       [0.],\n",
       "       [0.],\n",
       "       [0.],\n",
       "       [0.],\n",
       "       [0.],\n",
       "       [0.],\n",
       "       [0.],\n",
       "       [0.],\n",
       "       [0.]], dtype=float32)>"
      ]
     },
     "execution_count": 19,
     "metadata": {},
     "output_type": "execute_result"
    }
   ],
   "source": [
    "embedding = Embedding(input_dim=embedding_matrix.shape[0],\n",
    "                      output_dim=input_dim,\n",
    "                      weights=[embedding_matrix],\n",
    "                      trainable=False,\n",
    "                      mask_zero=True)\n",
    "\n",
    "embedding(X[0])"
   ]
  },
  {
   "cell_type": "code",
   "execution_count": 20,
   "metadata": {},
   "outputs": [
    {
     "name": "stdout",
     "output_type": "stream",
     "text": [
      "Model: \"sequential\"\n",
      "_________________________________________________________________\n",
      "Layer (type)                 Output Shape              Param #   \n",
      "=================================================================\n",
      "embedding_2 (Embedding)      (None, None, 1)           3         \n",
      "_________________________________________________________________\n",
      "lstm (LSTM)                  (None, 128)               66560     \n",
      "_________________________________________________________________\n",
      "dense (Dense)                (None, 1)                 129       \n",
      "=================================================================\n",
      "Total params: 66,692\n",
      "Trainable params: 66,689\n",
      "Non-trainable params: 3\n",
      "_________________________________________________________________\n"
     ]
    }
   ],
   "source": [
    "model = Sequential()\n",
    "\n",
    "# Embeddingによりベクトルを変換する\n",
    "model.add(Embedding(\n",
    "    input_dim=embedding_matrix.shape[0], # 入力として取り得るカテゴリ数（パディングの0を含む）\n",
    "    output_dim=input_dim,                # 出力ユニット数（本来の特徴量の次元数）\n",
    "    weights=[embedding_matrix],          # 埋め込み行列を指定\n",
    "    trainable=False,                     # 埋め込み行列を固定（学習時に更新しない）\n",
    "    mask_zero=True))                     # 0をパディング用に特別扱いする\n",
    "\n",
    "model.add(LSTM(num_hidden_units, return_sequences=False))\n",
    "\n",
    "model.add(Dense(output_dim, activation=\"linear\"))\n",
    "\n",
    "model.compile(loss=\"mean_squared_error\", optimizer=Adam(lr=learning_rate))\n",
    "\n",
    "model.summary()"
   ]
  },
  {
   "cell_type": "code",
   "execution_count": 21,
   "metadata": {},
   "outputs": [
    {
     "name": "stdout",
     "output_type": "stream",
     "text": [
      "Epoch 1/100\n",
      "3/3 [==============================] - 1s 351ms/step - loss: 11.1452 - val_loss: 12.7703\n",
      "Epoch 2/100\n",
      "3/3 [==============================] - 0s 39ms/step - loss: 10.3005 - val_loss: 11.7463\n",
      "Epoch 3/100\n",
      "3/3 [==============================] - 0s 69ms/step - loss: 9.3723 - val_loss: 10.4806\n",
      "Epoch 4/100\n",
      "3/3 [==============================] - 0s 39ms/step - loss: 8.2014 - val_loss: 8.6512\n",
      "Epoch 5/100\n",
      "3/3 [==============================] - 0s 37ms/step - loss: 6.4625 - val_loss: 5.6953\n",
      "Epoch 6/100\n",
      "3/3 [==============================] - 0s 37ms/step - loss: 4.0564 - val_loss: 2.6165\n",
      "Epoch 7/100\n",
      "3/3 [==============================] - 0s 37ms/step - loss: 1.9829 - val_loss: 1.7083\n",
      "Epoch 8/100\n",
      "3/3 [==============================] - 0s 38ms/step - loss: 1.7059 - val_loss: 2.4110\n",
      "Epoch 9/100\n",
      "3/3 [==============================] - 0s 38ms/step - loss: 1.8844 - val_loss: 2.3035\n",
      "Epoch 10/100\n",
      "3/3 [==============================] - 0s 38ms/step - loss: 1.5913 - val_loss: 1.7907\n",
      "Epoch 11/100\n",
      "3/3 [==============================] - 0s 37ms/step - loss: 1.2089 - val_loss: 1.4696\n",
      "Epoch 12/100\n",
      "3/3 [==============================] - 0s 39ms/step - loss: 1.0008 - val_loss: 1.4243\n",
      "Epoch 13/100\n",
      "3/3 [==============================] - 0s 36ms/step - loss: 0.9804 - val_loss: 1.4619\n",
      "Epoch 14/100\n",
      "3/3 [==============================] - 0s 37ms/step - loss: 1.0059 - val_loss: 1.4588\n",
      "Epoch 15/100\n",
      "3/3 [==============================] - 0s 38ms/step - loss: 0.9774 - val_loss: 1.3914\n",
      "Epoch 16/100\n",
      "3/3 [==============================] - 0s 39ms/step - loss: 0.9082 - val_loss: 1.2997\n",
      "Epoch 17/100\n",
      "3/3 [==============================] - 0s 37ms/step - loss: 0.8393 - val_loss: 1.2258\n",
      "Epoch 18/100\n",
      "3/3 [==============================] - 0s 38ms/step - loss: 0.7926 - val_loss: 1.1738\n",
      "Epoch 19/100\n",
      "3/3 [==============================] - 0s 37ms/step - loss: 0.7622 - val_loss: 1.1169\n",
      "Epoch 20/100\n",
      "3/3 [==============================] - 0s 38ms/step - loss: 0.7248 - val_loss: 1.0362\n",
      "Epoch 21/100\n",
      "3/3 [==============================] - 0s 37ms/step - loss: 0.6733 - val_loss: 0.9479\n",
      "Epoch 22/100\n",
      "3/3 [==============================] - 0s 40ms/step - loss: 0.6193 - val_loss: 0.8795\n",
      "Epoch 23/100\n",
      "3/3 [==============================] - 0s 37ms/step - loss: 0.5770 - val_loss: 0.8251\n",
      "Epoch 24/100\n",
      "3/3 [==============================] - 0s 36ms/step - loss: 0.5424 - val_loss: 0.7596\n",
      "Epoch 25/100\n",
      "3/3 [==============================] - 0s 37ms/step - loss: 0.4914 - val_loss: 0.6704\n",
      "Epoch 26/100\n",
      "3/3 [==============================] - 0s 36ms/step - loss: 0.4460 - val_loss: 0.6015\n",
      "Epoch 27/100\n",
      "3/3 [==============================] - 0s 36ms/step - loss: 0.4015 - val_loss: 0.6347\n",
      "Epoch 28/100\n",
      "3/3 [==============================] - 0s 37ms/step - loss: 0.3728 - val_loss: 0.7678\n",
      "Epoch 29/100\n",
      "3/3 [==============================] - 0s 38ms/step - loss: 0.3471 - val_loss: 0.6251\n",
      "Epoch 30/100\n",
      "3/3 [==============================] - 0s 36ms/step - loss: 0.3252 - val_loss: 0.8096\n",
      "Epoch 31/100\n",
      "3/3 [==============================] - 0s 37ms/step - loss: 0.3099 - val_loss: 0.6564\n",
      "Epoch 32/100\n",
      "3/3 [==============================] - 0s 39ms/step - loss: 0.2915 - val_loss: 0.5956\n",
      "Epoch 33/100\n",
      "3/3 [==============================] - 0s 37ms/step - loss: 0.2794 - val_loss: 0.5528\n",
      "Epoch 34/100\n",
      "3/3 [==============================] - 0s 37ms/step - loss: 0.2685 - val_loss: 0.4700\n",
      "Epoch 35/100\n",
      "3/3 [==============================] - 0s 37ms/step - loss: 0.2574 - val_loss: 0.3810\n",
      "Epoch 36/100\n",
      "3/3 [==============================] - 0s 38ms/step - loss: 0.2487 - val_loss: 0.3772\n",
      "Epoch 37/100\n",
      "3/3 [==============================] - 0s 36ms/step - loss: 0.2412 - val_loss: 0.3340\n",
      "Epoch 38/100\n",
      "3/3 [==============================] - 0s 38ms/step - loss: 0.2307 - val_loss: 0.2935\n",
      "Epoch 39/100\n",
      "3/3 [==============================] - 0s 38ms/step - loss: 0.2227 - val_loss: 0.3200\n",
      "Epoch 40/100\n",
      "3/3 [==============================] - 0s 37ms/step - loss: 0.2139 - val_loss: 0.2646\n",
      "Epoch 41/100\n",
      "3/3 [==============================] - 0s 40ms/step - loss: 0.2090 - val_loss: 0.2851\n",
      "Epoch 42/100\n",
      "3/3 [==============================] - 0s 42ms/step - loss: 0.1972 - val_loss: 0.2429\n",
      "Epoch 43/100\n",
      "3/3 [==============================] - 0s 36ms/step - loss: 0.1923 - val_loss: 0.2387\n",
      "Epoch 44/100\n",
      "3/3 [==============================] - 0s 37ms/step - loss: 0.1840 - val_loss: 0.2417\n",
      "Epoch 45/100\n",
      "3/3 [==============================] - 0s 40ms/step - loss: 0.1786 - val_loss: 0.2138\n",
      "Epoch 46/100\n",
      "3/3 [==============================] - 0s 38ms/step - loss: 0.1715 - val_loss: 0.2157\n",
      "Epoch 47/100\n",
      "3/3 [==============================] - 0s 38ms/step - loss: 0.1665 - val_loss: 0.2015\n",
      "Epoch 48/100\n",
      "3/3 [==============================] - 0s 39ms/step - loss: 0.1599 - val_loss: 0.1901\n",
      "Epoch 49/100\n",
      "3/3 [==============================] - 0s 41ms/step - loss: 0.1560 - val_loss: 0.1823\n",
      "Epoch 50/100\n",
      "3/3 [==============================] - 0s 40ms/step - loss: 0.1530 - val_loss: 0.1726\n",
      "Epoch 51/100\n",
      "3/3 [==============================] - 0s 39ms/step - loss: 0.1445 - val_loss: 0.1774\n",
      "Epoch 52/100\n",
      "3/3 [==============================] - 0s 37ms/step - loss: 0.1427 - val_loss: 0.1570\n",
      "Epoch 53/100\n",
      "3/3 [==============================] - 0s 39ms/step - loss: 0.1367 - val_loss: 0.1612\n",
      "Epoch 54/100\n",
      "3/3 [==============================] - 0s 40ms/step - loss: 0.1302 - val_loss: 0.1476\n",
      "Epoch 55/100\n",
      "3/3 [==============================] - 0s 39ms/step - loss: 0.1286 - val_loss: 0.1532\n",
      "Epoch 56/100\n",
      "3/3 [==============================] - 0s 39ms/step - loss: 0.1250 - val_loss: 0.1374\n",
      "Epoch 57/100\n",
      "3/3 [==============================] - 0s 39ms/step - loss: 0.1185 - val_loss: 0.1349\n",
      "Epoch 58/100\n",
      "3/3 [==============================] - 0s 38ms/step - loss: 0.1156 - val_loss: 0.1301\n",
      "Epoch 59/100\n",
      "3/3 [==============================] - 0s 39ms/step - loss: 0.1111 - val_loss: 0.1242\n",
      "Epoch 60/100\n",
      "3/3 [==============================] - 0s 39ms/step - loss: 0.1088 - val_loss: 0.1212\n",
      "Epoch 61/100\n",
      "3/3 [==============================] - 0s 44ms/step - loss: 0.1048 - val_loss: 0.1195\n",
      "Epoch 62/100\n",
      "3/3 [==============================] - 0s 43ms/step - loss: 0.1019 - val_loss: 0.1125\n",
      "Epoch 63/100\n",
      "3/3 [==============================] - 0s 44ms/step - loss: 0.0993 - val_loss: 0.1120\n",
      "Epoch 64/100\n",
      "3/3 [==============================] - 0s 42ms/step - loss: 0.0967 - val_loss: 0.1063\n",
      "Epoch 65/100\n",
      "3/3 [==============================] - 0s 42ms/step - loss: 0.0941 - val_loss: 0.1115\n",
      "Epoch 66/100\n",
      "3/3 [==============================] - 0s 45ms/step - loss: 0.0926 - val_loss: 0.1016\n",
      "Epoch 67/100\n",
      "3/3 [==============================] - 0s 54ms/step - loss: 0.0887 - val_loss: 0.1050\n",
      "Epoch 68/100\n",
      "3/3 [==============================] - 0s 48ms/step - loss: 0.0895 - val_loss: 0.0989\n",
      "Epoch 69/100\n",
      "3/3 [==============================] - 0s 47ms/step - loss: 0.0854 - val_loss: 0.0949\n",
      "Epoch 70/100\n",
      "3/3 [==============================] - 0s 45ms/step - loss: 0.0836 - val_loss: 0.0983\n",
      "Epoch 71/100\n",
      "3/3 [==============================] - 0s 46ms/step - loss: 0.0825 - val_loss: 0.0903\n",
      "Epoch 72/100\n",
      "3/3 [==============================] - 0s 46ms/step - loss: 0.0805 - val_loss: 0.0883\n",
      "Epoch 73/100\n",
      "3/3 [==============================] - 0s 45ms/step - loss: 0.0784 - val_loss: 0.0859\n",
      "Epoch 74/100\n",
      "3/3 [==============================] - 0s 54ms/step - loss: 0.0756 - val_loss: 0.0819\n",
      "Epoch 75/100\n",
      "3/3 [==============================] - 0s 42ms/step - loss: 0.0744 - val_loss: 0.0806\n",
      "Epoch 76/100\n",
      "3/3 [==============================] - 0s 43ms/step - loss: 0.0749 - val_loss: 0.0849\n",
      "Epoch 77/100\n",
      "3/3 [==============================] - 0s 44ms/step - loss: 0.0717 - val_loss: 0.0768\n",
      "Epoch 78/100\n",
      "3/3 [==============================] - 0s 41ms/step - loss: 0.0702 - val_loss: 0.0762\n",
      "Epoch 79/100\n",
      "3/3 [==============================] - 0s 41ms/step - loss: 0.0679 - val_loss: 0.0749\n",
      "Epoch 80/100\n",
      "3/3 [==============================] - 0s 51ms/step - loss: 0.0662 - val_loss: 0.0722\n",
      "Epoch 81/100\n",
      "3/3 [==============================] - 0s 45ms/step - loss: 0.0655 - val_loss: 0.0725\n",
      "Epoch 82/100\n",
      "3/3 [==============================] - 0s 41ms/step - loss: 0.0637 - val_loss: 0.0682\n",
      "Epoch 83/100\n",
      "3/3 [==============================] - 0s 42ms/step - loss: 0.0629 - val_loss: 0.0674\n"
     ]
    },
    {
     "name": "stdout",
     "output_type": "stream",
     "text": [
      "Epoch 84/100\n",
      "3/3 [==============================] - 0s 40ms/step - loss: 0.0610 - val_loss: 0.0667\n",
      "Epoch 85/100\n",
      "3/3 [==============================] - 0s 40ms/step - loss: 0.0597 - val_loss: 0.0647\n",
      "Epoch 86/100\n",
      "3/3 [==============================] - 0s 42ms/step - loss: 0.0587 - val_loss: 0.0648\n",
      "Epoch 87/100\n",
      "3/3 [==============================] - 0s 40ms/step - loss: 0.0573 - val_loss: 0.0621\n",
      "Epoch 88/100\n",
      "3/3 [==============================] - 0s 45ms/step - loss: 0.0563 - val_loss: 0.0635\n",
      "Epoch 89/100\n",
      "3/3 [==============================] - 0s 40ms/step - loss: 0.0558 - val_loss: 0.0605\n",
      "Epoch 90/100\n",
      "3/3 [==============================] - 0s 44ms/step - loss: 0.0543 - val_loss: 0.0620\n",
      "Epoch 91/100\n",
      "3/3 [==============================] - 0s 40ms/step - loss: 0.0535 - val_loss: 0.0567\n",
      "Epoch 92/100\n",
      "3/3 [==============================] - 0s 40ms/step - loss: 0.0531 - val_loss: 0.0550\n",
      "Epoch 93/100\n",
      "3/3 [==============================] - 0s 41ms/step - loss: 0.0522 - val_loss: 0.0608\n",
      "Epoch 94/100\n",
      "3/3 [==============================] - 0s 40ms/step - loss: 0.0517 - val_loss: 0.0539\n",
      "Epoch 95/100\n",
      "3/3 [==============================] - 0s 40ms/step - loss: 0.0516 - val_loss: 0.0527\n",
      "Epoch 96/100\n",
      "3/3 [==============================] - 0s 40ms/step - loss: 0.0508 - val_loss: 0.0641\n",
      "Epoch 97/100\n",
      "3/3 [==============================] - 0s 40ms/step - loss: 0.0504 - val_loss: 0.0556\n",
      "Epoch 98/100\n",
      "3/3 [==============================] - 0s 42ms/step - loss: 0.0528 - val_loss: 0.0520\n",
      "Epoch 99/100\n",
      "3/3 [==============================] - 0s 42ms/step - loss: 0.0491 - val_loss: 0.0596\n",
      "Epoch 100/100\n",
      "3/3 [==============================] - 0s 42ms/step - loss: 0.0470 - val_loss: 0.0493\n"
     ]
    }
   ],
   "source": [
    "hist = model.fit(X,\n",
    "                 t,\n",
    "                 batch_size=batch_size,\n",
    "                 epochs=num_of_training_epochs,\n",
    "                 validation_split=0.1)"
   ]
  },
  {
   "cell_type": "code",
   "execution_count": 22,
   "metadata": {},
   "outputs": [
    {
     "data": {
      "text/plain": [
       "<AxesSubplot:>"
      ]
     },
     "execution_count": 22,
     "metadata": {},
     "output_type": "execute_result"
    },
    {
     "data": {
      "image/png": "[encoded data removed]",
      "text/plain": [
       "<Figure size 432x288 with 1 Axes>"
      ]
     },
     "metadata": {
      "needs_background": "light"
     },
     "output_type": "display_data"
    }
   ],
   "source": [
    "import pandas as pd\n",
    "\n",
    "results = pd.DataFrame(hist.history)\n",
    "results[['loss', 'val_loss']].plot()"
   ]
  },
  {
   "cell_type": "code",
   "execution_count": 23,
   "metadata": {},
   "outputs": [],
   "source": [
    "# 任意の長さの入力を受け付ける\n",
    "test = np.array([1, 1, 1, 0, 1, 0, 1])"
   ]
  },
  {
   "cell_type": "code",
   "execution_count": 24,
   "metadata": {},
   "outputs": [
    {
     "data": {
      "text/plain": [
       "array([2, 2, 2, 1, 2, 1, 2])"
      ]
     },
     "execution_count": 24,
     "metadata": {},
     "output_type": "execute_result"
    }
   ],
   "source": [
    "(test + 1)"
   ]
  },
  {
   "cell_type": "code",
   "execution_count": 25,
   "metadata": {},
   "outputs": [
    {
     "data": {
      "text/plain": [
       "array([[2, 2, 2, 1, 2, 1, 2]])"
      ]
     },
     "execution_count": 25,
     "metadata": {},
     "output_type": "execute_result"
    }
   ],
   "source": [
    "(test + 1).reshape((1, -1))"
   ]
  },
  {
   "cell_type": "code",
   "execution_count": 26,
   "metadata": {},
   "outputs": [
    {
     "name": "stdout",
     "output_type": "stream",
     "text": [
      "[[4.9335546]]\n",
      "[[4.9335546]]\n"
     ]
    }
   ],
   "source": [
    "# {0, 1}を{1, 2}に変換してモデルに入力\n",
    "# (a) 長さを変えずに入力\n",
    "print(model.predict((test + 1).reshape((1, -1))))                              # [[4.88129]]\n",
    "\n",
    "# (b) 後ろに適当な数の0を追加して入力\n",
    "print(model.predict(np.pad((test + 1), (0, 10), \"constant\").reshape((1, -1)))) # [[4.88129]]"
   ]
  },
  {
   "cell_type": "code",
   "execution_count": null,
   "metadata": {},
   "outputs": [],
   "source": []
  }
 ],
 "metadata": {
  "kernelspec": {
   "display_name": "Python 3",
   "language": "python",
   "name": "python3"
  },
  "language_info": {
   "codemirror_mode": {
    "name": "ipython",
    "version": 3
   },
   "file_extension": ".py",
   "mimetype": "text/x-python",
   "name": "python",
   "nbconvert_exporter": "python",
   "pygments_lexer": "ipython3",
   "version": "3.7.3"
  }
 },
 "nbformat": 4,
 "nbformat_minor": 4
}
