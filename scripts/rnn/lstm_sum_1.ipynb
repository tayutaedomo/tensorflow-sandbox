{
 "cells": [
  {
   "cell_type": "markdown",
   "metadata": {},
   "source": [
    "Reference: https://qiita.com/everylittle/items/ba821e93d275a421ca2b  \n",
    "  \n",
    "RNN(LSTM) を試す、列の総和を出力するモデル  \n",
    "固定長の場合"
   ]
  },
  {
   "cell_type": "code",
   "execution_count": 1,
   "metadata": {},
   "outputs": [],
   "source": [
    "import tensorflow as tf\n",
    "from tensorflow.keras.models import Sequential\n",
    "from tensorflow.keras.layers import Dense, Masking, LSTM\n",
    "#from keras.layers.recurrent import LSTM\n",
    "from tensorflow.keras.optimizers import Adam\n",
    "import numpy as np\n",
    "import random"
   ]
  },
  {
   "cell_type": "code",
   "execution_count": 2,
   "metadata": {},
   "outputs": [],
   "source": [
    "input_dim = 1                # 入力データの次元数：実数値1個なので1を指定\n",
    "output_dim = 1               # 出力データの次元数：同上\n",
    "num_hidden_units = 128       # 隠れ層のユニット数\n",
    "len_sequence = 10            # 時系列の長さ\n",
    "batch_size = 300             # ミニバッチサイズ\n",
    "num_of_training_epochs = 100 # 学習エポック数\n",
    "learning_rate = 0.001        # 学習率\n",
    "num_training_samples = 1000  # 学習データのサンプル数"
   ]
  },
  {
   "cell_type": "code",
   "execution_count": 3,
   "metadata": {},
   "outputs": [],
   "source": [
    "def create_data(nb_of_samples, sequence_len):\n",
    "    # 乱数で {0.0, 1.0} の列を指定された個数だけ生成する\n",
    "    X = np.random.randint(0, 2, (nb_of_samples, sequence_len)).astype(\"float32\")\n",
    "    \n",
    "    # 各行の総和を正解ラベルとする\n",
    "    t = np.sum(X, axis=1)\n",
    "    \n",
    "    # LSTMに与える入力は (サンプル, 時刻, 特徴量の次元) の3次元になる。\n",
    "    return X.reshape((nb_of_samples, sequence_len, 1)), t"
   ]
  },
  {
   "cell_type": "code",
   "execution_count": 4,
   "metadata": {},
   "outputs": [],
   "source": [
    "random.seed(0)\n",
    "np.random.seed(0)\n",
    "#tf.set_random_seed(0)\n",
    "tf.random.set_seed(0)"
   ]
  },
  {
   "cell_type": "code",
   "execution_count": 5,
   "metadata": {},
   "outputs": [],
   "source": [
    "X, t = create_data(num_training_samples, len_sequence)"
   ]
  },
  {
   "cell_type": "code",
   "execution_count": 6,
   "metadata": {},
   "outputs": [
    {
     "name": "stdout",
     "output_type": "stream",
     "text": [
      "(1000, 10, 1)\n",
      "(1000,)\n"
     ]
    }
   ],
   "source": [
    "print(X.shape)\n",
    "print(t.shape)"
   ]
  },
  {
   "cell_type": "code",
   "execution_count": 7,
   "metadata": {},
   "outputs": [
    {
     "data": {
      "text/plain": [
       "array([[1.],\n",
       "       [0.],\n",
       "       [0.],\n",
       "       [1.],\n",
       "       [0.],\n",
       "       [0.],\n",
       "       [0.],\n",
       "       [1.],\n",
       "       [1.],\n",
       "       [0.]], dtype=float32)"
      ]
     },
     "execution_count": 7,
     "metadata": {},
     "output_type": "execute_result"
    }
   ],
   "source": [
    "X[10]"
   ]
  },
  {
   "cell_type": "code",
   "execution_count": 8,
   "metadata": {},
   "outputs": [
    {
     "data": {
      "text/plain": [
       "4.0"
      ]
     },
     "execution_count": 8,
     "metadata": {},
     "output_type": "execute_result"
    }
   ],
   "source": [
    "t[10]"
   ]
  },
  {
   "cell_type": "code",
   "execution_count": 9,
   "metadata": {},
   "outputs": [
    {
     "data": {
      "text/html": [
       "<div>\n",
       "<style scoped>\n",
       "    .dataframe tbody tr th:only-of-type {\n",
       "        vertical-align: middle;\n",
       "    }\n",
       "\n",
       "    .dataframe tbody tr th {\n",
       "        vertical-align: top;\n",
       "    }\n",
       "\n",
       "    .dataframe thead th {\n",
       "        text-align: right;\n",
       "    }\n",
       "</style>\n",
       "<table border=\"1\" class=\"dataframe\">\n",
       "  <thead>\n",
       "    <tr style=\"text-align: right;\">\n",
       "      <th></th>\n",
       "      <th>0</th>\n",
       "      <th>1</th>\n",
       "      <th>2</th>\n",
       "      <th>3</th>\n",
       "      <th>4</th>\n",
       "      <th>5</th>\n",
       "      <th>6</th>\n",
       "      <th>7</th>\n",
       "      <th>8</th>\n",
       "      <th>9</th>\n",
       "    </tr>\n",
       "  </thead>\n",
       "  <tbody>\n",
       "    <tr>\n",
       "      <th>0</th>\n",
       "      <td>0.0</td>\n",
       "      <td>1.0</td>\n",
       "      <td>1.0</td>\n",
       "      <td>0.0</td>\n",
       "      <td>1.0</td>\n",
       "      <td>1.0</td>\n",
       "      <td>1.0</td>\n",
       "      <td>1.0</td>\n",
       "      <td>1.0</td>\n",
       "      <td>1.0</td>\n",
       "    </tr>\n",
       "    <tr>\n",
       "      <th>1</th>\n",
       "      <td>1.0</td>\n",
       "      <td>0.0</td>\n",
       "      <td>0.0</td>\n",
       "      <td>1.0</td>\n",
       "      <td>0.0</td>\n",
       "      <td>0.0</td>\n",
       "      <td>0.0</td>\n",
       "      <td>0.0</td>\n",
       "      <td>0.0</td>\n",
       "      <td>1.0</td>\n",
       "    </tr>\n",
       "    <tr>\n",
       "      <th>2</th>\n",
       "      <td>0.0</td>\n",
       "      <td>1.0</td>\n",
       "      <td>1.0</td>\n",
       "      <td>0.0</td>\n",
       "      <td>0.0</td>\n",
       "      <td>1.0</td>\n",
       "      <td>1.0</td>\n",
       "      <td>1.0</td>\n",
       "      <td>1.0</td>\n",
       "      <td>0.0</td>\n",
       "    </tr>\n",
       "    <tr>\n",
       "      <th>3</th>\n",
       "      <td>1.0</td>\n",
       "      <td>0.0</td>\n",
       "      <td>1.0</td>\n",
       "      <td>0.0</td>\n",
       "      <td>1.0</td>\n",
       "      <td>1.0</td>\n",
       "      <td>0.0</td>\n",
       "      <td>1.0</td>\n",
       "      <td>1.0</td>\n",
       "      <td>0.0</td>\n",
       "    </tr>\n",
       "    <tr>\n",
       "      <th>4</th>\n",
       "      <td>0.0</td>\n",
       "      <td>1.0</td>\n",
       "      <td>0.0</td>\n",
       "      <td>1.0</td>\n",
       "      <td>1.0</td>\n",
       "      <td>1.0</td>\n",
       "      <td>1.0</td>\n",
       "      <td>1.0</td>\n",
       "      <td>0.0</td>\n",
       "      <td>1.0</td>\n",
       "    </tr>\n",
       "  </tbody>\n",
       "</table>\n",
       "</div>"
      ],
      "text/plain": [
       "     0    1    2    3    4    5    6    7    8    9\n",
       "0  0.0  1.0  1.0  0.0  1.0  1.0  1.0  1.0  1.0  1.0\n",
       "1  1.0  0.0  0.0  1.0  0.0  0.0  0.0  0.0  0.0  1.0\n",
       "2  0.0  1.0  1.0  0.0  0.0  1.0  1.0  1.0  1.0  0.0\n",
       "3  1.0  0.0  1.0  0.0  1.0  1.0  0.0  1.0  1.0  0.0\n",
       "4  0.0  1.0  0.0  1.0  1.0  1.0  1.0  1.0  0.0  1.0"
      ]
     },
     "execution_count": 9,
     "metadata": {},
     "output_type": "execute_result"
    }
   ],
   "source": [
    "#X.reshape(X.shape[:-1])\n",
    "\n",
    "import pandas as pd\n",
    "df = pd.DataFrame(X.reshape(X.shape[:-1]))\n",
    "df.head()"
   ]
  },
  {
   "cell_type": "code",
   "execution_count": 10,
   "metadata": {},
   "outputs": [
    {
     "data": {
      "text/html": [
       "<div>\n",
       "<style scoped>\n",
       "    .dataframe tbody tr th:only-of-type {\n",
       "        vertical-align: middle;\n",
       "    }\n",
       "\n",
       "    .dataframe tbody tr th {\n",
       "        vertical-align: top;\n",
       "    }\n",
       "\n",
       "    .dataframe thead th {\n",
       "        text-align: right;\n",
       "    }\n",
       "</style>\n",
       "<table border=\"1\" class=\"dataframe\">\n",
       "  <thead>\n",
       "    <tr style=\"text-align: right;\">\n",
       "      <th></th>\n",
       "      <th>0</th>\n",
       "      <th>1</th>\n",
       "      <th>2</th>\n",
       "      <th>3</th>\n",
       "      <th>4</th>\n",
       "      <th>5</th>\n",
       "      <th>6</th>\n",
       "      <th>7</th>\n",
       "      <th>8</th>\n",
       "      <th>9</th>\n",
       "      <th>t</th>\n",
       "    </tr>\n",
       "  </thead>\n",
       "  <tbody>\n",
       "    <tr>\n",
       "      <th>995</th>\n",
       "      <td>1.0</td>\n",
       "      <td>1.0</td>\n",
       "      <td>1.0</td>\n",
       "      <td>0.0</td>\n",
       "      <td>1.0</td>\n",
       "      <td>1.0</td>\n",
       "      <td>0.0</td>\n",
       "      <td>0.0</td>\n",
       "      <td>1.0</td>\n",
       "      <td>1.0</td>\n",
       "      <td>7.0</td>\n",
       "    </tr>\n",
       "    <tr>\n",
       "      <th>996</th>\n",
       "      <td>1.0</td>\n",
       "      <td>0.0</td>\n",
       "      <td>0.0</td>\n",
       "      <td>1.0</td>\n",
       "      <td>0.0</td>\n",
       "      <td>1.0</td>\n",
       "      <td>1.0</td>\n",
       "      <td>1.0</td>\n",
       "      <td>1.0</td>\n",
       "      <td>0.0</td>\n",
       "      <td>6.0</td>\n",
       "    </tr>\n",
       "    <tr>\n",
       "      <th>997</th>\n",
       "      <td>0.0</td>\n",
       "      <td>0.0</td>\n",
       "      <td>1.0</td>\n",
       "      <td>0.0</td>\n",
       "      <td>1.0</td>\n",
       "      <td>1.0</td>\n",
       "      <td>1.0</td>\n",
       "      <td>0.0</td>\n",
       "      <td>0.0</td>\n",
       "      <td>1.0</td>\n",
       "      <td>5.0</td>\n",
       "    </tr>\n",
       "    <tr>\n",
       "      <th>998</th>\n",
       "      <td>1.0</td>\n",
       "      <td>1.0</td>\n",
       "      <td>1.0</td>\n",
       "      <td>1.0</td>\n",
       "      <td>1.0</td>\n",
       "      <td>0.0</td>\n",
       "      <td>0.0</td>\n",
       "      <td>0.0</td>\n",
       "      <td>1.0</td>\n",
       "      <td>1.0</td>\n",
       "      <td>7.0</td>\n",
       "    </tr>\n",
       "    <tr>\n",
       "      <th>999</th>\n",
       "      <td>0.0</td>\n",
       "      <td>1.0</td>\n",
       "      <td>0.0</td>\n",
       "      <td>0.0</td>\n",
       "      <td>1.0</td>\n",
       "      <td>0.0</td>\n",
       "      <td>1.0</td>\n",
       "      <td>0.0</td>\n",
       "      <td>1.0</td>\n",
       "      <td>0.0</td>\n",
       "      <td>4.0</td>\n",
       "    </tr>\n",
       "  </tbody>\n",
       "</table>\n",
       "</div>"
      ],
      "text/plain": [
       "       0    1    2    3    4    5    6    7    8    9    t\n",
       "995  1.0  1.0  1.0  0.0  1.0  1.0  0.0  0.0  1.0  1.0  7.0\n",
       "996  1.0  0.0  0.0  1.0  0.0  1.0  1.0  1.0  1.0  0.0  6.0\n",
       "997  0.0  0.0  1.0  0.0  1.0  1.0  1.0  0.0  0.0  1.0  5.0\n",
       "998  1.0  1.0  1.0  1.0  1.0  0.0  0.0  0.0  1.0  1.0  7.0\n",
       "999  0.0  1.0  0.0  0.0  1.0  0.0  1.0  0.0  1.0  0.0  4.0"
      ]
     },
     "execution_count": 10,
     "metadata": {},
     "output_type": "execute_result"
    }
   ],
   "source": [
    "df2 = pd.concat([df, pd.Series(t, name='t')], axis=1)\n",
    "df2.tail()"
   ]
  },
  {
   "cell_type": "code",
   "execution_count": 20,
   "metadata": {},
   "outputs": [],
   "source": [
    "from sklearn.model_selection import train_test_split\n",
    "\n",
    "X_train, X_val, t_train, t_val = train_test_split(X, t, train_size=0.7, random_state=0)"
   ]
  },
  {
   "cell_type": "code",
   "execution_count": 21,
   "metadata": {},
   "outputs": [
    {
     "name": "stdout",
     "output_type": "stream",
     "text": [
      "(700, 10, 1) (700,)\n",
      "(300, 10, 1) (300,)\n"
     ]
    }
   ],
   "source": [
    "print(X_train.shape, t_train.shape)\n",
    "print(X_val.shape, t_val.shape)"
   ]
  },
  {
   "cell_type": "code",
   "execution_count": 32,
   "metadata": {},
   "outputs": [
    {
     "name": "stdout",
     "output_type": "stream",
     "text": [
      "Model: \"sequential_5\"\n",
      "_________________________________________________________________\n",
      "Layer (type)                 Output Shape              Param #   \n",
      "=================================================================\n",
      "lstm_5 (LSTM)                (None, 128)               66560     \n",
      "_________________________________________________________________\n",
      "dense_5 (Dense)              (None, 1)                 129       \n",
      "=================================================================\n",
      "Total params: 66,689\n",
      "Trainable params: 66,689\n",
      "Non-trainable params: 0\n",
      "_________________________________________________________________\n"
     ]
    }
   ],
   "source": [
    "lstm = LSTM(num_hidden_units, input_shape=(len_sequence, input_dim), return_sequences=False)\n",
    "\n",
    "model = Sequential()\n",
    "\n",
    "model.add(lstm)\n",
    "model.add(Dense(output_dim))\n",
    "\n",
    "model.compile(loss=\"mean_squared_error\", optimizer=Adam(lr=learning_rate))\n",
    "\n",
    "model.summary()"
   ]
  },
  {
   "cell_type": "code",
   "execution_count": 33,
   "metadata": {},
   "outputs": [
    {
     "name": "stdout",
     "output_type": "stream",
     "text": [
      "Epoch 1/100\n",
      "3/3 [==============================] - 0s 109ms/step - loss: 28.4660 - val_loss: 25.7327\n",
      "Epoch 2/100\n",
      "3/3 [==============================] - 0s 19ms/step - loss: 26.6322 - val_loss: 23.8581\n",
      "Epoch 3/100\n",
      "3/3 [==============================] - 0s 20ms/step - loss: 24.5694 - val_loss: 21.4701\n",
      "Epoch 4/100\n",
      "3/3 [==============================] - 0s 19ms/step - loss: 21.8270 - val_loss: 17.8755\n",
      "Epoch 5/100\n",
      "3/3 [==============================] - 0s 19ms/step - loss: 17.5319 - val_loss: 11.7643\n",
      "Epoch 6/100\n",
      "3/3 [==============================] - 0s 20ms/step - loss: 10.4554 - val_loss: 3.1949\n",
      "Epoch 7/100\n",
      "3/3 [==============================] - 0s 19ms/step - loss: 2.2888 - val_loss: 2.1783\n",
      "Epoch 8/100\n",
      "3/3 [==============================] - 0s 19ms/step - loss: 3.1273 - val_loss: 4.7649\n",
      "Epoch 9/100\n",
      "3/3 [==============================] - 0s 21ms/step - loss: 4.1014 - val_loss: 2.4370\n",
      "Epoch 10/100\n",
      "3/3 [==============================] - 0s 19ms/step - loss: 1.9175 - val_loss: 1.0323\n",
      "Epoch 11/100\n",
      "3/3 [==============================] - 0s 20ms/step - loss: 1.1986 - val_loss: 1.3149\n",
      "Epoch 12/100\n",
      "3/3 [==============================] - 0s 19ms/step - loss: 1.7217 - val_loss: 1.6672\n",
      "Epoch 13/100\n",
      "3/3 [==============================] - 0s 20ms/step - loss: 1.9505 - val_loss: 1.4587\n",
      "Epoch 14/100\n",
      "3/3 [==============================] - 0s 20ms/step - loss: 1.6290 - val_loss: 1.1038\n",
      "Epoch 15/100\n",
      "3/3 [==============================] - 0s 19ms/step - loss: 1.2394 - val_loss: 1.0475\n",
      "Epoch 16/100\n",
      "3/3 [==============================] - 0s 19ms/step - loss: 1.2098 - val_loss: 1.1978\n",
      "Epoch 17/100\n",
      "3/3 [==============================] - 0s 19ms/step - loss: 1.2840 - val_loss: 1.1978\n",
      "Epoch 18/100\n",
      "3/3 [==============================] - 0s 19ms/step - loss: 1.2274 - val_loss: 1.0113\n",
      "Epoch 19/100\n",
      "3/3 [==============================] - 0s 23ms/step - loss: 1.0646 - val_loss: 0.8667\n",
      "Epoch 20/100\n",
      "3/3 [==============================] - 0s 19ms/step - loss: 0.9883 - val_loss: 0.8397\n",
      "Epoch 21/100\n",
      "3/3 [==============================] - 0s 19ms/step - loss: 0.9815 - val_loss: 0.8042\n",
      "Epoch 22/100\n",
      "3/3 [==============================] - 0s 20ms/step - loss: 0.9194 - val_loss: 0.7457\n",
      "Epoch 23/100\n",
      "3/3 [==============================] - 0s 20ms/step - loss: 0.8377 - val_loss: 0.7480\n",
      "Epoch 24/100\n",
      "3/3 [==============================] - 0s 19ms/step - loss: 0.8078 - val_loss: 0.7335\n",
      "Epoch 25/100\n",
      "3/3 [==============================] - 0s 19ms/step - loss: 0.7612 - val_loss: 0.6486\n",
      "Epoch 26/100\n",
      "3/3 [==============================] - 0s 19ms/step - loss: 0.7058 - val_loss: 0.6011\n",
      "Epoch 27/100\n",
      "3/3 [==============================] - 0s 19ms/step - loss: 0.6771 - val_loss: 0.5695\n",
      "Epoch 28/100\n",
      "3/3 [==============================] - 0s 19ms/step - loss: 0.6326 - val_loss: 0.5552\n",
      "Epoch 29/100\n",
      "3/3 [==============================] - 0s 21ms/step - loss: 0.5916 - val_loss: 0.5294\n",
      "Epoch 30/100\n",
      "3/3 [==============================] - 0s 19ms/step - loss: 0.5596 - val_loss: 0.4891\n",
      "Epoch 31/100\n",
      "3/3 [==============================] - 0s 19ms/step - loss: 0.5273 - val_loss: 0.4572\n",
      "Epoch 32/100\n",
      "3/3 [==============================] - 0s 20ms/step - loss: 0.4973 - val_loss: 0.4359\n",
      "Epoch 33/100\n",
      "3/3 [==============================] - 0s 19ms/step - loss: 0.4688 - val_loss: 0.4053\n",
      "Epoch 34/100\n",
      "3/3 [==============================] - 0s 19ms/step - loss: 0.4414 - val_loss: 0.3757\n",
      "Epoch 35/100\n",
      "3/3 [==============================] - 0s 20ms/step - loss: 0.4180 - val_loss: 0.3607\n",
      "Epoch 36/100\n",
      "3/3 [==============================] - 0s 20ms/step - loss: 0.3931 - val_loss: 0.3388\n",
      "Epoch 37/100\n",
      "3/3 [==============================] - 0s 19ms/step - loss: 0.3722 - val_loss: 0.3165\n",
      "Epoch 38/100\n",
      "3/3 [==============================] - 0s 19ms/step - loss: 0.3544 - val_loss: 0.3059\n",
      "Epoch 39/100\n",
      "3/3 [==============================] - 0s 21ms/step - loss: 0.3392 - val_loss: 0.2910\n",
      "Epoch 40/100\n",
      "3/3 [==============================] - 0s 19ms/step - loss: 0.3293 - val_loss: 0.2823\n",
      "Epoch 41/100\n",
      "3/3 [==============================] - 0s 19ms/step - loss: 0.3166 - val_loss: 0.2766\n",
      "Epoch 42/100\n",
      "3/3 [==============================] - 0s 20ms/step - loss: 0.3077 - val_loss: 0.2619\n",
      "Epoch 43/100\n",
      "3/3 [==============================] - 0s 20ms/step - loss: 0.3022 - val_loss: 0.2559\n",
      "Epoch 44/100\n",
      "3/3 [==============================] - 0s 19ms/step - loss: 0.2911 - val_loss: 0.2521\n",
      "Epoch 45/100\n",
      "3/3 [==============================] - 0s 20ms/step - loss: 0.2869 - val_loss: 0.2417\n",
      "Epoch 46/100\n",
      "3/3 [==============================] - 0s 20ms/step - loss: 0.2741 - val_loss: 0.2424\n",
      "Epoch 47/100\n",
      "3/3 [==============================] - 0s 20ms/step - loss: 0.2662 - val_loss: 0.2272\n",
      "Epoch 48/100\n",
      "3/3 [==============================] - 0s 20ms/step - loss: 0.2588 - val_loss: 0.2294\n",
      "Epoch 49/100\n",
      "3/3 [==============================] - 0s 21ms/step - loss: 0.2518 - val_loss: 0.2162\n",
      "Epoch 50/100\n",
      "3/3 [==============================] - 0s 19ms/step - loss: 0.2453 - val_loss: 0.2156\n",
      "Epoch 51/100\n",
      "3/3 [==============================] - 0s 19ms/step - loss: 0.2372 - val_loss: 0.2022\n",
      "Epoch 52/100\n",
      "3/3 [==============================] - 0s 19ms/step - loss: 0.2321 - val_loss: 0.1982\n",
      "Epoch 53/100\n",
      "3/3 [==============================] - 0s 19ms/step - loss: 0.2221 - val_loss: 0.1976\n",
      "Epoch 54/100\n",
      "3/3 [==============================] - 0s 19ms/step - loss: 0.2164 - val_loss: 0.1860\n",
      "Epoch 55/100\n",
      "3/3 [==============================] - 0s 19ms/step - loss: 0.2127 - val_loss: 0.1875\n",
      "Epoch 56/100\n",
      "3/3 [==============================] - 0s 19ms/step - loss: 0.2052 - val_loss: 0.1778\n",
      "Epoch 57/100\n",
      "3/3 [==============================] - 0s 20ms/step - loss: 0.2044 - val_loss: 0.1871\n",
      "Epoch 58/100\n",
      "3/3 [==============================] - 0s 22ms/step - loss: 0.2057 - val_loss: 0.1688\n",
      "Epoch 59/100\n",
      "3/3 [==============================] - 0s 22ms/step - loss: 0.1977 - val_loss: 0.1794\n",
      "Epoch 60/100\n",
      "3/3 [==============================] - 0s 20ms/step - loss: 0.1915 - val_loss: 0.1591\n",
      "Epoch 61/100\n",
      "3/3 [==============================] - 0s 20ms/step - loss: 0.1818 - val_loss: 0.1570\n",
      "Epoch 62/100\n",
      "3/3 [==============================] - 0s 20ms/step - loss: 0.1717 - val_loss: 0.1495\n",
      "Epoch 63/100\n",
      "3/3 [==============================] - 0s 21ms/step - loss: 0.1678 - val_loss: 0.1488\n",
      "Epoch 64/100\n",
      "3/3 [==============================] - 0s 19ms/step - loss: 0.1631 - val_loss: 0.1442\n",
      "Epoch 65/100\n",
      "3/3 [==============================] - 0s 19ms/step - loss: 0.1664 - val_loss: 0.1382\n",
      "Epoch 66/100\n",
      "3/3 [==============================] - 0s 20ms/step - loss: 0.1513 - val_loss: 0.1336\n",
      "Epoch 67/100\n",
      "3/3 [==============================] - 0s 19ms/step - loss: 0.1476 - val_loss: 0.1409\n",
      "Epoch 68/100\n",
      "3/3 [==============================] - 0s 20ms/step - loss: 0.1458 - val_loss: 0.1292\n",
      "Epoch 69/100\n",
      "3/3 [==============================] - 0s 22ms/step - loss: 0.1419 - val_loss: 0.1313\n",
      "Epoch 70/100\n",
      "3/3 [==============================] - 0s 20ms/step - loss: 0.1365 - val_loss: 0.1208\n",
      "Epoch 71/100\n",
      "3/3 [==============================] - 0s 20ms/step - loss: 0.1327 - val_loss: 0.1168\n",
      "Epoch 72/100\n",
      "3/3 [==============================] - 0s 21ms/step - loss: 0.1274 - val_loss: 0.1123\n",
      "Epoch 73/100\n",
      "3/3 [==============================] - 0s 20ms/step - loss: 0.1219 - val_loss: 0.1159\n",
      "Epoch 74/100\n",
      "3/3 [==============================] - 0s 21ms/step - loss: 0.1201 - val_loss: 0.1086\n",
      "Epoch 75/100\n",
      "3/3 [==============================] - 0s 20ms/step - loss: 0.1196 - val_loss: 0.1029\n",
      "Epoch 76/100\n",
      "3/3 [==============================] - 0s 21ms/step - loss: 0.1134 - val_loss: 0.1038\n",
      "Epoch 77/100\n",
      "3/3 [==============================] - 0s 20ms/step - loss: 0.1096 - val_loss: 0.0999\n",
      "Epoch 78/100\n",
      "3/3 [==============================] - 0s 19ms/step - loss: 0.1080 - val_loss: 0.1040\n",
      "Epoch 79/100\n",
      "3/3 [==============================] - 0s 21ms/step - loss: 0.1049 - val_loss: 0.0923\n",
      "Epoch 80/100\n",
      "3/3 [==============================] - 0s 19ms/step - loss: 0.0996 - val_loss: 0.0894\n",
      "Epoch 81/100\n",
      "3/3 [==============================] - 0s 20ms/step - loss: 0.0961 - val_loss: 0.0884\n",
      "Epoch 82/100\n",
      "3/3 [==============================] - 0s 20ms/step - loss: 0.0946 - val_loss: 0.0872\n",
      "Epoch 83/100\n"
     ]
    },
    {
     "name": "stdout",
     "output_type": "stream",
     "text": [
      "3/3 [==============================] - 0s 21ms/step - loss: 0.0923 - val_loss: 0.0964\n",
      "Epoch 84/100\n",
      "3/3 [==============================] - 0s 21ms/step - loss: 0.0917 - val_loss: 0.0941\n",
      "Epoch 85/100\n",
      "3/3 [==============================] - 0s 21ms/step - loss: 0.0928 - val_loss: 0.0862\n",
      "Epoch 86/100\n",
      "3/3 [==============================] - 0s 20ms/step - loss: 0.0850 - val_loss: 0.0754\n",
      "Epoch 87/100\n",
      "3/3 [==============================] - 0s 20ms/step - loss: 0.0825 - val_loss: 0.0748\n",
      "Epoch 88/100\n",
      "3/3 [==============================] - 0s 19ms/step - loss: 0.0829 - val_loss: 0.0941\n",
      "Epoch 89/100\n",
      "3/3 [==============================] - 0s 22ms/step - loss: 0.0884 - val_loss: 0.0751\n",
      "Epoch 90/100\n",
      "3/3 [==============================] - 0s 19ms/step - loss: 0.0786 - val_loss: 0.0666\n",
      "Epoch 91/100\n",
      "3/3 [==============================] - 0s 20ms/step - loss: 0.0733 - val_loss: 0.0689\n",
      "Epoch 92/100\n",
      "3/3 [==============================] - 0s 19ms/step - loss: 0.0716 - val_loss: 0.0727\n",
      "Epoch 93/100\n",
      "3/3 [==============================] - 0s 19ms/step - loss: 0.0722 - val_loss: 0.0716\n",
      "Epoch 94/100\n",
      "3/3 [==============================] - 0s 19ms/step - loss: 0.0685 - val_loss: 0.0604\n",
      "Epoch 95/100\n",
      "3/3 [==============================] - 0s 23ms/step - loss: 0.0667 - val_loss: 0.0581\n",
      "Epoch 96/100\n",
      "3/3 [==============================] - 0s 21ms/step - loss: 0.0628 - val_loss: 0.0592\n",
      "Epoch 97/100\n",
      "3/3 [==============================] - 0s 21ms/step - loss: 0.0598 - val_loss: 0.0582\n",
      "Epoch 98/100\n",
      "3/3 [==============================] - 0s 20ms/step - loss: 0.0613 - val_loss: 0.0556\n",
      "Epoch 99/100\n",
      "3/3 [==============================] - 0s 22ms/step - loss: 0.0598 - val_loss: 0.0525\n",
      "Epoch 100/100\n",
      "3/3 [==============================] - 0s 19ms/step - loss: 0.0553 - val_loss: 0.0514\n"
     ]
    }
   ],
   "source": [
    "# model.fit(X,\n",
    "#           t,\n",
    "#           batch_size=batch_size,\n",
    "#           epochs=num_of_training_epochs,\n",
    "#           validation_split=0.1)\n",
    "\n",
    "# hist = model.fit(X_train,\n",
    "#                  t_train,\n",
    "#                  batch_size=batch_size,\n",
    "#                  epochs=num_of_training_epochs,\n",
    "#                  validation_split=0.1)\n",
    "hist = model.fit(X_train,\n",
    "                 t_train,\n",
    "                 batch_size=batch_size,\n",
    "                 epochs=num_of_training_epochs,\n",
    "                 validation_data=(X_val, t_val))"
   ]
  },
  {
   "cell_type": "code",
   "execution_count": 35,
   "metadata": {},
   "outputs": [
    {
     "name": "stdout",
     "output_type": "stream",
     "text": [
      "[[7.8963113]]\n"
     ]
    }
   ],
   "source": [
    "test = np.array([1, 1, 1, 1, 0, 1, 1, 1, 0, 1]).astype(\"float32\").reshape((1, 10, 1))\n",
    "\n",
    "print(model.predict(test)) # [[7.7854743]]"
   ]
  },
  {
   "cell_type": "code",
   "execution_count": 34,
   "metadata": {},
   "outputs": [
    {
     "data": {
      "text/plain": [
       "<AxesSubplot:>"
      ]
     },
     "execution_count": 34,
     "metadata": {},
     "output_type": "execute_result"
    },
    {
     "data": {
      "image/png": "[encoded data removed]",
      "text/plain": [
       "<Figure size 432x288 with 1 Axes>"
      ]
     },
     "metadata": {
      "needs_background": "light"
     },
     "output_type": "display_data"
    }
   ],
   "source": [
    "import pandas as pd\n",
    "\n",
    "results = pd.DataFrame(hist.history)\n",
    "results[['loss', 'val_loss']].plot()"
   ]
  },
  {
   "cell_type": "code",
   "execution_count": null,
   "metadata": {},
   "outputs": [],
   "source": []
  }
 ],
 "metadata": {
  "kernelspec": {
   "display_name": "Python 3",
   "language": "python",
   "name": "python3"
  },
  "language_info": {
   "codemirror_mode": {
    "name": "ipython",
    "version": 3
   },
   "file_extension": ".py",
   "mimetype": "text/x-python",
   "name": "python",
   "nbconvert_exporter": "python",
   "pygments_lexer": "ipython3",
   "version": "3.7.3"
  }
 },
 "nbformat": 4,
 "nbformat_minor": 4
}
