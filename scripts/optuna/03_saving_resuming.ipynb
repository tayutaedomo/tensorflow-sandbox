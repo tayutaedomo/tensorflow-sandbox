{
 "cells": [
  {
   "cell_type": "code",
   "execution_count": 1,
   "metadata": {},
   "outputs": [],
   "source": [
    "import optuna"
   ]
  },
  {
   "cell_type": "code",
   "execution_count": 2,
   "metadata": {},
   "outputs": [
    {
     "name": "stderr",
     "output_type": "stream",
     "text": [
      "[I 2020-06-19 17:40:21,751] A new study created with name: example-study\n"
     ]
    }
   ],
   "source": [
    "study_name = 'example-study'\n",
    "study = optuna.create_study(study_name=study_name, storage='sqlite:///data/example.db')"
   ]
  },
  {
   "cell_type": "code",
   "execution_count": 3,
   "metadata": {},
   "outputs": [],
   "source": [
    "def objective(trial):\n",
    "    x = trial.suggest_uniform('x', -10, 10)\n",
    "    return (x - 2) ** 2"
   ]
  },
  {
   "cell_type": "code",
   "execution_count": 4,
   "metadata": {},
   "outputs": [
    {
     "name": "stderr",
     "output_type": "stream",
     "text": [
      "[I 2020-06-19 17:40:40,077] Finished trial#0 with value: 130.6227844738971 with parameters: {'x': -9.429032525717}. Best is trial#0 with value: 130.6227844738971.\n",
      "[I 2020-06-19 17:40:40,138] Finished trial#1 with value: 17.704788705179134 with parameters: {'x': 6.207705871990001}. Best is trial#1 with value: 17.704788705179134.\n",
      "[I 2020-06-19 17:40:40,207] Finished trial#2 with value: 25.380253874218617 with parameters: {'x': -3.037881883710516}. Best is trial#1 with value: 17.704788705179134.\n"
     ]
    }
   ],
   "source": [
    "study.optimize(objective, n_trials=3)"
   ]
  },
  {
   "cell_type": "code",
   "execution_count": 5,
   "metadata": {},
   "outputs": [
    {
     "name": "stderr",
     "output_type": "stream",
     "text": [
      "[I 2020-06-19 17:41:14,186] Using an existing study with name 'example-study' instead of creating a new one.\n",
      "[I 2020-06-19 17:41:14,272] Finished trial#3 with value: 4.33217224472125 with parameters: {'x': -0.08138709631852237}. Best is trial#3 with value: 4.33217224472125.\n",
      "[I 2020-06-19 17:41:14,334] Finished trial#4 with value: 26.469996187230162 with parameters: {'x': 7.144900017223868}. Best is trial#3 with value: 4.33217224472125.\n",
      "[I 2020-06-19 17:41:14,406] Finished trial#5 with value: 85.82468793080488 with parameters: {'x': -7.264161480177518}. Best is trial#3 with value: 4.33217224472125.\n"
     ]
    }
   ],
   "source": [
    "study = optuna.create_study(study_name='example-study', storage='sqlite:///data/example.db', load_if_exists=True)\n",
    "study.optimize(objective, n_trials=3)"
   ]
  },
  {
   "cell_type": "code",
   "execution_count": 6,
   "metadata": {},
   "outputs": [
    {
     "ename": "ImportError",
     "evalue": "pandas is not available. Please install pandas to use this feature. pandas can be installed by executing `$ pip install pandas`. For further information, please refer to the installation guide of pandas. (The actual import error is as follows: No module named 'pandas')",
     "output_type": "error",
     "traceback": [
      "\u001b[0;31m---------------------------------------------------------------------------\u001b[0m",
      "\u001b[0;31mImportError\u001b[0m                               Traceback (most recent call last)",
      "\u001b[0;32m<ipython-input-6-7217a5b30dad>\u001b[0m in \u001b[0;36m<module>\u001b[0;34m\u001b[0m\n\u001b[0;32m----> 1\u001b[0;31m \u001b[0mdf\u001b[0m \u001b[0;34m=\u001b[0m \u001b[0mstudy\u001b[0m\u001b[0;34m.\u001b[0m\u001b[0mtrials_dataframe\u001b[0m\u001b[0;34m(\u001b[0m\u001b[0mattrs\u001b[0m\u001b[0;34m=\u001b[0m\u001b[0;34m(\u001b[0m\u001b[0;34m'number'\u001b[0m\u001b[0;34m,\u001b[0m \u001b[0;34m'value'\u001b[0m\u001b[0;34m,\u001b[0m \u001b[0;34m'params'\u001b[0m\u001b[0;34m,\u001b[0m \u001b[0;34m'state'\u001b[0m\u001b[0;34m)\u001b[0m\u001b[0;34m)\u001b[0m\u001b[0;34m\u001b[0m\u001b[0;34m\u001b[0m\u001b[0m\n\u001b[0m",
      "\u001b[0;32m~/project/ML/tensorflow-sandbox/venv/lib/python3.7/site-packages/optuna/study.py\u001b[0m in \u001b[0;36mtrials_dataframe\u001b[0;34m(self, attrs, multi_index)\u001b[0m\n\u001b[1;32m    471\u001b[0m         \"\"\"\n\u001b[1;32m    472\u001b[0m \u001b[0;34m\u001b[0m\u001b[0m\n\u001b[0;32m--> 473\u001b[0;31m         \u001b[0m_check_pandas_availability\u001b[0m\u001b[0;34m(\u001b[0m\u001b[0;34m)\u001b[0m\u001b[0;34m\u001b[0m\u001b[0;34m\u001b[0m\u001b[0m\n\u001b[0m\u001b[1;32m    474\u001b[0m \u001b[0;34m\u001b[0m\u001b[0m\n\u001b[1;32m    475\u001b[0m         \u001b[0mtrials\u001b[0m \u001b[0;34m=\u001b[0m \u001b[0mself\u001b[0m\u001b[0;34m.\u001b[0m\u001b[0mget_trials\u001b[0m\u001b[0;34m(\u001b[0m\u001b[0mdeepcopy\u001b[0m\u001b[0;34m=\u001b[0m\u001b[0;32mFalse\u001b[0m\u001b[0;34m)\u001b[0m\u001b[0;34m\u001b[0m\u001b[0;34m\u001b[0m\u001b[0m\n",
      "\u001b[0;32m~/project/ML/tensorflow-sandbox/venv/lib/python3.7/site-packages/optuna/study.py\u001b[0m in \u001b[0;36m_check_pandas_availability\u001b[0;34m()\u001b[0m\n\u001b[1;32m    970\u001b[0m             \u001b[0;34m\"pandas can be installed by executing `$ pip install pandas`. \"\u001b[0m\u001b[0;34m\u001b[0m\u001b[0;34m\u001b[0m\u001b[0m\n\u001b[1;32m    971\u001b[0m             \u001b[0;34m\"For further information, please refer to the installation guide of pandas. \"\u001b[0m\u001b[0;34m\u001b[0m\u001b[0;34m\u001b[0m\u001b[0m\n\u001b[0;32m--> 972\u001b[0;31m             \u001b[0;34m\"(The actual import error is as follows: \"\u001b[0m \u001b[0;34m+\u001b[0m \u001b[0mstr\u001b[0m\u001b[0;34m(\u001b[0m\u001b[0m_pandas_import_error\u001b[0m\u001b[0;34m)\u001b[0m \u001b[0;34m+\u001b[0m \u001b[0;34m\")\"\u001b[0m\u001b[0;34m\u001b[0m\u001b[0;34m\u001b[0m\u001b[0m\n\u001b[0m\u001b[1;32m    973\u001b[0m         )\n",
      "\u001b[0;31mImportError\u001b[0m: pandas is not available. Please install pandas to use this feature. pandas can be installed by executing `$ pip install pandas`. For further information, please refer to the installation guide of pandas. (The actual import error is as follows: No module named 'pandas')"
     ]
    }
   ],
   "source": [
    "df = study.trials_dataframe(attrs=('number', 'value', 'params', 'state'))"
   ]
  },
  {
   "cell_type": "code",
   "execution_count": 4,
   "metadata": {},
   "outputs": [
    {
     "name": "stderr",
     "output_type": "stream",
     "text": [
      "[I 2020-06-19 17:43:58,007] Using an existing study with name 'example-study' instead of creating a new one.\n"
     ]
    }
   ],
   "source": [
    "study = optuna.create_study(study_name='example-study', storage='sqlite:///data/example.db', load_if_exists=True)\n",
    "df = study.trials_dataframe(attrs=('number', 'value', 'params', 'state'))"
   ]
  },
  {
   "cell_type": "code",
   "execution_count": 5,
   "metadata": {},
   "outputs": [
    {
     "name": "stdout",
     "output_type": "stream",
     "text": [
      "   number       value  params_x     state\n",
      "0       0  130.622784 -9.429033  COMPLETE\n",
      "1       1   17.704789  6.207706  COMPLETE\n",
      "2       2   25.380254 -3.037882  COMPLETE\n",
      "3       3    4.332172 -0.081387  COMPLETE\n",
      "4       4   26.469996  7.144900  COMPLETE\n",
      "5       5   85.824688 -7.264161  COMPLETE\n"
     ]
    }
   ],
   "source": [
    "print(df)"
   ]
  },
  {
   "cell_type": "code",
   "execution_count": 7,
   "metadata": {},
   "outputs": [
    {
     "name": "stdout",
     "output_type": "stream",
     "text": [
      "{'x': -0.08138709631852237}\n",
      "4.33217224472125\n",
      "FrozenTrial(number=3, value=4.33217224472125, datetime_start=datetime.datetime(2020, 6, 19, 17, 41, 14, 211177), datetime_complete=datetime.datetime(2020, 6, 19, 17, 41, 14, 256056), params={'x': -0.08138709631852237}, distributions={'x': UniformDistribution(high=10, low=-10)}, user_attrs={}, system_attrs={}, intermediate_values={}, trial_id=4, state=TrialState.COMPLETE)\n",
      "[FrozenTrial(number=0, value=130.6227844738971, datetime_start=datetime.datetime(2020, 6, 19, 17, 40, 40, 9476), datetime_complete=datetime.datetime(2020, 6, 19, 17, 40, 40, 54777), params={'x': -9.429032525717}, distributions={'x': UniformDistribution(high=10, low=-10)}, user_attrs={}, system_attrs={}, intermediate_values={}, trial_id=1, state=TrialState.COMPLETE), FrozenTrial(number=1, value=17.704788705179134, datetime_start=datetime.datetime(2020, 6, 19, 17, 40, 40, 83638), datetime_complete=datetime.datetime(2020, 6, 19, 17, 40, 40, 119195), params={'x': 6.207705871990001}, distributions={'x': UniformDistribution(high=10, low=-10)}, user_attrs={}, system_attrs={}, intermediate_values={}, trial_id=2, state=TrialState.COMPLETE)]\n"
     ]
    }
   ],
   "source": [
    "print(study.best_params)\n",
    "print(study.best_value)\n",
    "print(study.best_trial)\n",
    "print(study.trials[:2])"
   ]
  },
  {
   "cell_type": "code",
   "execution_count": null,
   "metadata": {},
   "outputs": [],
   "source": []
  }
 ],
 "metadata": {
  "kernelspec": {
   "display_name": "Python 3",
   "language": "python",
   "name": "python3"
  },
  "language_info": {
   "codemirror_mode": {
    "name": "ipython",
    "version": 3
   },
   "file_extension": ".py",
   "mimetype": "text/x-python",
   "name": "python",
   "nbconvert_exporter": "python",
   "pygments_lexer": "ipython3",
   "version": "3.7.4"
  }
 },
 "nbformat": 4,
 "nbformat_minor": 4
}
