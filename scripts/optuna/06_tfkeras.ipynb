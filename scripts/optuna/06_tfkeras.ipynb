{
 "cells": [
  {
   "cell_type": "markdown",
   "metadata": {},
   "source": [
    "## keras の実装を tf.keras に置き換えて試してみる\n",
    "- Reference\n",
    "  - https://github.com/optuna/optuna/blob/master/examples/keras_simple.py"
   ]
  },
  {
   "cell_type": "code",
   "execution_count": 9,
   "metadata": {},
   "outputs": [],
   "source": [
    "import tensorflow as tf\n",
    "from tensorflow import keras\n",
    "from tensorflow.keras.datasets import mnist\n",
    "import optuna"
   ]
  },
  {
   "cell_type": "code",
   "execution_count": 10,
   "metadata": {},
   "outputs": [],
   "source": [
    "N_TRAIN_EXAMPLES = 3000\n",
    "N_VALID_EXAMPLES = 1000\n",
    "BATCHSIZE = 128\n",
    "CLASSES = 10\n",
    "EPOCHS = 10"
   ]
  },
  {
   "cell_type": "code",
   "execution_count": 13,
   "metadata": {},
   "outputs": [],
   "source": [
    "def objective(trial):\n",
    "    keras.backend.clear_session()\n",
    "\n",
    "    (x_train, y_train), (x_valid, y_valid) = mnist.load_data()\n",
    "\n",
    "    img_x, img_y = x_train.shape[1], x_train.shape[2]\n",
    "    x_train = x_train.reshape(-1, img_x, img_y, 1)[:N_TRAIN_EXAMPLES].astype(\"float32\") / 255\n",
    "    x_valid = x_valid.reshape(-1, img_x, img_y, 1)[:N_VALID_EXAMPLES].astype(\"float32\") / 255\n",
    "    y_train = y_train[:N_TRAIN_EXAMPLES]\n",
    "    y_valid = y_valid[:N_VALID_EXAMPLES]\n",
    "    input_shape = (img_x, img_y, 1)\n",
    "\n",
    "    model = keras.models.Sequential()\n",
    "    model.add(\n",
    "        keras.layers.Conv2D(\n",
    "            filters=trial.suggest_categorical(\"filters\", [32, 64]),\n",
    "            kernel_size=trial.suggest_categorical(\"kernel_size\", [3, 5]),\n",
    "            strides=trial.suggest_categorical(\"strides\", [1, 2]),\n",
    "            activation=trial.suggest_categorical(\"activation\", [\"relu\", \"linear\"]),\n",
    "            input_shape=input_shape,\n",
    "        )\n",
    "    )\n",
    "    model.add(keras.layers.Flatten())\n",
    "    model.add(keras.layers.Dense(CLASSES, activation=\"softmax\"))\n",
    "\n",
    "    lr = trial.suggest_loguniform(\"lr\", 1e-5, 1e-1)\n",
    "    model.compile(\n",
    "        loss=\"sparse_categorical_crossentropy\",\n",
    "        optimizer=keras.optimizers.RMSprop(lr=lr),\n",
    "        metrics=[\"accuracy\"]\n",
    "    )\n",
    "\n",
    "    model.fit(\n",
    "        x_train,\n",
    "        y_train,\n",
    "        validation_data=(x_valid, y_valid),\n",
    "        shuffle=True,\n",
    "        batch_size=BATCHSIZE,\n",
    "        epochs=EPOCHS,\n",
    "        verbose=False,\n",
    "    )\n",
    "\n",
    "    score = model.evaluate(x_valid, y_valid, verbose=0)\n",
    "\n",
    "    return score[1]"
   ]
  },
  {
   "cell_type": "code",
   "execution_count": 14,
   "metadata": {},
   "outputs": [
    {
     "name": "stderr",
     "output_type": "stream",
     "text": [
      "[I 2020-06-21 20:27:44,115] Finished trial#0 with value: 0.9079999923706055 with parameters: {'filters': 32, 'kernel_size': 3, 'strides': 1, 'activation': 'relu', 'lr': 0.0015081436515689158}. Best is trial#0 with value: 0.9079999923706055.\n",
      "[I 2020-06-21 20:27:51,347] Finished trial#1 with value: 0.8349999785423279 with parameters: {'filters': 64, 'kernel_size': 5, 'strides': 1, 'activation': 'linear', 'lr': 0.007351145207246328}. Best is trial#0 with value: 0.9079999923706055.\n",
      "[I 2020-06-21 20:27:55,864] Finished trial#2 with value: 0.7900000214576721 with parameters: {'filters': 32, 'kernel_size': 3, 'strides': 1, 'activation': 'linear', 'lr': 3.288855338422068e-05}. Best is trial#0 with value: 0.9079999923706055.\n",
      "[I 2020-06-21 20:28:03,744] Finished trial#3 with value: 0.8460000157356262 with parameters: {'filters': 64, 'kernel_size': 5, 'strides': 1, 'activation': 'linear', 'lr': 4.004496921556263e-05}. Best is trial#0 with value: 0.9079999923706055.\n",
      "[I 2020-06-21 20:28:09,087] Finished trial#4 with value: 0.7670000195503235 with parameters: {'filters': 32, 'kernel_size': 5, 'strides': 1, 'activation': 'relu', 'lr': 2.5288340173621787e-05}. Best is trial#0 with value: 0.9079999923706055.\n",
      "[I 2020-06-21 20:28:13,736] Finished trial#5 with value: 0.9259999990463257 with parameters: {'filters': 32, 'kernel_size': 3, 'strides': 1, 'activation': 'relu', 'lr': 0.028877458525577215}. Best is trial#5 with value: 0.9259999990463257.\n",
      "[I 2020-06-21 20:28:16,147] Finished trial#6 with value: 0.8700000047683716 with parameters: {'filters': 32, 'kernel_size': 5, 'strides': 2, 'activation': 'linear', 'lr': 0.0017962969562275164}. Best is trial#5 with value: 0.9259999990463257.\n",
      "[I 2020-06-21 20:28:24,313] Finished trial#7 with value: 0.8460000157356262 with parameters: {'filters': 64, 'kernel_size': 5, 'strides': 1, 'activation': 'linear', 'lr': 0.001990044579690127}. Best is trial#5 with value: 0.9259999990463257.\n",
      "[I 2020-06-21 20:28:32,903] Finished trial#8 with value: 0.9509999752044678 with parameters: {'filters': 64, 'kernel_size': 5, 'strides': 1, 'activation': 'relu', 'lr': 0.002521530006860772}. Best is trial#8 with value: 0.9509999752044678.\n",
      "[I 2020-06-21 20:28:35,511] Finished trial#9 with value: 0.8230000138282776 with parameters: {'filters': 32, 'kernel_size': 5, 'strides': 2, 'activation': 'linear', 'lr': 0.011439311148269748}. Best is trial#8 with value: 0.9509999752044678.\n",
      "[I 2020-06-21 20:28:38,976] Finished trial#10 with value: 0.8920000195503235 with parameters: {'filters': 64, 'kernel_size': 5, 'strides': 2, 'activation': 'relu', 'lr': 0.0002646853821595005}. Best is trial#8 with value: 0.9509999752044678.\n",
      "[I 2020-06-21 20:28:48,011] Finished trial#11 with value: 0.8830000162124634 with parameters: {'filters': 64, 'kernel_size': 3, 'strides': 1, 'activation': 'relu', 'lr': 0.09052995991929437}. Best is trial#8 with value: 0.9509999752044678.\n",
      "[I 2020-06-21 20:28:56,580] Finished trial#12 with value: 0.9240000247955322 with parameters: {'filters': 64, 'kernel_size': 3, 'strides': 1, 'activation': 'relu', 'lr': 0.05098035475888609}. Best is trial#8 with value: 0.9509999752044678.\n",
      "[I 2020-06-21 20:29:02,033] Finished trial#13 with value: 0.9369999766349792 with parameters: {'filters': 32, 'kernel_size': 3, 'strides': 1, 'activation': 'relu', 'lr': 0.011181944600650813}. Best is trial#8 with value: 0.9509999752044678.\n",
      "[I 2020-06-21 20:29:10,311] Finished trial#14 with value: 0.878000020980835 with parameters: {'filters': 64, 'kernel_size': 3, 'strides': 1, 'activation': 'relu', 'lr': 0.00041219111823646983}. Best is trial#8 with value: 0.9509999752044678.\n",
      "[I 2020-06-21 20:29:15,169] Finished trial#15 with value: 0.9409999847412109 with parameters: {'filters': 32, 'kernel_size': 3, 'strides': 1, 'activation': 'relu', 'lr': 0.010333305218969226}. Best is trial#8 with value: 0.9509999752044678.\n",
      "[I 2020-06-21 20:29:18,472] Finished trial#16 with value: 0.9459999799728394 with parameters: {'filters': 64, 'kernel_size': 5, 'strides': 2, 'activation': 'relu', 'lr': 0.003929983362269507}. Best is trial#8 with value: 0.9509999752044678.\n",
      "[I 2020-06-21 20:29:21,684] Finished trial#17 with value: 0.8629999756813049 with parameters: {'filters': 64, 'kernel_size': 5, 'strides': 2, 'activation': 'relu', 'lr': 0.00015879835563011735}. Best is trial#8 with value: 0.9509999752044678.\n",
      "[I 2020-06-21 20:29:24,886] Finished trial#18 with value: 0.9350000023841858 with parameters: {'filters': 64, 'kernel_size': 5, 'strides': 2, 'activation': 'relu', 'lr': 0.003597604920626454}. Best is trial#8 with value: 0.9509999752044678.\n",
      "[I 2020-06-21 20:29:28,137] Finished trial#19 with value: 0.9210000038146973 with parameters: {'filters': 64, 'kernel_size': 5, 'strides': 2, 'activation': 'relu', 'lr': 0.0009104044427941504}. Best is trial#8 with value: 0.9509999752044678.\n"
     ]
    },
    {
     "name": "stdout",
     "output_type": "stream",
     "text": [
      "Number of finished trials: 20\n",
      "Best trial:\n",
      "  Value: 0.9509999752044678\n",
      "  Params: \n",
      "    filters: 64\n",
      "    kernel_size: 5\n",
      "    strides: 1\n",
      "    activation: relu\n",
      "    lr: 0.002521530006860772\n"
     ]
    }
   ],
   "source": [
    "if __name__ == \"__main__\":\n",
    "    study = optuna.create_study(direction=\"maximize\")\n",
    "    #study.optimize(objective, n_trials=100, timeout=600)\n",
    "    study.optimize(objective, n_trials=20, timeout=600)\n",
    "\n",
    "    print(\"Number of finished trials: {}\".format(len(study.trials)))\n",
    "\n",
    "    print(\"Best trial:\")\n",
    "    trial = study.best_trial\n",
    "\n",
    "    print(\"  Value: {}\".format(trial.value))\n",
    "\n",
    "    print(\"  Params: \")\n",
    "\n",
    "    for key, value in trial.params.items():\n",
    "        print(\"    {}: {}\".format(key, value))"
   ]
  },
  {
   "cell_type": "code",
   "execution_count": null,
   "metadata": {},
   "outputs": [],
   "source": []
  }
 ],
 "metadata": {
  "kernelspec": {
   "display_name": "Python 3",
   "language": "python",
   "name": "python3"
  },
  "language_info": {
   "codemirror_mode": {
    "name": "ipython",
    "version": 3
   },
   "file_extension": ".py",
   "mimetype": "text/x-python",
   "name": "python",
   "nbconvert_exporter": "python",
   "pygments_lexer": "ipython3",
   "version": "3.7.4"
  }
 },
 "nbformat": 4,
 "nbformat_minor": 4
}
