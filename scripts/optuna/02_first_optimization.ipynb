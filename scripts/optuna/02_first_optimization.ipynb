{
 "cells": [
  {
   "cell_type": "markdown",
   "metadata": {},
   "source": [
    "### Reference\n",
    "- https://optuna.readthedocs.io/en/stable/tutorial/first.html"
   ]
  },
  {
   "cell_type": "code",
   "execution_count": 1,
   "metadata": {},
   "outputs": [],
   "source": [
    "import optuna"
   ]
  },
  {
   "cell_type": "code",
   "execution_count": 2,
   "metadata": {},
   "outputs": [],
   "source": [
    "def objective(trial):\n",
    "    x = trial.suggest_uniform('x', -10, 10)\n",
    "    return (x - 2) ** 2"
   ]
  },
  {
   "cell_type": "code",
   "execution_count": 3,
   "metadata": {},
   "outputs": [
    {
     "name": "stderr",
     "output_type": "stream",
     "text": [
      "[I 2020-06-19 17:19:33,909] Finished trial#0 with value: 18.067473315789826 with parameters: {'x': -2.250585055705841}. Best is trial#0 with value: 18.067473315789826.\n",
      "[I 2020-06-19 17:19:33,971] Finished trial#1 with value: 20.0734940948287 with parameters: {'x': 6.480345309775654}. Best is trial#0 with value: 18.067473315789826.\n",
      "[I 2020-06-19 17:19:34,031] Finished trial#2 with value: 62.9039901495955 with parameters: {'x': -5.9312035750947345}. Best is trial#0 with value: 18.067473315789826.\n",
      "[I 2020-06-19 17:19:34,083] Finished trial#3 with value: 89.61323726363338 with parameters: {'x': -7.466426847741094}. Best is trial#0 with value: 18.067473315789826.\n",
      "[I 2020-06-19 17:19:34,137] Finished trial#4 with value: 31.6929956783712 with parameters: {'x': -3.6296532467258764}. Best is trial#0 with value: 18.067473315789826.\n",
      "[I 2020-06-19 17:19:34,197] Finished trial#5 with value: 53.330563910412785 with parameters: {'x': -5.302777821515097}. Best is trial#0 with value: 18.067473315789826.\n",
      "[I 2020-06-19 17:19:34,252] Finished trial#6 with value: 48.73981496379398 with parameters: {'x': -4.981390618193053}. Best is trial#0 with value: 18.067473315789826.\n",
      "[I 2020-06-19 17:19:34,308] Finished trial#7 with value: 140.28818719911067 with parameters: {'x': -9.844331437405433}. Best is trial#0 with value: 18.067473315789826.\n",
      "[I 2020-06-19 17:19:34,363] Finished trial#8 with value: 7.980473186580735 with parameters: {'x': -0.8249731302404868}. Best is trial#8 with value: 7.980473186580735.\n",
      "[I 2020-06-19 17:19:34,417] Finished trial#9 with value: 45.94757256950422 with parameters: {'x': 8.77846387978163}. Best is trial#8 with value: 7.980473186580735.\n",
      "[I 2020-06-19 17:19:34,485] Finished trial#10 with value: 0.2562785137953189 with parameters: {'x': 2.506239581419034}. Best is trial#10 with value: 0.2562785137953189.\n",
      "[I 2020-06-19 17:19:34,542] Finished trial#11 with value: 0.09341126612438752 with parameters: {'x': 2.305632567185481}. Best is trial#11 with value: 0.09341126612438752.\n",
      "[I 2020-06-19 17:19:34,601] Finished trial#12 with value: 2.2556960502984333 with parameters: {'x': 3.5018974832852052}. Best is trial#11 with value: 0.09341126612438752.\n",
      "[I 2020-06-19 17:19:34,656] Finished trial#13 with value: 0.17788253369599444 with parameters: {'x': 2.42176122829866}. Best is trial#11 with value: 0.09341126612438752.\n",
      "[I 2020-06-19 17:19:34,710] Finished trial#14 with value: 0.12900266521001522 with parameters: {'x': 2.359169410181345}. Best is trial#11 with value: 0.09341126612438752.\n",
      "[I 2020-06-19 17:19:34,767] Finished trial#15 with value: 12.02914489185987 with parameters: {'x': 5.468305766777184}. Best is trial#11 with value: 0.09341126612438752.\n",
      "[I 2020-06-19 17:19:34,826] Finished trial#16 with value: 2.0433310545141325 with parameters: {'x': 0.5705486876027808}. Best is trial#11 with value: 0.09341126612438752.\n",
      "[I 2020-06-19 17:19:34,883] Finished trial#17 with value: 59.32324814410884 with parameters: {'x': 9.702158667809229}. Best is trial#11 with value: 0.09341126612438752.\n",
      "[I 2020-06-19 17:19:34,944] Finished trial#18 with value: 10.530057047816575 with parameters: {'x': 5.245004938026532}. Best is trial#11 with value: 0.09341126612438752.\n",
      "[I 2020-06-19 17:19:35,002] Finished trial#19 with value: 30.217807552945004 with parameters: {'x': 7.497072634861668}. Best is trial#11 with value: 0.09341126612438752.\n",
      "[I 2020-06-19 17:19:35,058] Finished trial#20 with value: 2.6337915322951093 with parameters: {'x': 0.3771039675028134}. Best is trial#11 with value: 0.09341126612438752.\n",
      "[I 2020-06-19 17:19:35,117] Finished trial#21 with value: 0.5230875984562947 with parameters: {'x': 2.723247950882887}. Best is trial#11 with value: 0.09341126612438752.\n",
      "[I 2020-06-19 17:19:35,175] Finished trial#22 with value: 0.028019678693792106 with parameters: {'x': 1.8326092036765698}. Best is trial#22 with value: 0.028019678693792106.\n",
      "[I 2020-06-19 17:19:35,233] Finished trial#23 with value: 5.709864253503196 with parameters: {'x': 4.389532224830457}. Best is trial#22 with value: 0.028019678693792106.\n",
      "[I 2020-06-19 17:19:35,289] Finished trial#24 with value: 0.28941729344824446 with parameters: {'x': 1.4620248207879434}. Best is trial#22 with value: 0.028019678693792106.\n",
      "[I 2020-06-19 17:19:35,348] Finished trial#25 with value: 11.268498078248179 with parameters: {'x': -1.3568583643413048}. Best is trial#22 with value: 0.028019678693792106.\n",
      "[I 2020-06-19 17:19:35,409] Finished trial#26 with value: 0.6648948214939617 with parameters: {'x': 1.1845891701148668}. Best is trial#22 with value: 0.028019678693792106.\n",
      "[I 2020-06-19 17:19:35,465] Finished trial#27 with value: 4.880387593911087 with parameters: {'x': 4.209159929455332}. Best is trial#22 with value: 0.028019678693792106.\n",
      "[I 2020-06-19 17:19:35,525] Finished trial#28 with value: 20.819360382981035 with parameters: {'x': -2.5628237291156704}. Best is trial#22 with value: 0.028019678693792106.\n",
      "[I 2020-06-19 17:19:35,580] Finished trial#29 with value: 9.80845048724809 with parameters: {'x': -1.1318445822307481}. Best is trial#22 with value: 0.028019678693792106.\n",
      "[I 2020-06-19 17:19:35,631] Finished trial#30 with value: 22.735937449739765 with parameters: {'x': -2.768221623387462}. Best is trial#22 with value: 0.028019678693792106.\n",
      "[I 2020-06-19 17:19:35,691] Finished trial#31 with value: 0.0005746762763577535 with parameters: {'x': 2.023972406561665}. Best is trial#31 with value: 0.0005746762763577535.\n",
      "[I 2020-06-19 17:19:35,760] Finished trial#32 with value: 0.003798368719038886 with parameters: {'x': 1.9383690928264163}. Best is trial#31 with value: 0.0005746762763577535.\n",
      "[I 2020-06-19 17:19:35,836] Finished trial#33 with value: 22.01772066767798 with parameters: {'x': 6.6923044091019905}. Best is trial#31 with value: 0.0005746762763577535.\n",
      "[I 2020-06-19 17:19:35,896] Finished trial#34 with value: 5.607591408183371 with parameters: {'x': -0.36803534774786906}. Best is trial#31 with value: 0.0005746762763577535.\n",
      "[I 2020-06-19 17:19:35,959] Finished trial#35 with value: 2.7305788539006937 with parameters: {'x': 3.6524463240603895}. Best is trial#31 with value: 0.0005746762763577535.\n",
      "[I 2020-06-19 17:19:36,023] Finished trial#36 with value: 0.19117982504230474 with parameters: {'x': 1.5627588479542385}. Best is trial#31 with value: 0.0005746762763577535.\n",
      "[I 2020-06-19 17:19:36,092] Finished trial#37 with value: 9.534588503716032 with parameters: {'x': 5.087812899726282}. Best is trial#31 with value: 0.0005746762763577535.\n",
      "[I 2020-06-19 17:19:36,153] Finished trial#38 with value: 3.382412957116685 with parameters: {'x': 0.1608662481709806}. Best is trial#31 with value: 0.0005746762763577535.\n",
      "[I 2020-06-19 17:19:36,210] Finished trial#39 with value: 0.21948361321649293 with parameters: {'x': 1.5315092175757425}. Best is trial#31 with value: 0.0005746762763577535.\n",
      "[I 2020-06-19 17:19:36,275] Finished trial#40 with value: 38.288943243324354 with parameters: {'x': -4.187806012095431}. Best is trial#31 with value: 0.0005746762763577535.\n",
      "[I 2020-06-19 17:19:36,336] Finished trial#41 with value: 0.8188615869129919 with parameters: {'x': 2.9049097120226923}. Best is trial#31 with value: 0.0005746762763577535.\n",
      "[I 2020-06-19 17:19:36,401] Finished trial#42 with value: 0.013125370398397389 with parameters: {'x': 1.8854339910863724}. Best is trial#31 with value: 0.0005746762763577535.\n",
      "[I 2020-06-19 17:19:36,459] Finished trial#43 with value: 13.779286902557669 with parameters: {'x': -1.7120461880959497}. Best is trial#31 with value: 0.0005746762763577535.\n",
      "[I 2020-06-19 17:19:36,519] Finished trial#44 with value: 2.6969137891907464 with parameters: {'x': 3.642228299960376}. Best is trial#31 with value: 0.0005746762763577535.\n",
      "[I 2020-06-19 17:19:36,580] Finished trial#45 with value: 0.0019358416173742606 with parameters: {'x': 1.9560017998393768}. Best is trial#31 with value: 0.0005746762763577535.\n",
      "[I 2020-06-19 17:19:36,643] Finished trial#46 with value: 1.2244856267091275 with parameters: {'x': 0.8934352135057217}. Best is trial#31 with value: 0.0005746762763577535.\n"
     ]
    },
    {
     "name": "stderr",
     "output_type": "stream",
     "text": [
      "[I 2020-06-19 17:19:36,705] Finished trial#47 with value: 5.166885241230488 with parameters: {'x': -0.2730783623162858}. Best is trial#31 with value: 0.0005746762763577535.\n",
      "[I 2020-06-19 17:19:36,763] Finished trial#48 with value: 18.812036000611243 with parameters: {'x': 6.3372844039342455}. Best is trial#31 with value: 0.0005746762763577535.\n",
      "[I 2020-06-19 17:19:36,821] Finished trial#49 with value: 83.91251191779953 with parameters: {'x': -7.160377280319819}. Best is trial#31 with value: 0.0005746762763577535.\n",
      "[I 2020-06-19 17:19:36,885] Finished trial#50 with value: 0.00012917057863886413 with parameters: {'x': 1.9886346764833172}. Best is trial#50 with value: 0.00012917057863886413.\n",
      "[I 2020-06-19 17:19:36,943] Finished trial#51 with value: 0.001784403803439445 with parameters: {'x': 2.0422422040551798}. Best is trial#50 with value: 0.00012917057863886413.\n",
      "[I 2020-06-19 17:19:37,005] Finished trial#52 with value: 2.036424140195428 with parameters: {'x': 3.427033335348347}. Best is trial#50 with value: 0.00012917057863886413.\n",
      "[I 2020-06-19 17:19:37,060] Finished trial#53 with value: 1.3460662785458473 with parameters: {'x': 0.8397990352762814}. Best is trial#50 with value: 0.00012917057863886413.\n",
      "[I 2020-06-19 17:19:37,119] Finished trial#54 with value: 0.9347621621253228 with parameters: {'x': 2.9668309894316187}. Best is trial#50 with value: 0.00012917057863886413.\n",
      "[I 2020-06-19 17:19:37,185] Finished trial#55 with value: 6.481843073475325 with parameters: {'x': 4.545946400353968}. Best is trial#50 with value: 0.00012917057863886413.\n",
      "[I 2020-06-19 17:19:37,245] Finished trial#56 with value: 0.03280532033095951 with parameters: {'x': 2.1811223904738437}. Best is trial#50 with value: 0.00012917057863886413.\n",
      "[I 2020-06-19 17:19:37,307] Finished trial#57 with value: 4.821004725789738 with parameters: {'x': -0.19567864811536984}. Best is trial#50 with value: 0.00012917057863886413.\n",
      "[I 2020-06-19 17:19:37,365] Finished trial#58 with value: 0.01656221105511323 with parameters: {'x': 1.8713057458348927}. Best is trial#50 with value: 0.00012917057863886413.\n",
      "[I 2020-06-19 17:19:37,416] Finished trial#59 with value: 2.403799010655241 with parameters: {'x': 0.4495810209316835}. Best is trial#50 with value: 0.00012917057863886413.\n",
      "[I 2020-06-19 17:19:37,471] Finished trial#60 with value: 0.9695350251136795 with parameters: {'x': 2.984649696650377}. Best is trial#50 with value: 0.00012917057863886413.\n",
      "[I 2020-06-19 17:19:37,529] Finished trial#61 with value: 0.004314883150547727 with parameters: {'x': 2.065687770174879}. Best is trial#50 with value: 0.00012917057863886413.\n",
      "[I 2020-06-19 17:19:37,588] Finished trial#62 with value: 0.02018250986720986 with parameters: {'x': 2.142065160638384}. Best is trial#50 with value: 0.00012917057863886413.\n",
      "[I 2020-06-19 17:19:37,645] Finished trial#63 with value: 0.8117978448786595 with parameters: {'x': 1.0990017509014463}. Best is trial#50 with value: 0.00012917057863886413.\n",
      "[I 2020-06-19 17:19:37,703] Finished trial#64 with value: 4.852106634015714 with parameters: {'x': 4.202749789244279}. Best is trial#50 with value: 0.00012917057863886413.\n",
      "[I 2020-06-19 17:19:37,768] Finished trial#65 with value: 0.2217635768243613 with parameters: {'x': 2.4709178026199066}. Best is trial#50 with value: 0.00012917057863886413.\n",
      "[I 2020-06-19 17:19:37,831] Finished trial#66 with value: 6.497263621337981 with parameters: {'x': -0.5489730522973326}. Best is trial#50 with value: 0.00012917057863886413.\n",
      "[I 2020-06-19 17:19:37,889] Finished trial#67 with value: 2.275213988051619 with parameters: {'x': 3.508381247580206}. Best is trial#50 with value: 0.00012917057863886413.\n",
      "[I 2020-06-19 17:19:37,948] Finished trial#68 with value: 0.3723531052445569 with parameters: {'x': 1.3897925719523263}. Best is trial#50 with value: 0.00012917057863886413.\n",
      "[I 2020-06-19 17:19:38,004] Finished trial#69 with value: 15.705591131810356 with parameters: {'x': 5.9630280256150545}. Best is trial#50 with value: 0.00012917057863886413.\n",
      "[I 2020-06-19 17:19:38,064] Finished trial#70 with value: 2.837363313281431 with parameters: {'x': 0.3155525198803524}. Best is trial#50 with value: 0.00012917057863886413.\n",
      "[I 2020-06-19 17:19:38,127] Finished trial#71 with value: 0.019732026780393125 with parameters: {'x': 1.859529267174998}. Best is trial#50 with value: 0.00012917057863886413.\n",
      "[I 2020-06-19 17:19:38,190] Finished trial#72 with value: 3.8623862398451214e-05 with parameters: {'x': 2.0062148099245634}. Best is trial#72 with value: 3.8623862398451214e-05.\n",
      "[I 2020-06-19 17:19:38,258] Finished trial#73 with value: 0.6735046705700269 with parameters: {'x': 2.8206733031907563}. Best is trial#72 with value: 3.8623862398451214e-05.\n",
      "[I 2020-06-19 17:19:38,320] Finished trial#74 with value: 4.122289514848244 with parameters: {'x': 4.030342216191213}. Best is trial#72 with value: 3.8623862398451214e-05.\n",
      "[I 2020-06-19 17:19:38,384] Finished trial#75 with value: 8.59501490367501 with parameters: {'x': 4.931725584647207}. Best is trial#72 with value: 3.8623862398451214e-05.\n",
      "[I 2020-06-19 17:19:38,445] Finished trial#76 with value: 1.326762384351735 with parameters: {'x': 0.84814828022365}. Best is trial#72 with value: 3.8623862398451214e-05.\n",
      "[I 2020-06-19 17:19:38,503] Finished trial#77 with value: 1.3045021076814196 with parameters: {'x': 3.1421480235422288}. Best is trial#72 with value: 3.8623862398451214e-05.\n",
      "[I 2020-06-19 17:19:38,560] Finished trial#78 with value: 9.069989563558378 with parameters: {'x': -1.0116423365928395}. Best is trial#72 with value: 3.8623862398451214e-05.\n",
      "[I 2020-06-19 17:19:38,616] Finished trial#79 with value: 0.013475157895665685 with parameters: {'x': 2.1160825477652248}. Best is trial#72 with value: 3.8623862398451214e-05.\n",
      "[I 2020-06-19 17:19:38,680] Finished trial#80 with value: 15.74095457638159 with parameters: {'x': -1.9674871866688606}. Best is trial#72 with value: 3.8623862398451214e-05.\n",
      "[I 2020-06-19 17:19:38,743] Finished trial#81 with value: 0.14896134379012743 with parameters: {'x': 2.385955105925712}. Best is trial#72 with value: 3.8623862398451214e-05.\n",
      "[I 2020-06-19 17:19:38,806] Finished trial#82 with value: 0.25109111305610904 with parameters: {'x': 1.4989100748806568}. Best is trial#72 with value: 3.8623862398451214e-05.\n",
      "[I 2020-06-19 17:19:38,871] Finished trial#83 with value: 0.2695528384043773 with parameters: {'x': 2.5191847825238884}. Best is trial#72 with value: 3.8623862398451214e-05.\n",
      "[I 2020-06-19 17:19:38,931] Finished trial#84 with value: 0.00014892663780685978 with parameters: {'x': 2.0122035502132314}. Best is trial#72 with value: 3.8623862398451214e-05.\n",
      "[I 2020-06-19 17:19:38,996] Finished trial#85 with value: 1.9768255226187323 with parameters: {'x': 0.5940037259584461}. Best is trial#72 with value: 3.8623862398451214e-05.\n",
      "[I 2020-06-19 17:19:39,053] Finished trial#86 with value: 3.4353374896008404 with parameters: {'x': 3.8534663443399344}. Best is trial#72 with value: 3.8623862398451214e-05.\n",
      "[I 2020-06-19 17:19:39,114] Finished trial#87 with value: 3.7407229894789134 with parameters: {'x': 0.065905123971703}. Best is trial#72 with value: 3.8623862398451214e-05.\n",
      "[I 2020-06-19 17:19:39,171] Finished trial#88 with value: 0.6626140886529306 with parameters: {'x': 1.1859888891096568}. Best is trial#72 with value: 3.8623862398451214e-05.\n",
      "[I 2020-06-19 17:19:39,231] Finished trial#89 with value: 1.6168716361621118 with parameters: {'x': 3.2715626748855566}. Best is trial#72 with value: 3.8623862398451214e-05.\n",
      "[I 2020-06-19 17:19:39,292] Finished trial#90 with value: 0.07953009761154883 with parameters: {'x': 1.7179891888392418}. Best is trial#72 with value: 3.8623862398451214e-05.\n",
      "[I 2020-06-19 17:19:39,353] Finished trial#91 with value: 0.03196514338115366 with parameters: {'x': 2.1787879844428972}. Best is trial#72 with value: 3.8623862398451214e-05.\n",
      "[I 2020-06-19 17:19:39,416] Finished trial#92 with value: 6.0058767025410844e-05 with parameters: {'x': 2.0077497591591875}. Best is trial#72 with value: 3.8623862398451214e-05.\n",
      "[I 2020-06-19 17:19:39,475] Finished trial#93 with value: 0.6625419215915049 with parameters: {'x': 1.186033218373437}. Best is trial#72 with value: 3.8623862398451214e-05.\n"
     ]
    },
    {
     "name": "stderr",
     "output_type": "stream",
     "text": [
      "[I 2020-06-19 17:19:39,531] Finished trial#94 with value: 0.5170639617645177 with parameters: {'x': 2.719071597105961}. Best is trial#72 with value: 3.8623862398451214e-05.\n",
      "[I 2020-06-19 17:19:39,597] Finished trial#95 with value: 0.07180279183990733 with parameters: {'x': 1.7320395703841567}. Best is trial#72 with value: 3.8623862398451214e-05.\n",
      "[I 2020-06-19 17:19:39,655] Finished trial#96 with value: 7.108263288290398 with parameters: {'x': 4.666132646416978}. Best is trial#72 with value: 3.8623862398451214e-05.\n",
      "[I 2020-06-19 17:19:39,719] Finished trial#97 with value: 1.321811418551167 with parameters: {'x': 0.8502994222184774}. Best is trial#72 with value: 3.8623862398451214e-05.\n",
      "[I 2020-06-19 17:19:39,776] Finished trial#98 with value: 1.476653178914404 with parameters: {'x': 3.2151761925393387}. Best is trial#72 with value: 3.8623862398451214e-05.\n",
      "[I 2020-06-19 17:19:39,832] Finished trial#99 with value: 142.10640671987662 with parameters: {'x': -9.920839178509063}. Best is trial#72 with value: 3.8623862398451214e-05.\n"
     ]
    }
   ],
   "source": [
    "study = optuna.create_study()\n",
    "study.optimize(objective, n_trials=100)"
   ]
  },
  {
   "cell_type": "code",
   "execution_count": 4,
   "metadata": {},
   "outputs": [
    {
     "data": {
      "text/plain": [
       "{'x': 2.0062148099245634}"
      ]
     },
     "execution_count": 4,
     "metadata": {},
     "output_type": "execute_result"
    }
   ],
   "source": [
    "study.best_params"
   ]
  },
  {
   "cell_type": "code",
   "execution_count": 5,
   "metadata": {},
   "outputs": [
    {
     "data": {
      "text/plain": [
       "3.8623862398451214e-05"
      ]
     },
     "execution_count": 5,
     "metadata": {},
     "output_type": "execute_result"
    }
   ],
   "source": [
    "study.best_value"
   ]
  },
  {
   "cell_type": "code",
   "execution_count": 6,
   "metadata": {},
   "outputs": [
    {
     "data": {
      "text/plain": [
       "FrozenTrial(number=72, value=3.8623862398451214e-05, datetime_start=datetime.datetime(2020, 6, 19, 17, 19, 38, 130405), datetime_complete=datetime.datetime(2020, 6, 19, 17, 19, 38, 190666), params={'x': 2.0062148099245634}, distributions={'x': UniformDistribution(high=10, low=-10)}, user_attrs={}, system_attrs={}, intermediate_values={}, trial_id=72, state=TrialState.COMPLETE)"
      ]
     },
     "execution_count": 6,
     "metadata": {},
     "output_type": "execute_result"
    }
   ],
   "source": [
    "study.best_trial"
   ]
  },
  {
   "cell_type": "code",
   "execution_count": 7,
   "metadata": {},
   "outputs": [
    {
     "data": {
      "text/plain": [
       "[FrozenTrial(number=0, value=18.067473315789826, datetime_start=datetime.datetime(2020, 6, 19, 17, 19, 33, 833686), datetime_complete=datetime.datetime(2020, 6, 19, 17, 19, 33, 909151), params={'x': -2.250585055705841}, distributions={'x': UniformDistribution(high=10, low=-10)}, user_attrs={}, system_attrs={}, intermediate_values={}, trial_id=0, state=TrialState.COMPLETE),\n",
       " FrozenTrial(number=1, value=20.0734940948287, datetime_start=datetime.datetime(2020, 6, 19, 17, 19, 33, 912895), datetime_complete=datetime.datetime(2020, 6, 19, 17, 19, 33, 971030), params={'x': 6.480345309775654}, distributions={'x': UniformDistribution(high=10, low=-10)}, user_attrs={}, system_attrs={}, intermediate_values={}, trial_id=1, state=TrialState.COMPLETE),\n",
       " FrozenTrial(number=2, value=62.9039901495955, datetime_start=datetime.datetime(2020, 6, 19, 17, 19, 33, 973375), datetime_complete=datetime.datetime(2020, 6, 19, 17, 19, 34, 30951), params={'x': -5.9312035750947345}, distributions={'x': UniformDistribution(high=10, low=-10)}, user_attrs={}, system_attrs={}, intermediate_values={}, trial_id=2, state=TrialState.COMPLETE),\n",
       " FrozenTrial(number=3, value=89.61323726363338, datetime_start=datetime.datetime(2020, 6, 19, 17, 19, 34, 33213), datetime_complete=datetime.datetime(2020, 6, 19, 17, 19, 34, 83700), params={'x': -7.466426847741094}, distributions={'x': UniformDistribution(high=10, low=-10)}, user_attrs={}, system_attrs={}, intermediate_values={}, trial_id=3, state=TrialState.COMPLETE),\n",
       " FrozenTrial(number=4, value=31.6929956783712, datetime_start=datetime.datetime(2020, 6, 19, 17, 19, 34, 85922), datetime_complete=datetime.datetime(2020, 6, 19, 17, 19, 34, 137582), params={'x': -3.6296532467258764}, distributions={'x': UniformDistribution(high=10, low=-10)}, user_attrs={}, system_attrs={}, intermediate_values={}, trial_id=4, state=TrialState.COMPLETE),\n",
       " FrozenTrial(number=5, value=53.330563910412785, datetime_start=datetime.datetime(2020, 6, 19, 17, 19, 34, 140341), datetime_complete=datetime.datetime(2020, 6, 19, 17, 19, 34, 197609), params={'x': -5.302777821515097}, distributions={'x': UniformDistribution(high=10, low=-10)}, user_attrs={}, system_attrs={}, intermediate_values={}, trial_id=5, state=TrialState.COMPLETE),\n",
       " FrozenTrial(number=6, value=48.73981496379398, datetime_start=datetime.datetime(2020, 6, 19, 17, 19, 34, 201054), datetime_complete=datetime.datetime(2020, 6, 19, 17, 19, 34, 252108), params={'x': -4.981390618193053}, distributions={'x': UniformDistribution(high=10, low=-10)}, user_attrs={}, system_attrs={}, intermediate_values={}, trial_id=6, state=TrialState.COMPLETE),\n",
       " FrozenTrial(number=7, value=140.28818719911067, datetime_start=datetime.datetime(2020, 6, 19, 17, 19, 34, 254393), datetime_complete=datetime.datetime(2020, 6, 19, 17, 19, 34, 308482), params={'x': -9.844331437405433}, distributions={'x': UniformDistribution(high=10, low=-10)}, user_attrs={}, system_attrs={}, intermediate_values={}, trial_id=7, state=TrialState.COMPLETE),\n",
       " FrozenTrial(number=8, value=7.980473186580735, datetime_start=datetime.datetime(2020, 6, 19, 17, 19, 34, 311098), datetime_complete=datetime.datetime(2020, 6, 19, 17, 19, 34, 363446), params={'x': -0.8249731302404868}, distributions={'x': UniformDistribution(high=10, low=-10)}, user_attrs={}, system_attrs={}, intermediate_values={}, trial_id=8, state=TrialState.COMPLETE),\n",
       " FrozenTrial(number=9, value=45.94757256950422, datetime_start=datetime.datetime(2020, 6, 19, 17, 19, 34, 365560), datetime_complete=datetime.datetime(2020, 6, 19, 17, 19, 34, 417192), params={'x': 8.77846387978163}, distributions={'x': UniformDistribution(high=10, low=-10)}, user_attrs={}, system_attrs={}, intermediate_values={}, trial_id=9, state=TrialState.COMPLETE),\n",
       " FrozenTrial(number=10, value=0.2562785137953189, datetime_start=datetime.datetime(2020, 6, 19, 17, 19, 34, 419832), datetime_complete=datetime.datetime(2020, 6, 19, 17, 19, 34, 485219), params={'x': 2.506239581419034}, distributions={'x': UniformDistribution(high=10, low=-10)}, user_attrs={}, system_attrs={}, intermediate_values={}, trial_id=10, state=TrialState.COMPLETE),\n",
       " FrozenTrial(number=11, value=0.09341126612438752, datetime_start=datetime.datetime(2020, 6, 19, 17, 19, 34, 487651), datetime_complete=datetime.datetime(2020, 6, 19, 17, 19, 34, 541862), params={'x': 2.305632567185481}, distributions={'x': UniformDistribution(high=10, low=-10)}, user_attrs={}, system_attrs={}, intermediate_values={}, trial_id=11, state=TrialState.COMPLETE),\n",
       " FrozenTrial(number=12, value=2.2556960502984333, datetime_start=datetime.datetime(2020, 6, 19, 17, 19, 34, 544424), datetime_complete=datetime.datetime(2020, 6, 19, 17, 19, 34, 601554), params={'x': 3.5018974832852052}, distributions={'x': UniformDistribution(high=10, low=-10)}, user_attrs={}, system_attrs={}, intermediate_values={}, trial_id=12, state=TrialState.COMPLETE),\n",
       " FrozenTrial(number=13, value=0.17788253369599444, datetime_start=datetime.datetime(2020, 6, 19, 17, 19, 34, 603714), datetime_complete=datetime.datetime(2020, 6, 19, 17, 19, 34, 655924), params={'x': 2.42176122829866}, distributions={'x': UniformDistribution(high=10, low=-10)}, user_attrs={}, system_attrs={}, intermediate_values={}, trial_id=13, state=TrialState.COMPLETE),\n",
       " FrozenTrial(number=14, value=0.12900266521001522, datetime_start=datetime.datetime(2020, 6, 19, 17, 19, 34, 658083), datetime_complete=datetime.datetime(2020, 6, 19, 17, 19, 34, 710445), params={'x': 2.359169410181345}, distributions={'x': UniformDistribution(high=10, low=-10)}, user_attrs={}, system_attrs={}, intermediate_values={}, trial_id=14, state=TrialState.COMPLETE),\n",
       " FrozenTrial(number=15, value=12.02914489185987, datetime_start=datetime.datetime(2020, 6, 19, 17, 19, 34, 712775), datetime_complete=datetime.datetime(2020, 6, 19, 17, 19, 34, 767008), params={'x': 5.468305766777184}, distributions={'x': UniformDistribution(high=10, low=-10)}, user_attrs={}, system_attrs={}, intermediate_values={}, trial_id=15, state=TrialState.COMPLETE),\n",
       " FrozenTrial(number=16, value=2.0433310545141325, datetime_start=datetime.datetime(2020, 6, 19, 17, 19, 34, 769606), datetime_complete=datetime.datetime(2020, 6, 19, 17, 19, 34, 825768), params={'x': 0.5705486876027808}, distributions={'x': UniformDistribution(high=10, low=-10)}, user_attrs={}, system_attrs={}, intermediate_values={}, trial_id=16, state=TrialState.COMPLETE),\n",
       " FrozenTrial(number=17, value=59.32324814410884, datetime_start=datetime.datetime(2020, 6, 19, 17, 19, 34, 828296), datetime_complete=datetime.datetime(2020, 6, 19, 17, 19, 34, 883227), params={'x': 9.702158667809229}, distributions={'x': UniformDistribution(high=10, low=-10)}, user_attrs={}, system_attrs={}, intermediate_values={}, trial_id=17, state=TrialState.COMPLETE),\n",
       " FrozenTrial(number=18, value=10.530057047816575, datetime_start=datetime.datetime(2020, 6, 19, 17, 19, 34, 885753), datetime_complete=datetime.datetime(2020, 6, 19, 17, 19, 34, 944518), params={'x': 5.245004938026532}, distributions={'x': UniformDistribution(high=10, low=-10)}, user_attrs={}, system_attrs={}, intermediate_values={}, trial_id=18, state=TrialState.COMPLETE),\n",
       " FrozenTrial(number=19, value=30.217807552945004, datetime_start=datetime.datetime(2020, 6, 19, 17, 19, 34, 946758), datetime_complete=datetime.datetime(2020, 6, 19, 17, 19, 35, 2128), params={'x': 7.497072634861668}, distributions={'x': UniformDistribution(high=10, low=-10)}, user_attrs={}, system_attrs={}, intermediate_values={}, trial_id=19, state=TrialState.COMPLETE),\n",
       " FrozenTrial(number=20, value=2.6337915322951093, datetime_start=datetime.datetime(2020, 6, 19, 17, 19, 35, 4443), datetime_complete=datetime.datetime(2020, 6, 19, 17, 19, 35, 58693), params={'x': 0.3771039675028134}, distributions={'x': UniformDistribution(high=10, low=-10)}, user_attrs={}, system_attrs={}, intermediate_values={}, trial_id=20, state=TrialState.COMPLETE),\n",
       " FrozenTrial(number=21, value=0.5230875984562947, datetime_start=datetime.datetime(2020, 6, 19, 17, 19, 35, 60854), datetime_complete=datetime.datetime(2020, 6, 19, 17, 19, 35, 117704), params={'x': 2.723247950882887}, distributions={'x': UniformDistribution(high=10, low=-10)}, user_attrs={}, system_attrs={}, intermediate_values={}, trial_id=21, state=TrialState.COMPLETE),\n",
       " FrozenTrial(number=22, value=0.028019678693792106, datetime_start=datetime.datetime(2020, 6, 19, 17, 19, 35, 120243), datetime_complete=datetime.datetime(2020, 6, 19, 17, 19, 35, 175268), params={'x': 1.8326092036765698}, distributions={'x': UniformDistribution(high=10, low=-10)}, user_attrs={}, system_attrs={}, intermediate_values={}, trial_id=22, state=TrialState.COMPLETE),\n",
       " FrozenTrial(number=23, value=5.709864253503196, datetime_start=datetime.datetime(2020, 6, 19, 17, 19, 35, 177548), datetime_complete=datetime.datetime(2020, 6, 19, 17, 19, 35, 233422), params={'x': 4.389532224830457}, distributions={'x': UniformDistribution(high=10, low=-10)}, user_attrs={}, system_attrs={}, intermediate_values={}, trial_id=23, state=TrialState.COMPLETE),\n",
       " FrozenTrial(number=24, value=0.28941729344824446, datetime_start=datetime.datetime(2020, 6, 19, 17, 19, 35, 235779), datetime_complete=datetime.datetime(2020, 6, 19, 17, 19, 35, 289276), params={'x': 1.4620248207879434}, distributions={'x': UniformDistribution(high=10, low=-10)}, user_attrs={}, system_attrs={}, intermediate_values={}, trial_id=24, state=TrialState.COMPLETE),\n",
       " FrozenTrial(number=25, value=11.268498078248179, datetime_start=datetime.datetime(2020, 6, 19, 17, 19, 35, 291439), datetime_complete=datetime.datetime(2020, 6, 19, 17, 19, 35, 347940), params={'x': -1.3568583643413048}, distributions={'x': UniformDistribution(high=10, low=-10)}, user_attrs={}, system_attrs={}, intermediate_values={}, trial_id=25, state=TrialState.COMPLETE),\n",
       " FrozenTrial(number=26, value=0.6648948214939617, datetime_start=datetime.datetime(2020, 6, 19, 17, 19, 35, 350137), datetime_complete=datetime.datetime(2020, 6, 19, 17, 19, 35, 409160), params={'x': 1.1845891701148668}, distributions={'x': UniformDistribution(high=10, low=-10)}, user_attrs={}, system_attrs={}, intermediate_values={}, trial_id=26, state=TrialState.COMPLETE),\n",
       " FrozenTrial(number=27, value=4.880387593911087, datetime_start=datetime.datetime(2020, 6, 19, 17, 19, 35, 411507), datetime_complete=datetime.datetime(2020, 6, 19, 17, 19, 35, 465213), params={'x': 4.209159929455332}, distributions={'x': UniformDistribution(high=10, low=-10)}, user_attrs={}, system_attrs={}, intermediate_values={}, trial_id=27, state=TrialState.COMPLETE),\n",
       " FrozenTrial(number=28, value=20.819360382981035, datetime_start=datetime.datetime(2020, 6, 19, 17, 19, 35, 467840), datetime_complete=datetime.datetime(2020, 6, 19, 17, 19, 35, 525583), params={'x': -2.5628237291156704}, distributions={'x': UniformDistribution(high=10, low=-10)}, user_attrs={}, system_attrs={}, intermediate_values={}, trial_id=28, state=TrialState.COMPLETE),\n",
       " FrozenTrial(number=29, value=9.80845048724809, datetime_start=datetime.datetime(2020, 6, 19, 17, 19, 35, 528398), datetime_complete=datetime.datetime(2020, 6, 19, 17, 19, 35, 580658), params={'x': -1.1318445822307481}, distributions={'x': UniformDistribution(high=10, low=-10)}, user_attrs={}, system_attrs={}, intermediate_values={}, trial_id=29, state=TrialState.COMPLETE),\n",
       " FrozenTrial(number=30, value=22.735937449739765, datetime_start=datetime.datetime(2020, 6, 19, 17, 19, 35, 583065), datetime_complete=datetime.datetime(2020, 6, 19, 17, 19, 35, 631439), params={'x': -2.768221623387462}, distributions={'x': UniformDistribution(high=10, low=-10)}, user_attrs={}, system_attrs={}, intermediate_values={}, trial_id=30, state=TrialState.COMPLETE),\n",
       " FrozenTrial(number=31, value=0.0005746762763577535, datetime_start=datetime.datetime(2020, 6, 19, 17, 19, 35, 634400), datetime_complete=datetime.datetime(2020, 6, 19, 17, 19, 35, 691136), params={'x': 2.023972406561665}, distributions={'x': UniformDistribution(high=10, low=-10)}, user_attrs={}, system_attrs={}, intermediate_values={}, trial_id=31, state=TrialState.COMPLETE),\n",
       " FrozenTrial(number=32, value=0.003798368719038886, datetime_start=datetime.datetime(2020, 6, 19, 17, 19, 35, 693858), datetime_complete=datetime.datetime(2020, 6, 19, 17, 19, 35, 759935), params={'x': 1.9383690928264163}, distributions={'x': UniformDistribution(high=10, low=-10)}, user_attrs={}, system_attrs={}, intermediate_values={}, trial_id=32, state=TrialState.COMPLETE),\n",
       " FrozenTrial(number=33, value=22.01772066767798, datetime_start=datetime.datetime(2020, 6, 19, 17, 19, 35, 763182), datetime_complete=datetime.datetime(2020, 6, 19, 17, 19, 35, 836352), params={'x': 6.6923044091019905}, distributions={'x': UniformDistribution(high=10, low=-10)}, user_attrs={}, system_attrs={}, intermediate_values={}, trial_id=33, state=TrialState.COMPLETE),\n",
       " FrozenTrial(number=34, value=5.607591408183371, datetime_start=datetime.datetime(2020, 6, 19, 17, 19, 35, 839247), datetime_complete=datetime.datetime(2020, 6, 19, 17, 19, 35, 895848), params={'x': -0.36803534774786906}, distributions={'x': UniformDistribution(high=10, low=-10)}, user_attrs={}, system_attrs={}, intermediate_values={}, trial_id=34, state=TrialState.COMPLETE),\n",
       " FrozenTrial(number=35, value=2.7305788539006937, datetime_start=datetime.datetime(2020, 6, 19, 17, 19, 35, 898900), datetime_complete=datetime.datetime(2020, 6, 19, 17, 19, 35, 959220), params={'x': 3.6524463240603895}, distributions={'x': UniformDistribution(high=10, low=-10)}, user_attrs={}, system_attrs={}, intermediate_values={}, trial_id=35, state=TrialState.COMPLETE),\n",
       " FrozenTrial(number=36, value=0.19117982504230474, datetime_start=datetime.datetime(2020, 6, 19, 17, 19, 35, 961962), datetime_complete=datetime.datetime(2020, 6, 19, 17, 19, 36, 23168), params={'x': 1.5627588479542385}, distributions={'x': UniformDistribution(high=10, low=-10)}, user_attrs={}, system_attrs={}, intermediate_values={}, trial_id=36, state=TrialState.COMPLETE),\n",
       " FrozenTrial(number=37, value=9.534588503716032, datetime_start=datetime.datetime(2020, 6, 19, 17, 19, 36, 26196), datetime_complete=datetime.datetime(2020, 6, 19, 17, 19, 36, 92375), params={'x': 5.087812899726282}, distributions={'x': UniformDistribution(high=10, low=-10)}, user_attrs={}, system_attrs={}, intermediate_values={}, trial_id=37, state=TrialState.COMPLETE),\n",
       " FrozenTrial(number=38, value=3.382412957116685, datetime_start=datetime.datetime(2020, 6, 19, 17, 19, 36, 95035), datetime_complete=datetime.datetime(2020, 6, 19, 17, 19, 36, 153494), params={'x': 0.1608662481709806}, distributions={'x': UniformDistribution(high=10, low=-10)}, user_attrs={}, system_attrs={}, intermediate_values={}, trial_id=38, state=TrialState.COMPLETE),\n",
       " FrozenTrial(number=39, value=0.21948361321649293, datetime_start=datetime.datetime(2020, 6, 19, 17, 19, 36, 156462), datetime_complete=datetime.datetime(2020, 6, 19, 17, 19, 36, 210725), params={'x': 1.5315092175757425}, distributions={'x': UniformDistribution(high=10, low=-10)}, user_attrs={}, system_attrs={}, intermediate_values={}, trial_id=39, state=TrialState.COMPLETE),\n",
       " FrozenTrial(number=40, value=38.288943243324354, datetime_start=datetime.datetime(2020, 6, 19, 17, 19, 36, 214366), datetime_complete=datetime.datetime(2020, 6, 19, 17, 19, 36, 275221), params={'x': -4.187806012095431}, distributions={'x': UniformDistribution(high=10, low=-10)}, user_attrs={}, system_attrs={}, intermediate_values={}, trial_id=40, state=TrialState.COMPLETE),\n",
       " FrozenTrial(number=41, value=0.8188615869129919, datetime_start=datetime.datetime(2020, 6, 19, 17, 19, 36, 277948), datetime_complete=datetime.datetime(2020, 6, 19, 17, 19, 36, 336660), params={'x': 2.9049097120226923}, distributions={'x': UniformDistribution(high=10, low=-10)}, user_attrs={}, system_attrs={}, intermediate_values={}, trial_id=41, state=TrialState.COMPLETE),\n",
       " FrozenTrial(number=42, value=0.013125370398397389, datetime_start=datetime.datetime(2020, 6, 19, 17, 19, 36, 339957), datetime_complete=datetime.datetime(2020, 6, 19, 17, 19, 36, 400774), params={'x': 1.8854339910863724}, distributions={'x': UniformDistribution(high=10, low=-10)}, user_attrs={}, system_attrs={}, intermediate_values={}, trial_id=42, state=TrialState.COMPLETE),\n",
       " FrozenTrial(number=43, value=13.779286902557669, datetime_start=datetime.datetime(2020, 6, 19, 17, 19, 36, 403664), datetime_complete=datetime.datetime(2020, 6, 19, 17, 19, 36, 459701), params={'x': -1.7120461880959497}, distributions={'x': UniformDistribution(high=10, low=-10)}, user_attrs={}, system_attrs={}, intermediate_values={}, trial_id=43, state=TrialState.COMPLETE),\n",
       " FrozenTrial(number=44, value=2.6969137891907464, datetime_start=datetime.datetime(2020, 6, 19, 17, 19, 36, 462360), datetime_complete=datetime.datetime(2020, 6, 19, 17, 19, 36, 518947), params={'x': 3.642228299960376}, distributions={'x': UniformDistribution(high=10, low=-10)}, user_attrs={}, system_attrs={}, intermediate_values={}, trial_id=44, state=TrialState.COMPLETE),\n",
       " FrozenTrial(number=45, value=0.0019358416173742606, datetime_start=datetime.datetime(2020, 6, 19, 17, 19, 36, 521706), datetime_complete=datetime.datetime(2020, 6, 19, 17, 19, 36, 580277), params={'x': 1.9560017998393768}, distributions={'x': UniformDistribution(high=10, low=-10)}, user_attrs={}, system_attrs={}, intermediate_values={}, trial_id=45, state=TrialState.COMPLETE),\n",
       " FrozenTrial(number=46, value=1.2244856267091275, datetime_start=datetime.datetime(2020, 6, 19, 17, 19, 36, 584597), datetime_complete=datetime.datetime(2020, 6, 19, 17, 19, 36, 642997), params={'x': 0.8934352135057217}, distributions={'x': UniformDistribution(high=10, low=-10)}, user_attrs={}, system_attrs={}, intermediate_values={}, trial_id=46, state=TrialState.COMPLETE),\n",
       " FrozenTrial(number=47, value=5.166885241230488, datetime_start=datetime.datetime(2020, 6, 19, 17, 19, 36, 645806), datetime_complete=datetime.datetime(2020, 6, 19, 17, 19, 36, 704915), params={'x': -0.2730783623162858}, distributions={'x': UniformDistribution(high=10, low=-10)}, user_attrs={}, system_attrs={}, intermediate_values={}, trial_id=47, state=TrialState.COMPLETE),\n",
       " FrozenTrial(number=48, value=18.812036000611243, datetime_start=datetime.datetime(2020, 6, 19, 17, 19, 36, 707734), datetime_complete=datetime.datetime(2020, 6, 19, 17, 19, 36, 763211), params={'x': 6.3372844039342455}, distributions={'x': UniformDistribution(high=10, low=-10)}, user_attrs={}, system_attrs={}, intermediate_values={}, trial_id=48, state=TrialState.COMPLETE),\n",
       " FrozenTrial(number=49, value=83.91251191779953, datetime_start=datetime.datetime(2020, 6, 19, 17, 19, 36, 765969), datetime_complete=datetime.datetime(2020, 6, 19, 17, 19, 36, 820867), params={'x': -7.160377280319819}, distributions={'x': UniformDistribution(high=10, low=-10)}, user_attrs={}, system_attrs={}, intermediate_values={}, trial_id=49, state=TrialState.COMPLETE),\n",
       " FrozenTrial(number=50, value=0.00012917057863886413, datetime_start=datetime.datetime(2020, 6, 19, 17, 19, 36, 823591), datetime_complete=datetime.datetime(2020, 6, 19, 17, 19, 36, 885148), params={'x': 1.9886346764833172}, distributions={'x': UniformDistribution(high=10, low=-10)}, user_attrs={}, system_attrs={}, intermediate_values={}, trial_id=50, state=TrialState.COMPLETE),\n",
       " FrozenTrial(number=51, value=0.001784403803439445, datetime_start=datetime.datetime(2020, 6, 19, 17, 19, 36, 887770), datetime_complete=datetime.datetime(2020, 6, 19, 17, 19, 36, 943045), params={'x': 2.0422422040551798}, distributions={'x': UniformDistribution(high=10, low=-10)}, user_attrs={}, system_attrs={}, intermediate_values={}, trial_id=51, state=TrialState.COMPLETE),\n",
       " FrozenTrial(number=52, value=2.036424140195428, datetime_start=datetime.datetime(2020, 6, 19, 17, 19, 36, 945554), datetime_complete=datetime.datetime(2020, 6, 19, 17, 19, 37, 5636), params={'x': 3.427033335348347}, distributions={'x': UniformDistribution(high=10, low=-10)}, user_attrs={}, system_attrs={}, intermediate_values={}, trial_id=52, state=TrialState.COMPLETE),\n",
       " FrozenTrial(number=53, value=1.3460662785458473, datetime_start=datetime.datetime(2020, 6, 19, 17, 19, 37, 8485), datetime_complete=datetime.datetime(2020, 6, 19, 17, 19, 37, 60609), params={'x': 0.8397990352762814}, distributions={'x': UniformDistribution(high=10, low=-10)}, user_attrs={}, system_attrs={}, intermediate_values={}, trial_id=53, state=TrialState.COMPLETE),\n",
       " FrozenTrial(number=54, value=0.9347621621253228, datetime_start=datetime.datetime(2020, 6, 19, 17, 19, 37, 63227), datetime_complete=datetime.datetime(2020, 6, 19, 17, 19, 37, 119671), params={'x': 2.9668309894316187}, distributions={'x': UniformDistribution(high=10, low=-10)}, user_attrs={}, system_attrs={}, intermediate_values={}, trial_id=54, state=TrialState.COMPLETE),\n",
       " FrozenTrial(number=55, value=6.481843073475325, datetime_start=datetime.datetime(2020, 6, 19, 17, 19, 37, 122440), datetime_complete=datetime.datetime(2020, 6, 19, 17, 19, 37, 185586), params={'x': 4.545946400353968}, distributions={'x': UniformDistribution(high=10, low=-10)}, user_attrs={}, system_attrs={}, intermediate_values={}, trial_id=55, state=TrialState.COMPLETE),\n",
       " FrozenTrial(number=56, value=0.03280532033095951, datetime_start=datetime.datetime(2020, 6, 19, 17, 19, 37, 188571), datetime_complete=datetime.datetime(2020, 6, 19, 17, 19, 37, 245087), params={'x': 2.1811223904738437}, distributions={'x': UniformDistribution(high=10, low=-10)}, user_attrs={}, system_attrs={}, intermediate_values={}, trial_id=56, state=TrialState.COMPLETE),\n",
       " FrozenTrial(number=57, value=4.821004725789738, datetime_start=datetime.datetime(2020, 6, 19, 17, 19, 37, 247817), datetime_complete=datetime.datetime(2020, 6, 19, 17, 19, 37, 306771), params={'x': -0.19567864811536984}, distributions={'x': UniformDistribution(high=10, low=-10)}, user_attrs={}, system_attrs={}, intermediate_values={}, trial_id=57, state=TrialState.COMPLETE),\n",
       " FrozenTrial(number=58, value=0.01656221105511323, datetime_start=datetime.datetime(2020, 6, 19, 17, 19, 37, 310248), datetime_complete=datetime.datetime(2020, 6, 19, 17, 19, 37, 365096), params={'x': 1.8713057458348927}, distributions={'x': UniformDistribution(high=10, low=-10)}, user_attrs={}, system_attrs={}, intermediate_values={}, trial_id=58, state=TrialState.COMPLETE),\n",
       " FrozenTrial(number=59, value=2.403799010655241, datetime_start=datetime.datetime(2020, 6, 19, 17, 19, 37, 367867), datetime_complete=datetime.datetime(2020, 6, 19, 17, 19, 37, 416733), params={'x': 0.4495810209316835}, distributions={'x': UniformDistribution(high=10, low=-10)}, user_attrs={}, system_attrs={}, intermediate_values={}, trial_id=59, state=TrialState.COMPLETE),\n",
       " FrozenTrial(number=60, value=0.9695350251136795, datetime_start=datetime.datetime(2020, 6, 19, 17, 19, 37, 419011), datetime_complete=datetime.datetime(2020, 6, 19, 17, 19, 37, 471675), params={'x': 2.984649696650377}, distributions={'x': UniformDistribution(high=10, low=-10)}, user_attrs={}, system_attrs={}, intermediate_values={}, trial_id=60, state=TrialState.COMPLETE),\n",
       " FrozenTrial(number=61, value=0.004314883150547727, datetime_start=datetime.datetime(2020, 6, 19, 17, 19, 37, 474672), datetime_complete=datetime.datetime(2020, 6, 19, 17, 19, 37, 529511), params={'x': 2.065687770174879}, distributions={'x': UniformDistribution(high=10, low=-10)}, user_attrs={}, system_attrs={}, intermediate_values={}, trial_id=61, state=TrialState.COMPLETE),\n",
       " FrozenTrial(number=62, value=0.02018250986720986, datetime_start=datetime.datetime(2020, 6, 19, 17, 19, 37, 531932), datetime_complete=datetime.datetime(2020, 6, 19, 17, 19, 37, 587994), params={'x': 2.142065160638384}, distributions={'x': UniformDistribution(high=10, low=-10)}, user_attrs={}, system_attrs={}, intermediate_values={}, trial_id=62, state=TrialState.COMPLETE),\n",
       " FrozenTrial(number=63, value=0.8117978448786595, datetime_start=datetime.datetime(2020, 6, 19, 17, 19, 37, 591176), datetime_complete=datetime.datetime(2020, 6, 19, 17, 19, 37, 645339), params={'x': 1.0990017509014463}, distributions={'x': UniformDistribution(high=10, low=-10)}, user_attrs={}, system_attrs={}, intermediate_values={}, trial_id=63, state=TrialState.COMPLETE),\n",
       " FrozenTrial(number=64, value=4.852106634015714, datetime_start=datetime.datetime(2020, 6, 19, 17, 19, 37, 648447), datetime_complete=datetime.datetime(2020, 6, 19, 17, 19, 37, 702546), params={'x': 4.202749789244279}, distributions={'x': UniformDistribution(high=10, low=-10)}, user_attrs={}, system_attrs={}, intermediate_values={}, trial_id=64, state=TrialState.COMPLETE),\n",
       " FrozenTrial(number=65, value=0.2217635768243613, datetime_start=datetime.datetime(2020, 6, 19, 17, 19, 37, 706075), datetime_complete=datetime.datetime(2020, 6, 19, 17, 19, 37, 768343), params={'x': 2.4709178026199066}, distributions={'x': UniformDistribution(high=10, low=-10)}, user_attrs={}, system_attrs={}, intermediate_values={}, trial_id=65, state=TrialState.COMPLETE),\n",
       " FrozenTrial(number=66, value=6.497263621337981, datetime_start=datetime.datetime(2020, 6, 19, 17, 19, 37, 771406), datetime_complete=datetime.datetime(2020, 6, 19, 17, 19, 37, 830839), params={'x': -0.5489730522973326}, distributions={'x': UniformDistribution(high=10, low=-10)}, user_attrs={}, system_attrs={}, intermediate_values={}, trial_id=66, state=TrialState.COMPLETE),\n",
       " FrozenTrial(number=67, value=2.275213988051619, datetime_start=datetime.datetime(2020, 6, 19, 17, 19, 37, 833664), datetime_complete=datetime.datetime(2020, 6, 19, 17, 19, 37, 888851), params={'x': 3.508381247580206}, distributions={'x': UniformDistribution(high=10, low=-10)}, user_attrs={}, system_attrs={}, intermediate_values={}, trial_id=67, state=TrialState.COMPLETE),\n",
       " FrozenTrial(number=68, value=0.3723531052445569, datetime_start=datetime.datetime(2020, 6, 19, 17, 19, 37, 891654), datetime_complete=datetime.datetime(2020, 6, 19, 17, 19, 37, 948105), params={'x': 1.3897925719523263}, distributions={'x': UniformDistribution(high=10, low=-10)}, user_attrs={}, system_attrs={}, intermediate_values={}, trial_id=68, state=TrialState.COMPLETE),\n",
       " FrozenTrial(number=69, value=15.705591131810356, datetime_start=datetime.datetime(2020, 6, 19, 17, 19, 37, 951257), datetime_complete=datetime.datetime(2020, 6, 19, 17, 19, 38, 4477), params={'x': 5.9630280256150545}, distributions={'x': UniformDistribution(high=10, low=-10)}, user_attrs={}, system_attrs={}, intermediate_values={}, trial_id=69, state=TrialState.COMPLETE),\n",
       " FrozenTrial(number=70, value=2.837363313281431, datetime_start=datetime.datetime(2020, 6, 19, 17, 19, 38, 7144), datetime_complete=datetime.datetime(2020, 6, 19, 17, 19, 38, 64340), params={'x': 0.3155525198803524}, distributions={'x': UniformDistribution(high=10, low=-10)}, user_attrs={}, system_attrs={}, intermediate_values={}, trial_id=70, state=TrialState.COMPLETE),\n",
       " FrozenTrial(number=71, value=0.019732026780393125, datetime_start=datetime.datetime(2020, 6, 19, 17, 19, 38, 67512), datetime_complete=datetime.datetime(2020, 6, 19, 17, 19, 38, 127280), params={'x': 1.859529267174998}, distributions={'x': UniformDistribution(high=10, low=-10)}, user_attrs={}, system_attrs={}, intermediate_values={}, trial_id=71, state=TrialState.COMPLETE),\n",
       " FrozenTrial(number=72, value=3.8623862398451214e-05, datetime_start=datetime.datetime(2020, 6, 19, 17, 19, 38, 130405), datetime_complete=datetime.datetime(2020, 6, 19, 17, 19, 38, 190666), params={'x': 2.0062148099245634}, distributions={'x': UniformDistribution(high=10, low=-10)}, user_attrs={}, system_attrs={}, intermediate_values={}, trial_id=72, state=TrialState.COMPLETE),\n",
       " FrozenTrial(number=73, value=0.6735046705700269, datetime_start=datetime.datetime(2020, 6, 19, 17, 19, 38, 194388), datetime_complete=datetime.datetime(2020, 6, 19, 17, 19, 38, 257794), params={'x': 2.8206733031907563}, distributions={'x': UniformDistribution(high=10, low=-10)}, user_attrs={}, system_attrs={}, intermediate_values={}, trial_id=73, state=TrialState.COMPLETE),\n",
       " FrozenTrial(number=74, value=4.122289514848244, datetime_start=datetime.datetime(2020, 6, 19, 17, 19, 38, 261519), datetime_complete=datetime.datetime(2020, 6, 19, 17, 19, 38, 320444), params={'x': 4.030342216191213}, distributions={'x': UniformDistribution(high=10, low=-10)}, user_attrs={}, system_attrs={}, intermediate_values={}, trial_id=74, state=TrialState.COMPLETE),\n",
       " FrozenTrial(number=75, value=8.59501490367501, datetime_start=datetime.datetime(2020, 6, 19, 17, 19, 38, 323041), datetime_complete=datetime.datetime(2020, 6, 19, 17, 19, 38, 384613), params={'x': 4.931725584647207}, distributions={'x': UniformDistribution(high=10, low=-10)}, user_attrs={}, system_attrs={}, intermediate_values={}, trial_id=75, state=TrialState.COMPLETE),\n",
       " FrozenTrial(number=76, value=1.326762384351735, datetime_start=datetime.datetime(2020, 6, 19, 17, 19, 38, 388291), datetime_complete=datetime.datetime(2020, 6, 19, 17, 19, 38, 444824), params={'x': 0.84814828022365}, distributions={'x': UniformDistribution(high=10, low=-10)}, user_attrs={}, system_attrs={}, intermediate_values={}, trial_id=76, state=TrialState.COMPLETE),\n",
       " FrozenTrial(number=77, value=1.3045021076814196, datetime_start=datetime.datetime(2020, 6, 19, 17, 19, 38, 447055), datetime_complete=datetime.datetime(2020, 6, 19, 17, 19, 38, 503205), params={'x': 3.1421480235422288}, distributions={'x': UniformDistribution(high=10, low=-10)}, user_attrs={}, system_attrs={}, intermediate_values={}, trial_id=77, state=TrialState.COMPLETE),\n",
       " FrozenTrial(number=78, value=9.069989563558378, datetime_start=datetime.datetime(2020, 6, 19, 17, 19, 38, 505582), datetime_complete=datetime.datetime(2020, 6, 19, 17, 19, 38, 560170), params={'x': -1.0116423365928395}, distributions={'x': UniformDistribution(high=10, low=-10)}, user_attrs={}, system_attrs={}, intermediate_values={}, trial_id=78, state=TrialState.COMPLETE),\n",
       " FrozenTrial(number=79, value=0.013475157895665685, datetime_start=datetime.datetime(2020, 6, 19, 17, 19, 38, 563573), datetime_complete=datetime.datetime(2020, 6, 19, 17, 19, 38, 616430), params={'x': 2.1160825477652248}, distributions={'x': UniformDistribution(high=10, low=-10)}, user_attrs={}, system_attrs={}, intermediate_values={}, trial_id=79, state=TrialState.COMPLETE),\n",
       " FrozenTrial(number=80, value=15.74095457638159, datetime_start=datetime.datetime(2020, 6, 19, 17, 19, 38, 619061), datetime_complete=datetime.datetime(2020, 6, 19, 17, 19, 38, 680055), params={'x': -1.9674871866688606}, distributions={'x': UniformDistribution(high=10, low=-10)}, user_attrs={}, system_attrs={}, intermediate_values={}, trial_id=80, state=TrialState.COMPLETE),\n",
       " FrozenTrial(number=81, value=0.14896134379012743, datetime_start=datetime.datetime(2020, 6, 19, 17, 19, 38, 684043), datetime_complete=datetime.datetime(2020, 6, 19, 17, 19, 38, 743568), params={'x': 2.385955105925712}, distributions={'x': UniformDistribution(high=10, low=-10)}, user_attrs={}, system_attrs={}, intermediate_values={}, trial_id=81, state=TrialState.COMPLETE),\n",
       " FrozenTrial(number=82, value=0.25109111305610904, datetime_start=datetime.datetime(2020, 6, 19, 17, 19, 38, 746505), datetime_complete=datetime.datetime(2020, 6, 19, 17, 19, 38, 805736), params={'x': 1.4989100748806568}, distributions={'x': UniformDistribution(high=10, low=-10)}, user_attrs={}, system_attrs={}, intermediate_values={}, trial_id=82, state=TrialState.COMPLETE),\n",
       " FrozenTrial(number=83, value=0.2695528384043773, datetime_start=datetime.datetime(2020, 6, 19, 17, 19, 38, 809098), datetime_complete=datetime.datetime(2020, 6, 19, 17, 19, 38, 871524), params={'x': 2.5191847825238884}, distributions={'x': UniformDistribution(high=10, low=-10)}, user_attrs={}, system_attrs={}, intermediate_values={}, trial_id=83, state=TrialState.COMPLETE),\n",
       " FrozenTrial(number=84, value=0.00014892663780685978, datetime_start=datetime.datetime(2020, 6, 19, 17, 19, 38, 875309), datetime_complete=datetime.datetime(2020, 6, 19, 17, 19, 38, 930912), params={'x': 2.0122035502132314}, distributions={'x': UniformDistribution(high=10, low=-10)}, user_attrs={}, system_attrs={}, intermediate_values={}, trial_id=84, state=TrialState.COMPLETE),\n",
       " FrozenTrial(number=85, value=1.9768255226187323, datetime_start=datetime.datetime(2020, 6, 19, 17, 19, 38, 934561), datetime_complete=datetime.datetime(2020, 6, 19, 17, 19, 38, 996733), params={'x': 0.5940037259584461}, distributions={'x': UniformDistribution(high=10, low=-10)}, user_attrs={}, system_attrs={}, intermediate_values={}, trial_id=85, state=TrialState.COMPLETE),\n",
       " FrozenTrial(number=86, value=3.4353374896008404, datetime_start=datetime.datetime(2020, 6, 19, 17, 19, 38, 999541), datetime_complete=datetime.datetime(2020, 6, 19, 17, 19, 39, 52921), params={'x': 3.8534663443399344}, distributions={'x': UniformDistribution(high=10, low=-10)}, user_attrs={}, system_attrs={}, intermediate_values={}, trial_id=86, state=TrialState.COMPLETE),\n",
       " FrozenTrial(number=87, value=3.7407229894789134, datetime_start=datetime.datetime(2020, 6, 19, 17, 19, 39, 55752), datetime_complete=datetime.datetime(2020, 6, 19, 17, 19, 39, 113964), params={'x': 0.065905123971703}, distributions={'x': UniformDistribution(high=10, low=-10)}, user_attrs={}, system_attrs={}, intermediate_values={}, trial_id=87, state=TrialState.COMPLETE),\n",
       " FrozenTrial(number=88, value=0.6626140886529306, datetime_start=datetime.datetime(2020, 6, 19, 17, 19, 39, 116788), datetime_complete=datetime.datetime(2020, 6, 19, 17, 19, 39, 171581), params={'x': 1.1859888891096568}, distributions={'x': UniformDistribution(high=10, low=-10)}, user_attrs={}, system_attrs={}, intermediate_values={}, trial_id=88, state=TrialState.COMPLETE),\n",
       " FrozenTrial(number=89, value=1.6168716361621118, datetime_start=datetime.datetime(2020, 6, 19, 17, 19, 39, 175322), datetime_complete=datetime.datetime(2020, 6, 19, 17, 19, 39, 230751), params={'x': 3.2715626748855566}, distributions={'x': UniformDistribution(high=10, low=-10)}, user_attrs={}, system_attrs={}, intermediate_values={}, trial_id=89, state=TrialState.COMPLETE),\n",
       " FrozenTrial(number=90, value=0.07953009761154883, datetime_start=datetime.datetime(2020, 6, 19, 17, 19, 39, 233411), datetime_complete=datetime.datetime(2020, 6, 19, 17, 19, 39, 292664), params={'x': 1.7179891888392418}, distributions={'x': UniformDistribution(high=10, low=-10)}, user_attrs={}, system_attrs={}, intermediate_values={}, trial_id=90, state=TrialState.COMPLETE),\n",
       " FrozenTrial(number=91, value=0.03196514338115366, datetime_start=datetime.datetime(2020, 6, 19, 17, 19, 39, 295529), datetime_complete=datetime.datetime(2020, 6, 19, 17, 19, 39, 353287), params={'x': 2.1787879844428972}, distributions={'x': UniformDistribution(high=10, low=-10)}, user_attrs={}, system_attrs={}, intermediate_values={}, trial_id=91, state=TrialState.COMPLETE),\n",
       " FrozenTrial(number=92, value=6.0058767025410844e-05, datetime_start=datetime.datetime(2020, 6, 19, 17, 19, 39, 356132), datetime_complete=datetime.datetime(2020, 6, 19, 17, 19, 39, 416435), params={'x': 2.0077497591591875}, distributions={'x': UniformDistribution(high=10, low=-10)}, user_attrs={}, system_attrs={}, intermediate_values={}, trial_id=92, state=TrialState.COMPLETE),\n",
       " FrozenTrial(number=93, value=0.6625419215915049, datetime_start=datetime.datetime(2020, 6, 19, 17, 19, 39, 418713), datetime_complete=datetime.datetime(2020, 6, 19, 17, 19, 39, 475017), params={'x': 1.186033218373437}, distributions={'x': UniformDistribution(high=10, low=-10)}, user_attrs={}, system_attrs={}, intermediate_values={}, trial_id=93, state=TrialState.COMPLETE),\n",
       " FrozenTrial(number=94, value=0.5170639617645177, datetime_start=datetime.datetime(2020, 6, 19, 17, 19, 39, 477336), datetime_complete=datetime.datetime(2020, 6, 19, 17, 19, 39, 531253), params={'x': 2.719071597105961}, distributions={'x': UniformDistribution(high=10, low=-10)}, user_attrs={}, system_attrs={}, intermediate_values={}, trial_id=94, state=TrialState.COMPLETE),\n",
       " FrozenTrial(number=95, value=0.07180279183990733, datetime_start=datetime.datetime(2020, 6, 19, 17, 19, 39, 533487), datetime_complete=datetime.datetime(2020, 6, 19, 17, 19, 39, 597163), params={'x': 1.7320395703841567}, distributions={'x': UniformDistribution(high=10, low=-10)}, user_attrs={}, system_attrs={}, intermediate_values={}, trial_id=95, state=TrialState.COMPLETE),\n",
       " FrozenTrial(number=96, value=7.108263288290398, datetime_start=datetime.datetime(2020, 6, 19, 17, 19, 39, 599790), datetime_complete=datetime.datetime(2020, 6, 19, 17, 19, 39, 654897), params={'x': 4.666132646416978}, distributions={'x': UniformDistribution(high=10, low=-10)}, user_attrs={}, system_attrs={}, intermediate_values={}, trial_id=96, state=TrialState.COMPLETE),\n",
       " FrozenTrial(number=97, value=1.321811418551167, datetime_start=datetime.datetime(2020, 6, 19, 17, 19, 39, 657815), datetime_complete=datetime.datetime(2020, 6, 19, 17, 19, 39, 719508), params={'x': 0.8502994222184774}, distributions={'x': UniformDistribution(high=10, low=-10)}, user_attrs={}, system_attrs={}, intermediate_values={}, trial_id=97, state=TrialState.COMPLETE),\n",
       " FrozenTrial(number=98, value=1.476653178914404, datetime_start=datetime.datetime(2020, 6, 19, 17, 19, 39, 721984), datetime_complete=datetime.datetime(2020, 6, 19, 17, 19, 39, 776737), params={'x': 3.2151761925393387}, distributions={'x': UniformDistribution(high=10, low=-10)}, user_attrs={}, system_attrs={}, intermediate_values={}, trial_id=98, state=TrialState.COMPLETE),\n",
       " FrozenTrial(number=99, value=142.10640671987662, datetime_start=datetime.datetime(2020, 6, 19, 17, 19, 39, 779188), datetime_complete=datetime.datetime(2020, 6, 19, 17, 19, 39, 831884), params={'x': -9.920839178509063}, distributions={'x': UniformDistribution(high=10, low=-10)}, user_attrs={}, system_attrs={}, intermediate_values={}, trial_id=99, state=TrialState.COMPLETE)]"
      ]
     },
     "execution_count": 7,
     "metadata": {},
     "output_type": "execute_result"
    }
   ],
   "source": [
    "study.trials"
   ]
  },
  {
   "cell_type": "code",
   "execution_count": 8,
   "metadata": {},
   "outputs": [
    {
     "data": {
      "text/plain": [
       "100"
      ]
     },
     "execution_count": 8,
     "metadata": {},
     "output_type": "execute_result"
    }
   ],
   "source": [
    "len(study.trials)"
   ]
  },
  {
   "cell_type": "code",
   "execution_count": 9,
   "metadata": {},
   "outputs": [
    {
     "name": "stderr",
     "output_type": "stream",
     "text": [
      "[I 2020-06-19 17:22:30,429] Finished trial#100 with value: 7.498788637351737 with parameters: {'x': -0.738391615045543}. Best is trial#72 with value: 3.8623862398451214e-05.\n",
      "[I 2020-06-19 17:22:30,486] Finished trial#101 with value: 0.00021060234932702564 with parameters: {'x': 2.0145121448906433}. Best is trial#72 with value: 3.8623862398451214e-05.\n",
      "[I 2020-06-19 17:22:30,539] Finished trial#102 with value: 0.0002640585947654872 with parameters: {'x': 2.016249879838494}. Best is trial#72 with value: 3.8623862398451214e-05.\n",
      "[I 2020-06-19 17:22:30,597] Finished trial#103 with value: 0.38922452684333053 with parameters: {'x': 2.623878615472057}. Best is trial#72 with value: 3.8623862398451214e-05.\n",
      "[I 2020-06-19 17:22:30,649] Finished trial#104 with value: 2.247031240337747 with parameters: {'x': 0.5009899131967968}. Best is trial#72 with value: 3.8623862398451214e-05.\n",
      "[I 2020-06-19 17:22:30,707] Finished trial#105 with value: 3.107608070292746 with parameters: {'x': 3.7628409089571146}. Best is trial#72 with value: 3.8623862398451214e-05.\n",
      "[I 2020-06-19 17:22:30,761] Finished trial#106 with value: 0.41342749329865386 with parameters: {'x': 1.357016723935487}. Best is trial#72 with value: 3.8623862398451214e-05.\n",
      "[I 2020-06-19 17:22:30,817] Finished trial#107 with value: 0.004184513303950873 with parameters: {'x': 2.0646878141843645}. Best is trial#72 with value: 3.8623862398451214e-05.\n",
      "[I 2020-06-19 17:22:30,876] Finished trial#108 with value: 4.596582922341541 with parameters: {'x': -0.1439643006219904}. Best is trial#72 with value: 3.8623862398451214e-05.\n",
      "[I 2020-06-19 17:22:30,935] Finished trial#109 with value: 0.8642970166706844 with parameters: {'x': 2.9296757588916065}. Best is trial#72 with value: 3.8623862398451214e-05.\n"
     ]
    }
   ],
   "source": [
    "study.optimize(objective, n_trials=10)"
   ]
  },
  {
   "cell_type": "code",
   "execution_count": 10,
   "metadata": {},
   "outputs": [
    {
     "data": {
      "text/plain": [
       "110"
      ]
     },
     "execution_count": 10,
     "metadata": {},
     "output_type": "execute_result"
    }
   ],
   "source": [
    "len(study.trials)"
   ]
  },
  {
   "cell_type": "code",
   "execution_count": null,
   "metadata": {},
   "outputs": [],
   "source": []
  }
 ],
 "metadata": {
  "kernelspec": {
   "display_name": "Python 3",
   "language": "python",
   "name": "python3"
  },
  "language_info": {
   "codemirror_mode": {
    "name": "ipython",
    "version": 3
   },
   "file_extension": ".py",
   "mimetype": "text/x-python",
   "name": "python",
   "nbconvert_exporter": "python",
   "pygments_lexer": "ipython3",
   "version": "3.7.4"
  }
 },
 "nbformat": 4,
 "nbformat_minor": 4
}
