{
 "cells": [
  {
   "cell_type": "code",
   "execution_count": 1,
   "metadata": {},
   "outputs": [],
   "source": [
    "import optuna"
   ]
  },
  {
   "cell_type": "code",
   "execution_count": 2,
   "metadata": {},
   "outputs": [
    {
     "data": {
      "text/plain": [
       "'1.5.0'"
      ]
     },
     "execution_count": 2,
     "metadata": {},
     "output_type": "execute_result"
    }
   ],
   "source": [
    "optuna.__version__"
   ]
  },
  {
   "cell_type": "code",
   "execution_count": 3,
   "metadata": {},
   "outputs": [],
   "source": [
    "from sklearn.model_selection import cross_val_score"
   ]
  },
  {
   "cell_type": "code",
   "execution_count": 4,
   "metadata": {},
   "outputs": [],
   "source": [
    "from sklearn.tree import DecisionTreeClassifier"
   ]
  },
  {
   "cell_type": "code",
   "execution_count": 5,
   "metadata": {},
   "outputs": [],
   "source": [
    "def objective(trial, x, t, cv):\n",
    "    max_depth = trial.suggest_int('max_depth', 2, 100)\n",
    "    min_samples_split = trial.suggest_int('min_samples_split', 2, 100)\n",
    "\n",
    "    estimator = DecisionTreeClassifier(\n",
    "        max_depth=max_depth,\n",
    "        min_samples_split=min_samples_split,\n",
    "    )\n",
    "\n",
    "    print('Current_params:', trial.params)\n",
    "    accuracy = cross_val_score(estimator, x, t, cv=cv).mean()\n",
    "\n",
    "    return 1 - accuracy"
   ]
  },
  {
   "cell_type": "code",
   "execution_count": 6,
   "metadata": {},
   "outputs": [],
   "source": [
    "cv = 5"
   ]
  },
  {
   "cell_type": "code",
   "execution_count": 7,
   "metadata": {},
   "outputs": [],
   "source": [
    "study = optuna.create_study(sampler=optuna.samplers.RandomSampler(0))"
   ]
  },
  {
   "cell_type": "code",
   "execution_count": 8,
   "metadata": {},
   "outputs": [],
   "source": [
    "from sklearn.datasets import load_breast_cancer\n",
    "dataset = load_breast_cancer()\n",
    "\n",
    "t = dataset.target\n",
    "x = dataset.data\n",
    "\n",
    "from sklearn.model_selection import train_test_split\n",
    "x_train_val, x_test, t_train_val, t_test = train_test_split(x, t, test_size=0.2, random_state=1)\n",
    "x_train, x_val, t_train, t_val = train_test_split(x_train_val, t_train_val, test_size=0.3, random_state=1)"
   ]
  },
  {
   "cell_type": "code",
   "execution_count": 9,
   "metadata": {},
   "outputs": [
    {
     "name": "stdout",
     "output_type": "stream",
     "text": [
      "Current_params: {'max_depth': 46, 'min_samples_split': 49}\n"
     ]
    },
    {
     "name": "stderr",
     "output_type": "stream",
     "text": [
      "[I 2020-06-19 16:43:11,625] Finished trial#0 with value: 0.07912087912087906 with parameters: {'max_depth': 46, 'min_samples_split': 49}. Best is trial#0 with value: 0.07912087912087906.\n"
     ]
    },
    {
     "name": "stdout",
     "output_type": "stream",
     "text": [
      "Current_params: {'max_depth': 66, 'min_samples_split': 69}\n"
     ]
    },
    {
     "name": "stderr",
     "output_type": "stream",
     "text": [
      "[I 2020-06-19 16:43:11,802] Finished trial#1 with value: 0.07912087912087906 with parameters: {'max_depth': 66, 'min_samples_split': 69}. Best is trial#0 with value: 0.07912087912087906.\n"
     ]
    },
    {
     "name": "stdout",
     "output_type": "stream",
     "text": [
      "Current_params: {'max_depth': 69, 'min_samples_split': 11}\n"
     ]
    },
    {
     "name": "stderr",
     "output_type": "stream",
     "text": [
      "[I 2020-06-19 16:43:11,989] Finished trial#2 with value: 0.06373626373626373 with parameters: {'max_depth': 69, 'min_samples_split': 11}. Best is trial#2 with value: 0.06373626373626373.\n"
     ]
    },
    {
     "name": "stdout",
     "output_type": "stream",
     "text": [
      "Current_params: {'max_depth': 85, 'min_samples_split': 23}\n"
     ]
    },
    {
     "name": "stderr",
     "output_type": "stream",
     "text": [
      "[I 2020-06-19 16:43:12,180] Finished trial#3 with value: 0.07472527472527468 with parameters: {'max_depth': 85, 'min_samples_split': 23}. Best is trial#2 with value: 0.06373626373626373.\n"
     ]
    },
    {
     "name": "stdout",
     "output_type": "stream",
     "text": [
      "Current_params: {'max_depth': 38, 'min_samples_split': 89}\n"
     ]
    },
    {
     "name": "stderr",
     "output_type": "stream",
     "text": [
      "[I 2020-06-19 16:43:12,369] Finished trial#4 with value: 0.08131868131868125 with parameters: {'max_depth': 38, 'min_samples_split': 89}. Best is trial#2 with value: 0.06373626373626373.\n"
     ]
    },
    {
     "name": "stdout",
     "output_type": "stream",
     "text": [
      "Current_params: {'max_depth': 72, 'min_samples_split': 90}\n"
     ]
    },
    {
     "name": "stderr",
     "output_type": "stream",
     "text": [
      "[I 2020-06-19 16:43:12,554] Finished trial#5 with value: 0.07912087912087906 with parameters: {'max_depth': 72, 'min_samples_split': 90}. Best is trial#2 with value: 0.06373626373626373.\n"
     ]
    },
    {
     "name": "stdout",
     "output_type": "stream",
     "text": [
      "Current_params: {'max_depth': 90, 'min_samples_split': 14}\n"
     ]
    },
    {
     "name": "stderr",
     "output_type": "stream",
     "text": [
      "[I 2020-06-19 16:43:12,733] Finished trial#6 with value: 0.07252747252747249 with parameters: {'max_depth': 90, 'min_samples_split': 14}. Best is trial#2 with value: 0.06373626373626373.\n"
     ]
    },
    {
     "name": "stdout",
     "output_type": "stream",
     "text": [
      "Current_params: {'max_depth': 60, 'min_samples_split': 67}\n"
     ]
    },
    {
     "name": "stderr",
     "output_type": "stream",
     "text": [
      "[I 2020-06-19 16:43:12,908] Finished trial#7 with value: 0.08131868131868125 with parameters: {'max_depth': 60, 'min_samples_split': 67}. Best is trial#2 with value: 0.06373626373626373.\n"
     ]
    },
    {
     "name": "stdout",
     "output_type": "stream",
     "text": [
      "Current_params: {'max_depth': 41, 'min_samples_split': 89}\n"
     ]
    },
    {
     "name": "stderr",
     "output_type": "stream",
     "text": [
      "[I 2020-06-19 16:43:13,089] Finished trial#8 with value: 0.07912087912087906 with parameters: {'max_depth': 41, 'min_samples_split': 89}. Best is trial#2 with value: 0.06373626373626373.\n"
     ]
    },
    {
     "name": "stdout",
     "output_type": "stream",
     "text": [
      "Current_params: {'max_depth': 48, 'min_samples_split': 90}\n"
     ]
    },
    {
     "name": "stderr",
     "output_type": "stream",
     "text": [
      "[I 2020-06-19 16:43:13,287] Finished trial#9 with value: 0.07912087912087906 with parameters: {'max_depth': 48, 'min_samples_split': 90}. Best is trial#2 with value: 0.06373626373626373.\n"
     ]
    }
   ],
   "source": [
    "study.optimize(lambda trial: objective(trial, x_train_val, t_train_val, cv), n_trials=10)"
   ]
  },
  {
   "cell_type": "code",
   "execution_count": 10,
   "metadata": {},
   "outputs": [
    {
     "name": "stdout",
     "output_type": "stream",
     "text": [
      "FrozenTrial(number=2, value=0.06373626373626373, datetime_start=datetime.datetime(2020, 6, 19, 16, 43, 11, 804903), datetime_complete=datetime.datetime(2020, 6, 19, 16, 43, 11, 989481), params={'max_depth': 69, 'min_samples_split': 11}, distributions={'max_depth': IntUniformDistribution(high=100, low=2, step=1), 'min_samples_split': IntUniformDistribution(high=100, low=2, step=1)}, user_attrs={}, system_attrs={}, intermediate_values={}, trial_id=2, state=TrialState.COMPLETE)\n"
     ]
    }
   ],
   "source": [
    "print(study.best_trial)"
   ]
  },
  {
   "cell_type": "code",
   "execution_count": 11,
   "metadata": {},
   "outputs": [
    {
     "name": "stdout",
     "output_type": "stream",
     "text": [
      "{'max_depth': 69, 'min_samples_split': 11}\n"
     ]
    }
   ],
   "source": [
    "print(study.best_params)"
   ]
  },
  {
   "cell_type": "code",
   "execution_count": 12,
   "metadata": {},
   "outputs": [
    {
     "data": {
      "text/plain": [
       "DecisionTreeClassifier(max_depth=69, min_samples_split=11)"
      ]
     },
     "execution_count": 12,
     "metadata": {},
     "output_type": "execute_result"
    }
   ],
   "source": [
    "model = DecisionTreeClassifier(**study.best_params)\n",
    "model.fit(x_train_val, t_train_val)"
   ]
  },
  {
   "cell_type": "code",
   "execution_count": 13,
   "metadata": {},
   "outputs": [
    {
     "name": "stdout",
     "output_type": "stream",
     "text": [
      "0.9934065934065934\n",
      "0.9473684210526315\n"
     ]
    }
   ],
   "source": [
    "print(model.score(x_train_val, t_train_val))\n",
    "print(model.score(x_test, t_test))"
   ]
  },
  {
   "cell_type": "code",
   "execution_count": null,
   "metadata": {},
   "outputs": [],
   "source": []
  }
 ],
 "metadata": {
  "kernelspec": {
   "display_name": "Python 3",
   "language": "python",
   "name": "python3"
  },
  "language_info": {
   "codemirror_mode": {
    "name": "ipython",
    "version": 3
   },
   "file_extension": ".py",
   "mimetype": "text/x-python",
   "name": "python",
   "nbconvert_exporter": "python",
   "pygments_lexer": "ipython3",
   "version": "3.7.4"
  }
 },
 "nbformat": 4,
 "nbformat_minor": 4
}
