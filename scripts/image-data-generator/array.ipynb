{
 "cells": [
  {
   "cell_type": "code",
   "execution_count": 1,
   "metadata": {},
   "outputs": [],
   "source": [
    "from tensorflow.keras.preprocessing.image import load_img, img_to_array\n",
    "from tensorflow.keras.preprocessing.image import ImageDataGenerator\n",
    "import numpy as np"
   ]
  },
  {
   "cell_type": "code",
   "execution_count": 2,
   "metadata": {},
   "outputs": [],
   "source": [
    "output_dir = 'data'\n",
    "file_path = './data/sample.png'"
   ]
  },
  {
   "cell_type": "code",
   "execution_count": 3,
   "metadata": {},
   "outputs": [],
   "source": [
    "img = load_img(file_path)"
   ]
  },
  {
   "cell_type": "code",
   "execution_count": 4,
   "metadata": {},
   "outputs": [],
   "source": [
    "img_resize = img.resize((229, 229))"
   ]
  },
  {
   "cell_type": "code",
   "execution_count": 5,
   "metadata": {},
   "outputs": [],
   "source": [
    "img_np = np.array(img_resize) / 255.0"
   ]
  },
  {
   "cell_type": "code",
   "execution_count": 6,
   "metadata": {},
   "outputs": [
    {
     "data": {
      "text/plain": [
       "(229, 229, 3)"
      ]
     },
     "execution_count": 6,
     "metadata": {},
     "output_type": "execute_result"
    }
   ],
   "source": [
    "img_np.shape"
   ]
  },
  {
   "cell_type": "code",
   "execution_count": 8,
   "metadata": {},
   "outputs": [
    {
     "data": {
      "text/plain": [
       "array([[[0.75686275, 0.42745098, 0.28627451],\n",
       "        [0.77254902, 0.44313725, 0.30196078],\n",
       "        [0.76078431, 0.43137255, 0.29411765],\n",
       "        ...,\n",
       "        [0.43137255, 0.21176471, 0.18431373],\n",
       "        [0.30588235, 0.1372549 , 0.1254902 ],\n",
       "        [0.24313725, 0.12156863, 0.11764706]],\n",
       "\n",
       "       [[0.76862745, 0.43921569, 0.29803922],\n",
       "        [0.75686275, 0.42745098, 0.28627451],\n",
       "        [0.74509804, 0.41568627, 0.27843137],\n",
       "        ...,\n",
       "        [0.30588235, 0.14509804, 0.12156863],\n",
       "        [0.22745098, 0.10588235, 0.09411765],\n",
       "        [0.19607843, 0.11764706, 0.10980392]]])"
      ]
     },
     "execution_count": 8,
     "metadata": {},
     "output_type": "execute_result"
    }
   ],
   "source": [
    "img_np[:2]"
   ]
  },
  {
   "cell_type": "code",
   "execution_count": 10,
   "metadata": {},
   "outputs": [],
   "source": [
    "img_array = np.expand_dims(img_np, axis=0)"
   ]
  },
  {
   "cell_type": "code",
   "execution_count": 11,
   "metadata": {},
   "outputs": [
    {
     "data": {
      "text/plain": [
       "(1, 229, 229, 3)"
      ]
     },
     "execution_count": 11,
     "metadata": {},
     "output_type": "execute_result"
    }
   ],
   "source": [
    "img_array.shape"
   ]
  },
  {
   "cell_type": "code",
   "execution_count": 12,
   "metadata": {},
   "outputs": [],
   "source": [
    "generator = ImageDataGenerator(\n",
    "    horizontal_flip=0.3\n",
    ")"
   ]
  },
  {
   "cell_type": "code",
   "execution_count": 15,
   "metadata": {},
   "outputs": [],
   "source": [
    "generator.fit(img_array)"
   ]
  },
  {
   "cell_type": "code",
   "execution_count": 16,
   "metadata": {},
   "outputs": [
    {
     "data": {
      "text/plain": [
       "(1, 229, 229, 3)"
      ]
     },
     "execution_count": 16,
     "metadata": {},
     "output_type": "execute_result"
    }
   ],
   "source": [
    "img_array.shape"
   ]
  },
  {
   "cell_type": "code",
   "execution_count": 17,
   "metadata": {},
   "outputs": [
    {
     "data": {
      "text/plain": [
       "array([[[0.75686275, 0.42745098, 0.28627451],\n",
       "        [0.77254902, 0.44313725, 0.30196078],\n",
       "        [0.76078431, 0.43137255, 0.29411765],\n",
       "        ...,\n",
       "        [0.43137255, 0.21176471, 0.18431373],\n",
       "        [0.30588235, 0.1372549 , 0.1254902 ],\n",
       "        [0.24313725, 0.12156863, 0.11764706]],\n",
       "\n",
       "       [[0.76862745, 0.43921569, 0.29803922],\n",
       "        [0.75686275, 0.42745098, 0.28627451],\n",
       "        [0.74509804, 0.41568627, 0.27843137],\n",
       "        ...,\n",
       "        [0.30588235, 0.14509804, 0.12156863],\n",
       "        [0.22745098, 0.10588235, 0.09411765],\n",
       "        [0.19607843, 0.11764706, 0.10980392]]])"
      ]
     },
     "execution_count": 17,
     "metadata": {},
     "output_type": "execute_result"
    }
   ],
   "source": [
    "img_array[0][:2]"
   ]
  },
  {
   "cell_type": "code",
   "execution_count": 18,
   "metadata": {},
   "outputs": [],
   "source": [
    "iter = generator.flow(img_array, batch_size=1)"
   ]
  },
  {
   "cell_type": "code",
   "execution_count": 19,
   "metadata": {},
   "outputs": [
    {
     "data": {
      "text/plain": [
       "array([[[[0.75686276, 0.42745098, 0.28627452],\n",
       "         [0.77254903, 0.44313726, 0.3019608 ],\n",
       "         [0.7607843 , 0.43137255, 0.29411766],\n",
       "         ...,\n",
       "         [0.43137255, 0.21176471, 0.18431373],\n",
       "         [0.30588236, 0.13725491, 0.1254902 ],\n",
       "         [0.24313726, 0.12156863, 0.11764706]],\n",
       "\n",
       "        [[0.76862746, 0.4392157 , 0.29803923],\n",
       "         [0.75686276, 0.42745098, 0.28627452],\n",
       "         [0.74509805, 0.41568628, 0.2784314 ],\n",
       "         ...,\n",
       "         [0.30588236, 0.14509805, 0.12156863],\n",
       "         [0.22745098, 0.10588235, 0.09411765],\n",
       "         [0.19607843, 0.11764706, 0.10980392]],\n",
       "\n",
       "        [[0.76862746, 0.4392157 , 0.29803923],\n",
       "         [0.7647059 , 0.43529412, 0.29411766],\n",
       "         [0.75686276, 0.42745098, 0.29411766],\n",
       "         ...,\n",
       "         [0.21176471, 0.11372549, 0.10196079],\n",
       "         [0.18431373, 0.10980392, 0.10588235],\n",
       "         [0.1764706 , 0.12156863, 0.11764706]],\n",
       "\n",
       "        ...,\n",
       "\n",
       "        [[0.39215687, 0.21960784, 0.1764706 ],\n",
       "         [0.4392157 , 0.23529412, 0.18039216],\n",
       "         [0.5568628 , 0.2901961 , 0.20784314],\n",
       "         ...,\n",
       "         [0.40784314, 0.2509804 , 0.22352941],\n",
       "         [0.4       , 0.2509804 , 0.23137255],\n",
       "         [0.40784314, 0.26666668, 0.25882354]],\n",
       "\n",
       "        [[0.39607844, 0.22352941, 0.18431373],\n",
       "         [0.45882353, 0.2509804 , 0.19607843],\n",
       "         [0.5568628 , 0.28627452, 0.20392157],\n",
       "         ...,\n",
       "         [0.41960785, 0.27058825, 0.23921569],\n",
       "         [0.4117647 , 0.27450982, 0.25882354],\n",
       "         [0.38039216, 0.24705882, 0.23921569]],\n",
       "\n",
       "        [[0.43529412, 0.25882354, 0.21960784],\n",
       "         [0.45490196, 0.23921569, 0.1882353 ],\n",
       "         [0.5568628 , 0.28235295, 0.20392157],\n",
       "         ...,\n",
       "         [0.42352942, 0.2901961 , 0.25882354],\n",
       "         [0.39607844, 0.26666668, 0.2509804 ],\n",
       "         [0.35686275, 0.23529412, 0.22745098]]]], dtype=float32)"
      ]
     },
     "execution_count": 19,
     "metadata": {},
     "output_type": "execute_result"
    }
   ],
   "source": [
    "iter.next()"
   ]
  },
  {
   "cell_type": "code",
   "execution_count": null,
   "metadata": {},
   "outputs": [],
   "source": []
  }
 ],
 "metadata": {
  "kernelspec": {
   "display_name": "Python 3",
   "language": "python",
   "name": "python3"
  },
  "language_info": {
   "codemirror_mode": {
    "name": "ipython",
    "version": 3
   },
   "file_extension": ".py",
   "mimetype": "text/x-python",
   "name": "python",
   "nbconvert_exporter": "python",
   "pygments_lexer": "ipython3",
   "version": "3.7.4"
  }
 },
 "nbformat": 4,
 "nbformat_minor": 4
}
