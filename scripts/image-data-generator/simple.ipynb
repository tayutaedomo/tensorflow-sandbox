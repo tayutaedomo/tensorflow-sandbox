{
 "cells": [
  {
   "cell_type": "code",
   "execution_count": 1,
   "metadata": {},
   "outputs": [],
   "source": [
    "from tensorflow.keras.preprocessing.image import load_img, img_to_array\n",
    "from tensorflow.keras.preprocessing.image import ImageDataGenerator\n",
    "import numpy as np"
   ]
  },
  {
   "cell_type": "markdown",
   "metadata": {},
   "source": [
    "Refer: https://keras.io/ja/preprocessing/image/"
   ]
  },
  {
   "cell_type": "code",
   "execution_count": 2,
   "metadata": {},
   "outputs": [],
   "source": [
    "output_dir = 'data'\n",
    "file_path = './data/sample.png'"
   ]
  },
  {
   "cell_type": "code",
   "execution_count": 3,
   "metadata": {},
   "outputs": [],
   "source": [
    "img = load_img(file_path)"
   ]
  },
  {
   "cell_type": "code",
   "execution_count": 4,
   "metadata": {},
   "outputs": [
    {
     "data": {
      "text/plain": [
       "PIL.JpegImagePlugin.JpegImageFile"
      ]
     },
     "execution_count": 4,
     "metadata": {},
     "output_type": "execute_result"
    }
   ],
   "source": [
    "type(img)"
   ]
  },
  {
   "cell_type": "code",
   "execution_count": 5,
   "metadata": {},
   "outputs": [
    {
     "data": {
      "text/plain": [
       "{'jfif': 257,\n",
       " 'jfif_version': (1, 1),\n",
       " 'dpi': (96, 96),\n",
       " 'jfif_unit': 1,\n",
       " 'jfif_density': (96, 96),\n",
       " 'exif': b'Exif\\x00\\x00II*\\x00\\x08\\x00\\x00\\x00\\x02\\x001\\x01\\x02\\x00\\x0b\\x00\\x00\\x00&\\x00\\x00\\x00i\\x87\\x04\\x00\\x01\\x00\\x00\\x002\\x00\\x00\\x00\\x00\\x00\\x00\\x00Picasa 3.0\\x00\\x00\\x04\\x00\\x02\\xa0\\x04\\x00\\x01\\x00\\x00\\x00\\x08\\x02\\x00\\x00\\x03\\xa0\\x04\\x00\\x01\\x00\\x00\\x00\\x08\\x02\\x00\\x00\\x00\\x90\\x07\\x00\\x04\\x00\\x00\\x000210\\x05\\xa0\\x04\\x00\\x01\\x00\\x00\\x00h\\x00\\x00\\x00\\x00\\x00\\x00\\x00\\x02\\x00\\x01\\x00\\x02\\x00\\x05\\x00\\x00\\x00\\x86\\x00\\x00\\x00\\x02\\x00\\x07\\x00\\x04\\x00\\x00\\x000100\\x00\\x00\\x00\\x00    \\x00\\x00',\n",
       " 'photoshop': {1028: b''}}"
      ]
     },
     "execution_count": 5,
     "metadata": {},
     "output_type": "execute_result"
    }
   ],
   "source": [
    "img.info"
   ]
  },
  {
   "cell_type": "code",
   "execution_count": 6,
   "metadata": {},
   "outputs": [],
   "source": [
    "img_array = img_to_array(img)"
   ]
  },
  {
   "cell_type": "code",
   "execution_count": 7,
   "metadata": {},
   "outputs": [
    {
     "name": "stdout",
     "output_type": "stream",
     "text": [
      "<class 'numpy.ndarray'>\n",
      "(520, 520, 3)\n"
     ]
    }
   ],
   "source": [
    "print(type(img_array))\n",
    "print(img_array.shape)"
   ]
  },
  {
   "cell_type": "code",
   "execution_count": 8,
   "metadata": {},
   "outputs": [],
   "source": [
    "img_array = np.expand_dims(img_array, axis=0)"
   ]
  },
  {
   "cell_type": "code",
   "execution_count": 9,
   "metadata": {},
   "outputs": [
    {
     "name": "stdout",
     "output_type": "stream",
     "text": [
      "(1, 520, 520, 3)\n"
     ]
    }
   ],
   "source": [
    "print(img_array.shape)"
   ]
  },
  {
   "cell_type": "code",
   "execution_count": 10,
   "metadata": {},
   "outputs": [],
   "source": [
    "generator = ImageDataGenerator(\n",
    "    horizontal_flip=True)"
   ]
  },
  {
   "cell_type": "code",
   "execution_count": 11,
   "metadata": {},
   "outputs": [],
   "source": [
    "iter = generator.flow(img_array, batch_size=1, save_to_dir=output_dir, save_prefix='gen_', save_format='jpg')"
   ]
  },
  {
   "cell_type": "code",
   "execution_count": 12,
   "metadata": {},
   "outputs": [
    {
     "data": {
      "text/plain": [
       "array([[[[195., 111.,  74.],\n",
       "         [194., 110.,  73.],\n",
       "         [195., 111.,  75.],\n",
       "         ...,\n",
       "         [ 72.,  32.,  30.],\n",
       "         [ 68.,  34.,  33.],\n",
       "         [ 63.,  35.,  34.]],\n",
       "\n",
       "        [[192., 108.,  71.],\n",
       "         [193., 109.,  72.],\n",
       "         [196., 112.,  76.],\n",
       "         ...,\n",
       "         [ 66.,  28.,  27.],\n",
       "         [ 62.,  31.,  29.],\n",
       "         [ 57.,  31.,  30.]],\n",
       "\n",
       "        [[194., 110.,  73.],\n",
       "         [194., 110.,  74.],\n",
       "         [196., 112.,  76.],\n",
       "         ...,\n",
       "         [ 58.,  27.,  24.],\n",
       "         [ 56.,  30.,  29.],\n",
       "         [ 52.,  31.,  30.]],\n",
       "\n",
       "        ...,\n",
       "\n",
       "        [[102.,  59.,  50.],\n",
       "         [ 98.,  54.,  43.],\n",
       "         [112.,  64.,  52.],\n",
       "         ...,\n",
       "         [100.,  66.,  64.],\n",
       "         [ 93.,  59.,  57.],\n",
       "         [ 88.,  54.,  53.]],\n",
       "\n",
       "        [[112.,  69.,  60.],\n",
       "         [108.,  64.,  53.],\n",
       "         [109.,  59.,  48.],\n",
       "         ...,\n",
       "         [ 98.,  64.,  62.],\n",
       "         [ 92.,  61.,  58.],\n",
       "         [ 89.,  58.,  56.]],\n",
       "\n",
       "        [[118.,  75.,  66.],\n",
       "         [117.,  70.,  60.],\n",
       "         [110.,  60.,  49.],\n",
       "         ...,\n",
       "         [ 94.,  63.,  60.],\n",
       "         [ 92.,  61.,  59.],\n",
       "         [ 93.,  62.,  60.]]]], dtype=float32)"
      ]
     },
     "execution_count": 12,
     "metadata": {},
     "output_type": "execute_result"
    }
   ],
   "source": [
    "iter.next()"
   ]
  },
  {
   "cell_type": "code",
   "execution_count": 13,
   "metadata": {},
   "outputs": [
    {
     "data": {
      "text/plain": [
       "array([[[[195., 111.,  74.],\n",
       "         [194., 110.,  73.],\n",
       "         [195., 111.,  75.],\n",
       "         ...,\n",
       "         [ 72.,  32.,  30.],\n",
       "         [ 68.,  34.,  33.],\n",
       "         [ 63.,  35.,  34.]],\n",
       "\n",
       "        [[192., 108.,  71.],\n",
       "         [193., 109.,  72.],\n",
       "         [196., 112.,  76.],\n",
       "         ...,\n",
       "         [ 66.,  28.,  27.],\n",
       "         [ 62.,  31.,  29.],\n",
       "         [ 57.,  31.,  30.]],\n",
       "\n",
       "        [[194., 110.,  73.],\n",
       "         [194., 110.,  74.],\n",
       "         [196., 112.,  76.],\n",
       "         ...,\n",
       "         [ 58.,  27.,  24.],\n",
       "         [ 56.,  30.,  29.],\n",
       "         [ 52.,  31.,  30.]],\n",
       "\n",
       "        ...,\n",
       "\n",
       "        [[102.,  59.,  50.],\n",
       "         [ 98.,  54.,  43.],\n",
       "         [112.,  64.,  52.],\n",
       "         ...,\n",
       "         [100.,  66.,  64.],\n",
       "         [ 93.,  59.,  57.],\n",
       "         [ 88.,  54.,  53.]],\n",
       "\n",
       "        [[112.,  69.,  60.],\n",
       "         [108.,  64.,  53.],\n",
       "         [109.,  59.,  48.],\n",
       "         ...,\n",
       "         [ 98.,  64.,  62.],\n",
       "         [ 92.,  61.,  58.],\n",
       "         [ 89.,  58.,  56.]],\n",
       "\n",
       "        [[118.,  75.,  66.],\n",
       "         [117.,  70.,  60.],\n",
       "         [110.,  60.,  49.],\n",
       "         ...,\n",
       "         [ 94.,  63.,  60.],\n",
       "         [ 92.,  61.,  59.],\n",
       "         [ 93.,  62.,  60.]]]], dtype=float32)"
      ]
     },
     "execution_count": 13,
     "metadata": {},
     "output_type": "execute_result"
    }
   ],
   "source": [
    "iter.next()"
   ]
  },
  {
   "cell_type": "code",
   "execution_count": null,
   "metadata": {},
   "outputs": [],
   "source": []
  }
 ],
 "metadata": {
  "kernelspec": {
   "display_name": "Python 3",
   "language": "python",
   "name": "python3"
  },
  "language_info": {
   "codemirror_mode": {
    "name": "ipython",
    "version": 3
   },
   "file_extension": ".py",
   "mimetype": "text/x-python",
   "name": "python",
   "nbconvert_exporter": "python",
   "pygments_lexer": "ipython3",
   "version": "3.7.4"
  }
 },
 "nbformat": 4,
 "nbformat_minor": 4
}
