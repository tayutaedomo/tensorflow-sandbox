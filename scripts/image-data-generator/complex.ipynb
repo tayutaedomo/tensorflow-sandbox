{
 "cells": [
  {
   "cell_type": "code",
   "execution_count": 1,
   "metadata": {},
   "outputs": [],
   "source": [
    "from tensorflow.keras.preprocessing.image import load_img, img_to_array\n",
    "from tensorflow.keras.preprocessing.image import ImageDataGenerator\n",
    "import numpy as np"
   ]
  },
  {
   "cell_type": "code",
   "execution_count": 2,
   "metadata": {},
   "outputs": [],
   "source": [
    "output_dir = 'data'\n",
    "file_path = './data/sample.png'"
   ]
  },
  {
   "cell_type": "code",
   "execution_count": 3,
   "metadata": {},
   "outputs": [],
   "source": [
    "img = load_img(file_path)"
   ]
  },
  {
   "cell_type": "code",
   "execution_count": 4,
   "metadata": {},
   "outputs": [],
   "source": [
    "img_array = img_to_array(img)"
   ]
  },
  {
   "cell_type": "code",
   "execution_count": 5,
   "metadata": {},
   "outputs": [
    {
     "name": "stdout",
     "output_type": "stream",
     "text": [
      "(520, 520, 3)\n"
     ]
    }
   ],
   "source": [
    "print(img_array.shape)"
   ]
  },
  {
   "cell_type": "code",
   "execution_count": 6,
   "metadata": {},
   "outputs": [],
   "source": [
    "img_array = np.expand_dims(img_array, axis=0)"
   ]
  },
  {
   "cell_type": "code",
   "execution_count": 7,
   "metadata": {},
   "outputs": [
    {
     "name": "stdout",
     "output_type": "stream",
     "text": [
      "(1, 520, 520, 3)\n"
     ]
    }
   ],
   "source": [
    "print(img_array.shape)"
   ]
  },
  {
   "cell_type": "code",
   "execution_count": 14,
   "metadata": {},
   "outputs": [],
   "source": [
    "datagen = ImageDataGenerator(\n",
    "    #rotation_range=180,     # randomly rotate images in the range\n",
    "    zoom_range=0.2,         # randomly zoom image\n",
    "    width_shift_range=0.2,  # randomly shift images horizontally\n",
    "    height_shift_range=0.2, # randomly shift images vertically\n",
    "    horizontal_flip=True,   # randomly flip images horizontally\n",
    "    #vertical_flip=True          # randomly flip images vertically\n",
    ")"
   ]
  },
  {
   "cell_type": "code",
   "execution_count": 15,
   "metadata": {},
   "outputs": [],
   "source": [
    "iter = datagen.flow(img_array, batch_size=1, save_to_dir=output_dir, save_prefix='comp_', save_format='jpg')"
   ]
  },
  {
   "cell_type": "code",
   "execution_count": 16,
   "metadata": {},
   "outputs": [
    {
     "name": "stdout",
     "output_type": "stream",
     "text": [
      "0 (1, 520, 520, 3)\n",
      "1 (1, 520, 520, 3)\n",
      "2 (1, 520, 520, 3)\n",
      "3 (1, 520, 520, 3)\n",
      "4 (1, 520, 520, 3)\n",
      "5 (1, 520, 520, 3)\n",
      "6 (1, 520, 520, 3)\n",
      "7 (1, 520, 520, 3)\n",
      "8 (1, 520, 520, 3)\n",
      "9 (1, 520, 520, 3)\n",
      "10 (1, 520, 520, 3)\n",
      "11 (1, 520, 520, 3)\n",
      "12 (1, 520, 520, 3)\n",
      "13 (1, 520, 520, 3)\n",
      "14 (1, 520, 520, 3)\n",
      "15 (1, 520, 520, 3)\n",
      "16 (1, 520, 520, 3)\n",
      "17 (1, 520, 520, 3)\n",
      "18 (1, 520, 520, 3)\n",
      "19 (1, 520, 520, 3)\n"
     ]
    }
   ],
   "source": [
    "for i in range(20):\n",
    "    ret =iter.next()\n",
    "    print(i, ret.shape)"
   ]
  },
  {
   "cell_type": "code",
   "execution_count": null,
   "metadata": {},
   "outputs": [],
   "source": []
  }
 ],
 "metadata": {
  "kernelspec": {
   "display_name": "Python 3",
   "language": "python",
   "name": "python3"
  },
  "language_info": {
   "codemirror_mode": {
    "name": "ipython",
    "version": 3
   },
   "file_extension": ".py",
   "mimetype": "text/x-python",
   "name": "python",
   "nbconvert_exporter": "python",
   "pygments_lexer": "ipython3",
   "version": "3.7.4"
  }
 },
 "nbformat": 4,
 "nbformat_minor": 4
}
