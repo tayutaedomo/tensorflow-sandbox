{
 "cells": [
  {
   "cell_type": "markdown",
   "metadata": {},
   "source": [
    "- Reference\n",
    "  - Blog: https://work-in-progress.hatenablog.com/entry/2019/04/06/113629\n",
    "  - Source: https://github.com/eriklindernoren/Keras-GAN/blob/master/dcgan/dcgan.py"
   ]
  },
  {
   "cell_type": "code",
   "execution_count": 1,
   "metadata": {},
   "outputs": [],
   "source": [
    "import os"
   ]
  },
  {
   "cell_type": "code",
   "execution_count": 2,
   "metadata": {},
   "outputs": [],
   "source": [
    "os.makedirs('data/images', exist_ok=True)\n",
    "os.makedirs('data/saved_models', exist_ok=True)"
   ]
  },
  {
   "cell_type": "code",
   "execution_count": 3,
   "metadata": {},
   "outputs": [],
   "source": [
    "from tensorflow.keras.datasets import mnist\n",
    "from tensorflow.keras.layers import Input, Dense, Reshape, Flatten, Dropout\n",
    "from tensorflow.keras.layers import BatchNormalization, Activation, ZeroPadding2D\n",
    "from tensorflow.keras.layers import LeakyReLU\n",
    "from tensorflow.keras.layers import UpSampling2D, Conv2D\n",
    "from tensorflow.keras.models import Sequential, Model\n",
    "from tensorflow.keras.optimizers import Adam"
   ]
  },
  {
   "cell_type": "code",
   "execution_count": 4,
   "metadata": {},
   "outputs": [],
   "source": [
    "import matplotlib.pyplot as plt\n",
    "import numpy as np\n",
    "import pandas as pd\n",
    "import datetime"
   ]
  },
  {
   "cell_type": "code",
   "execution_count": 7,
   "metadata": {},
   "outputs": [],
   "source": [
    "class DCGAN():\n",
    "    def __init__(self):\n",
    "        self.history = pd.DataFrame({}, columns=['d_loss', 'acc', 'g_loss'])\n",
    "\n",
    "        self.img_save_dir = 'data/images'\n",
    "        self.model_save_dir = 'data/saved_models'\n",
    "        self.discriminator_name = 'discriminator_model'\n",
    "        self.generator_name = 'generator_model'\n",
    "        self.combined_name = 'combined_model'\n",
    "\n",
    "        self.discriminator = None\n",
    "        self.generator = None\n",
    "        self.combined = None\n",
    "\n",
    "        # NHWC\n",
    "        self.img_rows = 28\n",
    "        self.img_cols = 28\n",
    "        self.channels = 1\n",
    "        self.img_shape = (self.img_rows, self.img_cols, self.channels)\n",
    "\n",
    "        self.latent_dim = 100\n",
    "\n",
    "    def init(self, loading=False):\n",
    "        optimizer = Adam(0.0002, 0.5)\n",
    "\n",
    "        self.discriminator = self.build_discriminator()\n",
    "        self.discriminator.compile(loss='binary_crossentropy',\n",
    "                                   optimizer=optimizer,\n",
    "                                   metrics=['accuracy'])\n",
    "        if loading:\n",
    "            self.load_model_weight(self.discriminator_name)\n",
    "\n",
    "        self.generator = self.build_generator()\n",
    "        if loading:\n",
    "            self.load_model_weight(self.generator_name)\n",
    "\n",
    "        z = Input(shape=(self.latent_dim,))\n",
    "        img = self.generator(z)\n",
    "\n",
    "        # For the combined model we will only train the generator\n",
    "        self.discriminator.trainable = False\n",
    "\n",
    "        # The discriminator takes generated images as input and determines validity\n",
    "        valid = self.discriminator(img)\n",
    "\n",
    "        # The combined model  (stacked generator and discriminator)\n",
    "        # Trains the generator to fool the discriminator\n",
    "        self.combined = Model(z, valid)\n",
    "        self.combined.summary()\n",
    "        self.combined.compile(loss='binary_crossentropy', optimizer=optimizer)\n",
    "        if loading:\n",
    "            self.load_model_weight(self.combined_name)\n",
    "\n",
    "    def build_generator(self):\n",
    "        model = Sequential()\n",
    "\n",
    "        model.add(Dense(128 * 7 * 7, activation='relu', input_dim=self.latent_dim))\n",
    "        model.add(Reshape((7, 7, 128)))\n",
    "        model.add(UpSampling2D())\n",
    "\n",
    "        model.add(Conv2D(128, kernel_size=3, padding='same', data_format='channels_last'))\n",
    "        model.add(BatchNormalization(momentum=0.8))\n",
    "        model.add(Activation('relu'))\n",
    "\n",
    "        model.add(UpSampling2D())\n",
    "        model.add(Conv2D(64, kernel_size=3, padding='same', data_format='channels_last'))\n",
    "        model.add(BatchNormalization(momentum=0.8))\n",
    "        model.add(Activation('relu'))\n",
    "\n",
    "        model.add(Conv2D(self.channels, kernel_size=3, padding='same', data_format='channels_last'))\n",
    "        model.add(Activation('tanh'))\n",
    "\n",
    "        model.summary()\n",
    "\n",
    "        noise = Input(shape=(self.latent_dim,))\n",
    "        img = model(noise)\n",
    "\n",
    "        return Model(noise, img)\n",
    "\n",
    "    def build_discriminator(self):\n",
    "        model = Sequential()\n",
    "\n",
    "        model.add(Conv2D(32, kernel_size=3, strides=2, input_shape=self.img_shape, padding='same', data_format='channels_last'))\n",
    "        model.add(LeakyReLU(alpha=0.2))\n",
    "        model.add(Dropout(0.25))\n",
    "\n",
    "        model.add(Conv2D(64, kernel_size=3, strides=2, padding='same', data_format='channels_last'))\n",
    "        model.add(ZeroPadding2D(padding=((0, 1), (0, 1))))\n",
    "        model.add(BatchNormalization(momentum=0.8))\n",
    "        model.add(LeakyReLU(alpha=0.2))\n",
    "        model.add(Dropout(0.25))\n",
    "\n",
    "        model.add(Conv2D(128, kernel_size=3, strides=2, padding='same', data_format='channels_last'))\n",
    "        model.add(BatchNormalization(momentum=0.8))\n",
    "        model.add(LeakyReLU(alpha=0.2))\n",
    "        model.add(Dropout(0.25))\n",
    "\n",
    "        model.add(Conv2D(256, kernel_size=3, strides=1, padding='same', data_format='channels_last'))\n",
    "        model.add(BatchNormalization(momentum=0.8))\n",
    "        model.add(LeakyReLU(alpha=0.2))\n",
    "        model.add(Dropout(0.25))\n",
    "\n",
    "        model.add(Flatten())\n",
    "\n",
    "        model.add(Dense(1, activation='sigmoid'))\n",
    "\n",
    "        model.summary()\n",
    "\n",
    "        img = Input(shape=self.img_shape)\n",
    "        validity = model(img)\n",
    "\n",
    "        return Model(img, validity)\n",
    "\n",
    "    def train(self, epochs, batch_size=128, sample_interval=-1, save_interval=-1):\n",
    "        # Load the dataset\n",
    "        (X_train, _), (_, _) = mnist.load_data()\n",
    "        #print(X_train.shape)\n",
    "\n",
    "        # Rescale -1 to 1\n",
    "        X_train = X_train / 127.5 - 1.\n",
    "        X_train = np.expand_dims(X_train, axis=3)\n",
    "        #print(X_train.shape)\n",
    "\n",
    "        # Adversarial ground truths\n",
    "        valid = np.ones((batch_size, 1))\n",
    "        fake = np.zeros((batch_size, 1))\n",
    "\n",
    "        print(datetime.datetime.now().isoformat(), 'Epoch Start')\n",
    "\n",
    "        for epoch in range(epochs):\n",
    "            # Select a random batch of images\n",
    "            idx = np.random.randint(0, X_train.shape[0], batch_size)\n",
    "            imgs = X_train[idx]\n",
    "\n",
    "            # Sample noise and generate a batch of new images\n",
    "            noise = np.random.normal(0, 1, (batch_size, self.latent_dim))\n",
    "            gen_imgs = self.generator.predict(noise)\n",
    "\n",
    "            # Train the discriminator (real classified as ones and generated as zeros)\n",
    "            d_loss_real = self.discriminator.train_on_batch(imgs, valid)\n",
    "            d_loss_fake = self.discriminator.train_on_batch(gen_imgs, fake)\n",
    "            d_loss = 0.5 * np.add(d_loss_real, d_loss_fake)\n",
    "\n",
    "            # Train the generator (wants discriminator to mistake images as real)\n",
    "            g_loss = self.combined.train_on_batch(noise, valid)\n",
    "\n",
    "            self.history = self.history.append({'d_loss': d_loss[0], 'acc': d_loss[1], 'g_loss': g_loss}, ignore_index=True)\n",
    "\n",
    "            if sample_interval > 0 and epoch % sample_interval == 0:\n",
    "                print(datetime.datetime.now().isoformat(), '%d [D loss: %f, acc.: %.2f%%] [G loss: %f]' % (epoch, d_loss[0], 100*d_loss[1], g_loss))\n",
    "                self.sample_images(epoch)\n",
    "\n",
    "            if save_interval > 0 and epoch != 0 and epoch % save_interval == 0:\n",
    "                self.save_model_weights_all()\n",
    "                \n",
    "        print(datetime.datetime.now().isoformat(), 'Epoch End')\n",
    "\n",
    "    def generate_image(self):\n",
    "        noise = np.random.normal(0, 1, (1, self.latent_dim))\n",
    "        return self.generator.predict(noise)\n",
    "\n",
    "    def sample_images(self, epoch):\n",
    "        r, c = 5, 5\n",
    "        noise = np.random.normal(0, 1, (r * c, self.latent_dim))\n",
    "        gen_imgs = self.generator.predict(noise)\n",
    "\n",
    "        # Rescale images 0 - 1\n",
    "        gen_imgs = 0.5 * gen_imgs + 0.5\n",
    "\n",
    "        fig, axs = plt.subplots(r, c)\n",
    "        cnt = 0\n",
    "\n",
    "        for i in range(r):\n",
    "            for j in range(c):\n",
    "                axs[i, j].imshow(gen_imgs[cnt, :, :, 0], cmap='gray')\n",
    "                axs[i, j].axis('off')\n",
    "                cnt += 1\n",
    "\n",
    "        file_name = 'mnist_{}.png'.format(epoch)\n",
    "        file_path = os.path.join(self.img_save_dir, file_name)\n",
    "        fig.savefig(file_path)\n",
    "\n",
    "        plt.close()\n",
    "\n",
    "    def plot_hisotry(self, columns=[]):\n",
    "        if len(columns) == 0:\n",
    "            columns = ['d_loss', 'acc', 'g_loss']\n",
    "        self.history[columns].plot()\n",
    " \n",
    "    def save_model_weights_all(self):\n",
    "        self.save_model_weights(self.discriminator, self.discriminator_name)\n",
    "        self.save_model_weights(self.generator, self.generator_name)\n",
    "        self.save_model_weights(self.combined, self.combined_name)\n",
    "\n",
    "    def save_model_weights(self, model, model_name):\n",
    "        weights_path = os.path.join(self.model_save_dir, '{}.h5'.format(model_name))\n",
    "        model.save_weights(weights_path)\n",
    "\n",
    "        print('Weights saved.', model_name)\n",
    "\n",
    "    def load_model_weight(self, model_name):\n",
    "        model = None\n",
    "\n",
    "        if model_name == self.discriminator_name:\n",
    "            model = self.discriminator\n",
    "        elif model_name == self.generator_name:\n",
    "            model = self.generator\n",
    "        elif model_name == self.combined_name:\n",
    "            model = self.combined\n",
    "\n",
    "        if not model:\n",
    "            print('Model is not initialized.', model_name)\n",
    "            return\n",
    "\n",
    "        weights_path = os.path.join(self.model_save_dir, '{}.h5'.format(model_name))\n",
    "\n",
    "        if not os.path.exists(weights_path):\n",
    "            print('Not found h5 file.', model_name)\n",
    "            return\n",
    "\n",
    "        model.load_weights(weights_path)\n",
    "\n",
    "        print('Weights loaded.', model_name)"
   ]
  },
  {
   "cell_type": "code",
   "execution_count": 8,
   "metadata": {
    "scrolled": true
   },
   "outputs": [
    {
     "name": "stdout",
     "output_type": "stream",
     "text": [
      "Model: \"sequential_2\"\n",
      "_________________________________________________________________\n",
      "Layer (type)                 Output Shape              Param #   \n",
      "=================================================================\n",
      "conv2d_7 (Conv2D)            (None, 14, 14, 32)        320       \n",
      "_________________________________________________________________\n",
      "leaky_re_lu_4 (LeakyReLU)    (None, 14, 14, 32)        0         \n",
      "_________________________________________________________________\n",
      "dropout_4 (Dropout)          (None, 14, 14, 32)        0         \n",
      "_________________________________________________________________\n",
      "conv2d_8 (Conv2D)            (None, 7, 7, 64)          18496     \n",
      "_________________________________________________________________\n",
      "zero_padding2d_1 (ZeroPaddin (None, 8, 8, 64)          0         \n",
      "_________________________________________________________________\n",
      "batch_normalization_5 (Batch (None, 8, 8, 64)          256       \n",
      "_________________________________________________________________\n",
      "leaky_re_lu_5 (LeakyReLU)    (None, 8, 8, 64)          0         \n",
      "_________________________________________________________________\n",
      "dropout_5 (Dropout)          (None, 8, 8, 64)          0         \n",
      "_________________________________________________________________\n",
      "conv2d_9 (Conv2D)            (None, 4, 4, 128)         73856     \n",
      "_________________________________________________________________\n",
      "batch_normalization_6 (Batch (None, 4, 4, 128)         512       \n",
      "_________________________________________________________________\n",
      "leaky_re_lu_6 (LeakyReLU)    (None, 4, 4, 128)         0         \n",
      "_________________________________________________________________\n",
      "dropout_6 (Dropout)          (None, 4, 4, 128)         0         \n",
      "_________________________________________________________________\n",
      "conv2d_10 (Conv2D)           (None, 4, 4, 256)         295168    \n",
      "_________________________________________________________________\n",
      "batch_normalization_7 (Batch (None, 4, 4, 256)         1024      \n",
      "_________________________________________________________________\n",
      "leaky_re_lu_7 (LeakyReLU)    (None, 4, 4, 256)         0         \n",
      "_________________________________________________________________\n",
      "dropout_7 (Dropout)          (None, 4, 4, 256)         0         \n",
      "_________________________________________________________________\n",
      "flatten_1 (Flatten)          (None, 4096)              0         \n",
      "_________________________________________________________________\n",
      "dense_2 (Dense)              (None, 1)                 4097      \n",
      "=================================================================\n",
      "Total params: 393,729\n",
      "Trainable params: 392,833\n",
      "Non-trainable params: 896\n",
      "_________________________________________________________________\n",
      "Model: \"sequential_3\"\n",
      "_________________________________________________________________\n",
      "Layer (type)                 Output Shape              Param #   \n",
      "=================================================================\n",
      "dense_3 (Dense)              (None, 6272)              633472    \n",
      "_________________________________________________________________\n",
      "reshape_1 (Reshape)          (None, 7, 7, 128)         0         \n",
      "_________________________________________________________________\n",
      "up_sampling2d_2 (UpSampling2 (None, 14, 14, 128)       0         \n",
      "_________________________________________________________________\n",
      "conv2d_11 (Conv2D)           (None, 14, 14, 128)       147584    \n",
      "_________________________________________________________________\n",
      "batch_normalization_8 (Batch (None, 14, 14, 128)       512       \n",
      "_________________________________________________________________\n",
      "activation_3 (Activation)    (None, 14, 14, 128)       0         \n",
      "_________________________________________________________________\n",
      "up_sampling2d_3 (UpSampling2 (None, 28, 28, 128)       0         \n",
      "_________________________________________________________________\n",
      "conv2d_12 (Conv2D)           (None, 28, 28, 64)        73792     \n",
      "_________________________________________________________________\n",
      "batch_normalization_9 (Batch (None, 28, 28, 64)        256       \n",
      "_________________________________________________________________\n",
      "activation_4 (Activation)    (None, 28, 28, 64)        0         \n",
      "_________________________________________________________________\n",
      "conv2d_13 (Conv2D)           (None, 28, 28, 1)         577       \n",
      "_________________________________________________________________\n",
      "activation_5 (Activation)    (None, 28, 28, 1)         0         \n",
      "=================================================================\n",
      "Total params: 856,193\n",
      "Trainable params: 855,809\n",
      "Non-trainable params: 384\n",
      "_________________________________________________________________\n",
      "Model: \"model_4\"\n",
      "_________________________________________________________________\n",
      "Layer (type)                 Output Shape              Param #   \n",
      "=================================================================\n",
      "input_6 (InputLayer)         [(None, 100)]             0         \n",
      "_________________________________________________________________\n",
      "model_3 (Model)              (None, 28, 28, 1)         856193    \n",
      "_________________________________________________________________\n",
      "model_2 (Model)              (None, 1)                 393729    \n",
      "=================================================================\n",
      "Total params: 1,249,922\n",
      "Trainable params: 855,809\n",
      "Non-trainable params: 394,113\n",
      "_________________________________________________________________\n"
     ]
    }
   ],
   "source": [
    "dcgan = DCGAN()\n",
    "dcgan.init()\n",
    "#dcgan.init(loading=True)"
   ]
  },
  {
   "cell_type": "code",
   "execution_count": 9,
   "metadata": {},
   "outputs": [
    {
     "name": "stdout",
     "output_type": "stream",
     "text": [
      "2020-07-20T19:44:14.712919 Epoch Start\n",
      "2020-07-20T19:44:16.649003 0 [D loss: 0.941083, acc.: 39.06%] [G loss: 0.680272]\n",
      "2020-07-20T19:44:18.062313 3 [D loss: 0.153694, acc.: 98.44%] [G loss: 0.808212]\n",
      "Weights saved. discriminator_model\n",
      "Weights saved. generator_model\n",
      "Weights saved. combined_model\n",
      "2020-07-20T19:44:19.373264 6 [D loss: 0.447688, acc.: 75.00%] [G loss: 1.488739]\n",
      "Weights saved. discriminator_model\n",
      "Weights saved. generator_model\n",
      "Weights saved. combined_model\n",
      "2020-07-20T19:44:20.749591 9 [D loss: 0.534962, acc.: 68.75%] [G loss: 1.376726]\n",
      "Weights saved. discriminator_model\n",
      "Weights saved. generator_model\n",
      "Weights saved. combined_model\n",
      "2020-07-20T19:44:21.256046 Epoch End\n"
     ]
    }
   ],
   "source": [
    "#dcgan.train(epochs=500, batch_size=32, sample_interval=50, save_interval=50)\n",
    "#dcgan.train(epochs=500, batch_size=32, sample_interval=50)\n",
    "#dcgan.save_model_weights_all()\n",
    "\n",
    "dcgan.train(epochs=10, batch_size=32, sample_interval=3, save_interval=3)"
   ]
  },
  {
   "cell_type": "code",
   "execution_count": 10,
   "metadata": {},
   "outputs": [
    {
     "name": "stdout",
     "output_type": "stream",
     "text": [
      "2020-07-20T19:45:45.032067 Epoch Start\n",
      "2020-07-20T19:45:45.307815 0 [D loss: 0.346159, acc.: 84.38%] [G loss: 1.136025]\n",
      "2020-07-20T19:45:59.046472 50 [D loss: 0.710448, acc.: 51.56%] [G loss: 1.317258]\n",
      "2020-07-20T19:46:13.651003 100 [D loss: 0.809039, acc.: 50.00%] [G loss: 1.233445]\n",
      "2020-07-20T19:46:28.227528 150 [D loss: 0.865840, acc.: 50.00%] [G loss: 1.073700]\n",
      "2020-07-20T19:46:43.305090 200 [D loss: 0.779642, acc.: 56.25%] [G loss: 1.106775]\n",
      "2020-07-20T19:46:58.256123 250 [D loss: 0.663817, acc.: 60.94%] [G loss: 0.982314]\n",
      "2020-07-20T19:47:13.722206 300 [D loss: 0.556967, acc.: 68.75%] [G loss: 1.093210]\n",
      "2020-07-20T19:47:28.565918 350 [D loss: 0.191812, acc.: 98.44%] [G loss: 0.925282]\n",
      "2020-07-20T19:47:43.429664 400 [D loss: 0.328613, acc.: 87.50%] [G loss: 0.949822]\n",
      "2020-07-20T19:47:58.416251 450 [D loss: 0.054485, acc.: 100.00%] [G loss: 0.924554]\n",
      "2020-07-20T19:48:13.242152 500 [D loss: 0.059075, acc.: 100.00%] [G loss: 0.538307]\n",
      "2020-07-20T19:48:27.841032 550 [D loss: 0.032597, acc.: 100.00%] [G loss: 1.583555]\n",
      "2020-07-20T19:48:42.865254 600 [D loss: 0.035057, acc.: 100.00%] [G loss: 0.872261]\n",
      "2020-07-20T19:48:57.445734 650 [D loss: 0.011326, acc.: 100.00%] [G loss: 0.980807]\n",
      "2020-07-20T19:49:12.263896 700 [D loss: 0.041441, acc.: 100.00%] [G loss: 1.539974]\n",
      "2020-07-20T19:49:26.705657 750 [D loss: 0.003037, acc.: 100.00%] [G loss: 1.028109]\n",
      "2020-07-20T19:49:41.164354 800 [D loss: 0.050244, acc.: 100.00%] [G loss: 0.633008]\n",
      "2020-07-20T19:49:56.095204 850 [D loss: 0.010786, acc.: 100.00%] [G loss: 2.027960]\n",
      "2020-07-20T19:50:10.956102 900 [D loss: 0.016281, acc.: 100.00%] [G loss: 1.268823]\n",
      "2020-07-20T19:50:25.647648 950 [D loss: 0.019872, acc.: 100.00%] [G loss: 1.252290]\n",
      "2020-07-20T19:50:40.019331 Epoch End\n",
      "Weights saved. discriminator_model\n",
      "Weights saved. generator_model\n",
      "Weights saved. combined_model\n"
     ]
    }
   ],
   "source": [
    "dcgan.train(epochs=1000, batch_size=32, sample_interval=50)\n",
    "\n",
    "dcgan.save_model_weights_all()"
   ]
  },
  {
   "cell_type": "code",
   "execution_count": 11,
   "metadata": {},
   "outputs": [
    {
     "data": {
      "image/png": "[encoded data removed]",
      "text/plain": [
       "<Figure size 432x288 with 1 Axes>"
      ]
     },
     "metadata": {
      "needs_background": "light"
     },
     "output_type": "display_data"
    }
   ],
   "source": [
    "dcgan.plot_hisotry(['d_loss', 'g_loss'])"
   ]
  },
  {
   "cell_type": "code",
   "execution_count": 12,
   "metadata": {},
   "outputs": [
    {
     "data": {
      "image/png": "[encoded data removed]",
      "text/plain": [
       "<Figure size 432x288 with 1 Axes>"
      ]
     },
     "metadata": {
      "needs_background": "light"
     },
     "output_type": "display_data"
    }
   ],
   "source": [
    "dcgan.plot_hisotry(['acc'])"
   ]
  },
  {
   "cell_type": "code",
   "execution_count": 14,
   "metadata": {},
   "outputs": [
    {
     "data": {
      "text/plain": [
       "<matplotlib.image.AxesImage at 0x1548f1be0>"
      ]
     },
     "execution_count": 14,
     "metadata": {},
     "output_type": "execute_result"
    },
    {
     "data": {
      "image/png": "[encoded data removed]",
      "text/plain": [
       "<Figure size 432x288 with 1 Axes>"
      ]
     },
     "metadata": {
      "needs_background": "light"
     },
     "output_type": "display_data"
    }
   ],
   "source": [
    "plt.imshow((dcgan.generate_image())[0], cmap='gray')"
   ]
  },
  {
   "cell_type": "code",
   "execution_count": null,
   "metadata": {},
   "outputs": [],
   "source": []
  }
 ],
 "metadata": {
  "kernelspec": {
   "display_name": "Python 3",
   "language": "python",
   "name": "python3"
  },
  "language_info": {
   "codemirror_mode": {
    "name": "ipython",
    "version": 3
   },
   "file_extension": ".py",
   "mimetype": "text/x-python",
   "name": "python",
   "nbconvert_exporter": "python",
   "pygments_lexer": "ipython3",
   "version": "3.7.3"
  }
 },
 "nbformat": 4,
 "nbformat_minor": 4
}
